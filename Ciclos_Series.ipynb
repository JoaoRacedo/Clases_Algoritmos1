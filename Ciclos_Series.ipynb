{
  "nbformat": 4,
  "nbformat_minor": 0,
  "metadata": {
    "colab": {
      "name": "Ciclos_Series.ipynb",
      "provenance": []
    },
    "kernelspec": {
      "name": "python3",
      "display_name": "Python 3"
    }
  },
  "cells": [
    {
      "cell_type": "markdown",
      "metadata": {
        "id": "kHDjLIW7upu1",
        "colab_type": "text"
      },
      "source": [
        "# **Ciclos** "
      ]
    },
    {
      "cell_type": "markdown",
      "metadata": {
        "id": "nDuJvp8Du7I0",
        "colab_type": "text"
      },
      "source": [
        "Los ciclos que hemos visto hasta el momento son:\n",
        "\n",
        "1.   Ciclos **Mientras que**\n",
        "2.   Ciclos **Hasta que**\n",
        "3.   Ciclos **Para**\n",
        "\n",
        "\n",
        "\n"
      ]
    },
    {
      "cell_type": "markdown",
      "metadata": {
        "id": "lv7nH1Iuw7kp",
        "colab_type": "text"
      },
      "source": [
        "Veamos un ejemplo:\n",
        "\n",
        "Un día tiene 24 horas, el reloj va desde la hora 0 hasta la hora 23, veamos la implementación de un algoritmo que muestre cada hora durante un día:"
      ]
    },
    {
      "cell_type": "markdown",
      "metadata": {
        "id": "WSAa9nlHu7LP",
        "colab_type": "text"
      },
      "source": [
        "## Ciclos Mientras que"
      ]
    },
    {
      "cell_type": "code",
      "metadata": {
        "id": "TycMEs1XvaKN",
        "colab_type": "code",
        "outputId": "6192a4a6-37b0-4848-9d35-d3513a422baa",
        "colab": {
          "base_uri": "https://localhost:8080/",
          "height": 34
        }
      },
      "source": [
        "%%writefile Mientras_que.java\n",
        "import java.util.Scanner; \n",
        "class Mientras_que\n",
        "{ \n",
        "    public static void main(String args[]) \n",
        "    { \n",
        "      Scanner s = new Scanner(System.in); // nuestra herramienta para leer datos\n",
        "      int i;  // el indice que usaremos\n",
        "      i = 0; // inicializamos el indice i en 0\n",
        "      while( i < 24) { // vamos realizar la acción mienstras que n > i\n",
        "        System.out.println(\"Hora \"+i);\n",
        "        i = i + 1; // aumentamos el indice \n",
        "      }\n",
        "      System.out.println(\"Terminamos\"); \n",
        "    } \n",
        "} "
      ],
      "execution_count": 0,
      "outputs": [
        {
          "output_type": "stream",
          "text": [
            "Writing Mientras_que.java\n"
          ],
          "name": "stdout"
        }
      ]
    },
    {
      "cell_type": "code",
      "metadata": {
        "id": "Vx78d5hnvgdF",
        "colab_type": "code",
        "outputId": "332ab435-78da-4163-d6ed-caa9d7ed785f",
        "colab": {
          "base_uri": "https://localhost:8080/",
          "height": 442
        }
      },
      "source": [
        "!java Mientras_que.java"
      ],
      "execution_count": 0,
      "outputs": [
        {
          "output_type": "stream",
          "text": [
            "Hora 0\n",
            "Hora 1\n",
            "Hora 2\n",
            "Hora 3\n",
            "Hora 4\n",
            "Hora 5\n",
            "Hora 6\n",
            "Hora 7\n",
            "Hora 8\n",
            "Hora 9\n",
            "Hora 10\n",
            "Hora 11\n",
            "Hora 12\n",
            "Hora 13\n",
            "Hora 14\n",
            "Hora 15\n",
            "Hora 16\n",
            "Hora 17\n",
            "Hora 18\n",
            "Hora 19\n",
            "Hora 20\n",
            "Hora 21\n",
            "Hora 22\n",
            "Hora 23\n",
            "Terminamos\n"
          ],
          "name": "stdout"
        }
      ]
    },
    {
      "cell_type": "markdown",
      "metadata": {
        "id": "tubEbdxxu7N2",
        "colab_type": "text"
      },
      "source": [
        "## Ciclos Hasta que"
      ]
    },
    {
      "cell_type": "code",
      "metadata": {
        "id": "flp0bG-gxERC",
        "colab_type": "code",
        "outputId": "f3c923f7-0a47-47d0-eb94-dd2ba1b5d9ec",
        "colab": {
          "base_uri": "https://localhost:8080/",
          "height": 34
        }
      },
      "source": [
        "%%writefile Hasta_que.java\n",
        "import java.util.Scanner; \n",
        "class Hasta_que \n",
        "{ \n",
        "    public static void main(String args[]) \n",
        "    { \n",
        "      Scanner s = new Scanner(System.in); // nuestra herramienta para leer datos\n",
        "      int i;  // el indice que usaremos\n",
        "      i = 0; // inicializamos el indice i en 0\n",
        "      do{\n",
        "        System.out.println(\"Hora \"+i);\n",
        "        i = i +1; // aumentamos el indice \n",
        "      }while(i<24);  //vamos realizar la acción mienstras que n > i\n",
        "      System.out.println(\"Terminamos\"); \n",
        "    } \n",
        "} "
      ],
      "execution_count": 0,
      "outputs": [
        {
          "output_type": "stream",
          "text": [
            "Overwriting Hasta_que.java\n"
          ],
          "name": "stdout"
        }
      ]
    },
    {
      "cell_type": "code",
      "metadata": {
        "id": "NUzUrJ_qx2KB",
        "colab_type": "code",
        "outputId": "90357e14-bab4-4ab8-9b26-dceaecdd97ca",
        "colab": {
          "base_uri": "https://localhost:8080/",
          "height": 442
        }
      },
      "source": [
        "!java Hasta_que.java"
      ],
      "execution_count": 0,
      "outputs": [
        {
          "output_type": "stream",
          "text": [
            "Hora 0\n",
            "Hora 1\n",
            "Hora 2\n",
            "Hora 3\n",
            "Hora 4\n",
            "Hora 5\n",
            "Hora 6\n",
            "Hora 7\n",
            "Hora 8\n",
            "Hora 9\n",
            "Hora 10\n",
            "Hora 11\n",
            "Hora 12\n",
            "Hora 13\n",
            "Hora 14\n",
            "Hora 15\n",
            "Hora 16\n",
            "Hora 17\n",
            "Hora 18\n",
            "Hora 19\n",
            "Hora 20\n",
            "Hora 21\n",
            "Hora 22\n",
            "Hora 23\n",
            "Terminamos\n"
          ],
          "name": "stdout"
        }
      ]
    },
    {
      "cell_type": "markdown",
      "metadata": {
        "id": "Q4g3Mj7Su7QV",
        "colab_type": "text"
      },
      "source": [
        "## Ciclos Para"
      ]
    },
    {
      "cell_type": "code",
      "metadata": {
        "id": "uIFQtC6lyDFX",
        "colab_type": "code",
        "outputId": "fb46a1a1-73e6-418d-d26d-8b3bf9be657b",
        "colab": {
          "base_uri": "https://localhost:8080/",
          "height": 34
        }
      },
      "source": [
        "%%writefile Para.java\n",
        "import java.util.Scanner; \n",
        "class Para \n",
        "{ \n",
        "    public static void main(String args[]) \n",
        "    { \n",
        "      Scanner s = new Scanner(System.in); // nuestra herramienta para leer datos\n",
        "      int i;\n",
        "      for(i = 0; i<24; i=i+1){    // Vamos a realizar la accion con i comenzando\n",
        "                                  //en 0 hasta que i>=24 y tendra un incremento\n",
        "                                  // de i = i+1\n",
        "          System.out.println(\"Hora \"+ i);\n",
        "      }\n",
        "      System.out.println(\"Terminamos\"); \n",
        "    } \n",
        "} "
      ],
      "execution_count": 0,
      "outputs": [
        {
          "output_type": "stream",
          "text": [
            "Overwriting Para.java\n"
          ],
          "name": "stdout"
        }
      ]
    },
    {
      "cell_type": "code",
      "metadata": {
        "id": "8baRWO3jyaJi",
        "colab_type": "code",
        "outputId": "6d04805c-dbb6-4869-81c2-93913376d681",
        "colab": {
          "base_uri": "https://localhost:8080/",
          "height": 442
        }
      },
      "source": [
        "!java Para.java"
      ],
      "execution_count": 0,
      "outputs": [
        {
          "output_type": "stream",
          "text": [
            "Hora 0\n",
            "Hora 1\n",
            "Hora 2\n",
            "Hora 3\n",
            "Hora 4\n",
            "Hora 5\n",
            "Hora 6\n",
            "Hora 7\n",
            "Hora 8\n",
            "Hora 9\n",
            "Hora 10\n",
            "Hora 11\n",
            "Hora 12\n",
            "Hora 13\n",
            "Hora 14\n",
            "Hora 15\n",
            "Hora 16\n",
            "Hora 17\n",
            "Hora 18\n",
            "Hora 19\n",
            "Hora 20\n",
            "Hora 21\n",
            "Hora 22\n",
            "Hora 23\n",
            "Terminamos\n"
          ],
          "name": "stdout"
        }
      ]
    },
    {
      "cell_type": "markdown",
      "metadata": {
        "id": "1YP4Qfb0TOkM",
        "colab_type": "text"
      },
      "source": [
        "## Información adicional\n",
        "\n",
        "Unas preguntas interesantes que nos podemos hacer son:\n",
        "\n",
        "*   ¿Los indices de los ciclos solo pueden ir de forma ascendente? \n",
        "*   ¿El mismo ejercicio lo puedo resolver con cualquier tipo de ciclo?\n",
        "\n"
      ]
    },
    {
      "cell_type": "markdown",
      "metadata": {
        "id": "6qEl2ckFWak6",
        "colab_type": "text"
      },
      "source": [
        "## Ejercico propuesto\n",
        "\n",
        "Realice un algoritmo que simule un juego de cartas entre dos jugadores; gana el que muestre el valor mayor 3 veces consecutivas\n"
      ]
    },
    {
      "cell_type": "markdown",
      "metadata": {
        "id": "Usx3FZ0jDr-9",
        "colab_type": "text"
      },
      "source": [
        "## Links de interes\n",
        "\n",
        "https://www.geeksforgeeks.org/loops-in-java/\n"
      ]
    },
    {
      "cell_type": "markdown",
      "metadata": {
        "id": "oNhMSULm0KhN",
        "colab_type": "text"
      },
      "source": [
        "# **Ciclos Anidados**"
      ]
    },
    {
      "cell_type": "markdown",
      "metadata": {
        "id": "FWDUf9UY0UCv",
        "colab_type": "text"
      },
      "source": [
        "En pocas palabras como su nombre lo sugiere, es un ciclo con uno o más ciclos dentro de el.\n",
        "\n",
        "**Usemos el ejemplo de las horas como base.**\n",
        "\n",
        "Un día tiene 24 horas y a su vez cada hora tiene 60 minutos."
      ]
    },
    {
      "cell_type": "markdown",
      "metadata": {
        "id": "_CicJOaU01Ni",
        "colab_type": "text"
      },
      "source": [
        "Pensemos un algoritmo que nos diga cada hora del día y a su vez en cada hora diga cada minuto de esta.\n",
        "\n",
        "Ejemplo:\n",
        "\n",
        "- Hora 0, minuto 0\n",
        "- Hora 0, minuto 1\n",
        "- Hora 0, minuto 2\n",
        "- ...\n",
        "- Hora 0, minuto 59\n",
        "- Hora 1, minuto 0\n",
        "- ...\n",
        "- Hora 23, minuto 59\n",
        "- Termino el día"
      ]
    },
    {
      "cell_type": "markdown",
      "metadata": {
        "id": "PU-b8UAm5BtC",
        "colab_type": "text"
      },
      "source": [
        "Cosas a tener en cuenta:\n",
        "\n",
        "1.   Claramente las horas se mueven mas lento que los minutos\n",
        "\n",
        "*   Es decir, por cada iteración del ciclo de hora se tienen que hacer todas las iteraciones del ciclo minutos\n",
        "*   Horas deberia ser el ciclo exterior y minutos el ciclo interior\n",
        "\n",
        "\n",
        "2.   ¿Que pasaría si usaramos el mismo indice para el ciclo de horas y minutos?\n",
        "\n",
        "* Escribiria lo mismo dos veces, ¿no?. ¿Como podemos arreglar esto?\n",
        "\n"
      ]
    },
    {
      "cell_type": "code",
      "metadata": {
        "id": "M9rNqS_-2iwN",
        "colab_type": "code",
        "outputId": "66b347dc-d196-407b-f489-63d71ca4aeb0",
        "colab": {
          "base_uri": "https://localhost:8080/",
          "height": 34
        }
      },
      "source": [
        "%%writefile Hora_Minuto.java\n",
        "import java.util.Scanner; \n",
        "class Hora_Minuto \n",
        "{ \n",
        "    public static void main(String args[]) \n",
        "    { \n",
        "      Scanner s = new Scanner(System.in); // nuestra herramienta para leer datos\n",
        "      int i,j;  // los indices que usaremos\n",
        "      i = 0;   // inicializamos el indice i en 0\n",
        "      while( i < 24) { // vamos realizar la acción mienstras que 24 > i\n",
        "        j = 0;  // Esta es la parte mas importante de este problema!\n",
        "        while( j < 60) { // vamos realizar la acción mienstras que 60 > j\n",
        "          System.out.println(\"Hora \"+i+\",\"+\" minuto \"+j);\n",
        "          j = j + 1; // aumentamos el indice de j\n",
        "        }\n",
        "        i = i + 1; // aumentamos el indice de i\n",
        "      }\n",
        "      System.out.println(\"Termino el día\"); \n",
        "    } \n",
        "}"
      ],
      "execution_count": 0,
      "outputs": [
        {
          "output_type": "stream",
          "text": [
            "Overwriting Hora_Minuto.java\n"
          ],
          "name": "stdout"
        }
      ]
    },
    {
      "cell_type": "code",
      "metadata": {
        "id": "5iC7QGKv475H",
        "colab_type": "code",
        "colab": {}
      },
      "source": [
        "!java Hora_Minuto.java"
      ],
      "execution_count": 0,
      "outputs": []
    },
    {
      "cell_type": "markdown",
      "metadata": {
        "id": "efj6SyB26mz6",
        "colab_type": "text"
      },
      "source": [
        "Veamos otro ejemplo. La asignatura de algoritmos 1 tiene **N** estudiantes, cada uno con **M** notas (todos los estudiantes tienen la misma cantidad de notas). Diga cual es el promedio de cada estudiante, y cuantos pasaron la materia.\n",
        "\n",
        "Nota: El minimo para pasar la materia es 3."
      ]
    },
    {
      "cell_type": "code",
      "metadata": {
        "id": "SX8FKTeL6s9B",
        "colab_type": "code",
        "outputId": "b7f737d5-81e8-4f04-f6fc-f125f37289be",
        "colab": {
          "base_uri": "https://localhost:8080/",
          "height": 34
        }
      },
      "source": [
        "%%writefile Promedio_Cantidad.java\n",
        "import java.util.Scanner; \n",
        "class Promedio_Cantidad \n",
        "{ \n",
        "    public static void main(String args[]) \n",
        "    { \n",
        "      Scanner s = new Scanner(System.in); // nuestra herramienta para leer datos\n",
        "      int i, j, N, M, cantidad;\n",
        "      double nota, promedio;\n",
        "      System.out.println(\"Digite el número de estudiantes\");\n",
        "      N = s.nextInt();\n",
        "      System.out.println(\"Digite el número de notas por estudiante\");\n",
        "      M = s.nextInt();\n",
        "      cantidad = 0;\n",
        "      i = 1; // vamos a usar esta variable como nuestro indice de estudiante\n",
        "      while(N >= i) { // vamos realizar la acción mienstras que N >= i\n",
        "        j = 1;  // vamos a usar esta variable como nuestro indice de notas\n",
        "        promedio = 0; // Recordemos que el promedio es unico para cada \n",
        "                      // estudiante.\n",
        "        while(M >= j) { // vamos realizar la acción mienstras que M >= j\n",
        "          System.out.println(\"Digite la nota \"+j+\" del estudiante \"+i);\n",
        "          nota = s.nextDouble();\n",
        "          promedio = promedio + nota;\n",
        "          j = j + 1; // aumentamos el indice (pasamos a otra nota) \n",
        "        }\n",
        "        promedio = promedio/M; //Calculamos el promedio por de un estudiante\n",
        "        System.out.println(\"promedio del estudiante \"+i+\" es \"+promedio);\n",
        "        if (promedio >= 3){\n",
        "            cantidad = cantidad + 1;  // encontramos un promedio mayor que 3\n",
        "        }\n",
        "        i = i + 1; // aumentamos el indice (pasamos a otro estudiante)\n",
        "      }\n",
        "      System.out.println(\"Hay \"+cantidad+\" estudiantes con promedio mayor a 3\"); \n",
        "    } \n",
        "} "
      ],
      "execution_count": 0,
      "outputs": [
        {
          "output_type": "stream",
          "text": [
            "Overwriting Promedio_Cantidad.java\n"
          ],
          "name": "stdout"
        }
      ]
    },
    {
      "cell_type": "code",
      "metadata": {
        "id": "nT6A1bcg8DIk",
        "colab_type": "code",
        "outputId": "9440131a-354d-46c2-f3ea-947801ab5ebd",
        "colab": {
          "base_uri": "https://localhost:8080/",
          "height": 272
        }
      },
      "source": [
        "!java Promedio_Cantidad.java"
      ],
      "execution_count": 0,
      "outputs": [
        {
          "output_type": "stream",
          "text": [
            "Digite el número de estudiantes\n",
            "2\n",
            "Digite el número de notas por estudiante\n",
            "2\n",
            "Digite la nota 1 del estudiante 1\n",
            "3\n",
            "Digite la nota 2 del estudiante 1\n",
            "2.5\n",
            "promedio del estudiante 1 es 2.75\n",
            "Digite la nota 1 del estudiante 2\n",
            "4\n",
            "Digite la nota 2 del estudiante 2\n",
            "4\n",
            "promedio del estudiante 2 es 4.0\n",
            "Hay 1 estudiantes con promedio mayor a 3\n"
          ],
          "name": "stdout"
        }
      ]
    },
    {
      "cell_type": "markdown",
      "metadata": {
        "id": "wa8dhkYuECB2",
        "colab_type": "text"
      },
      "source": [
        "## Ejercicios propuestos\n",
        "\n",
        "Realice un programa que dado un rango que va desde 1 hasta **n**, diga cuales son los divisores de cada uno de los numeros de ese rango.\n",
        "\n",
        "Ejemplo:\n",
        "\n",
        "n = 5\n",
        "\n",
        "- Numero: 1\n",
        "sus divisores son:1\n",
        "- Numero: 2\n",
        "sus divisores son: 1 2\n",
        "- Numero: 3\n",
        "sus divisores son: 1 3\n",
        "- Numero: 4\n",
        "sus divisores son: 1 2 4\n",
        "- Numero: 5\n",
        "sus divisores son: 1 5\n",
        "\n",
        "Nota: El resultado no es obligatorio que este en el formato del ejemplo."
      ]
    },
    {
      "cell_type": "markdown",
      "metadata": {
        "id": "ZGZmdQFv9b60",
        "colab_type": "text"
      },
      "source": [
        "# **Sumatorias – Productos – Exponenciales - Factoriales (Operaciones matematicas repetitivas)**"
      ]
    },
    {
      "cell_type": "markdown",
      "metadata": {
        "id": "0vyK3caHbu_L",
        "colab_type": "text"
      },
      "source": [
        "En los siguientes ejercicios vamos a trabajar algunas operaciones matemáticas basicas que pueden resolverse con ciclos. Primero miraremos algunos ejercicios con ciclos simples y después anidados. \n",
        "\n",
        "En estos ejercicios vamos a usar la estructura del ciclos Para."
      ]
    },
    {
      "cell_type": "markdown",
      "metadata": {
        "id": "vfOV13VecQkx",
        "colab_type": "text"
      },
      "source": [
        "## Sumatoria\n",
        "\n",
        "Este tipo de operaciones usualmente comienzan con una variable (donde se guardara el resultado final) inicializada en 0, y en cada una de las iteraciones (desde el valor inicial de la sumatoria hasta el valor final) se va acumulando en esa variable un nuevo valor. \n",
        "\n",
        ">$S=\\displaystyle \\sum_{i=1}^N i$\n",
        "\n",
        "Ejemplo \n",
        "\n",
        ">$S=\\displaystyle \\sum_{i=1}^5 i$\n",
        "\n",
        ">Iteración | S\n",
        ">--- | ---\n",
        ">0 | 0\n",
        ">1 | 1\n",
        ">2 | 3\n",
        ">3 | 6\n",
        ">4 | 10\n",
        ">5 | 15\n",
        "\n",
        "Nota: la iteración 0 son los valores iniciales antes de iniciar el ciclo (en algunos libros no se pone).\n",
        "\n"
      ]
    },
    {
      "cell_type": "code",
      "metadata": {
        "id": "Um32U1wMfqWg",
        "colab_type": "code",
        "outputId": "5652e8d3-b916-4715-c76e-99d8ed281b74",
        "colab": {
          "base_uri": "https://localhost:8080/",
          "height": 34
        }
      },
      "source": [
        "%%writefile Sumatoria.java\n",
        "import java.util.Scanner; \n",
        "class Sumatoria \n",
        "{ \n",
        "    public static void main(String args[]) \n",
        "    { \n",
        "      Scanner s = new Scanner(System.in); // nuestra herramienta para leer datos\n",
        "      int i,suma,n;\n",
        "      System.out.println(\"Digite n\");\n",
        "      n = s.nextInt();\n",
        "      suma = 0;  // donde valor a guardar cada valor nuevo de la sumatoria \n",
        "      for (i = 1; i <= n; i++){\n",
        "        suma = suma + i;\n",
        "      }\n",
        "      System.out.println(\"Terminamos con S = \"+suma); \n",
        "    } \n",
        "} "
      ],
      "execution_count": 0,
      "outputs": [
        {
          "output_type": "stream",
          "text": [
            "Overwriting Sumatoria.java\n"
          ],
          "name": "stdout"
        }
      ]
    },
    {
      "cell_type": "code",
      "metadata": {
        "id": "2chxfykPf8kZ",
        "colab_type": "code",
        "outputId": "88121a15-deef-4b19-a93d-cea8ccc1b75a",
        "colab": {
          "base_uri": "https://localhost:8080/",
          "height": 68
        }
      },
      "source": [
        "!java Sumatoria.java"
      ],
      "execution_count": 0,
      "outputs": [
        {
          "output_type": "stream",
          "text": [
            "Digite n\n",
            "5\n",
            "Terminamos con S = 15\n"
          ],
          "name": "stdout"
        }
      ]
    },
    {
      "cell_type": "markdown",
      "metadata": {
        "id": "gyGisiFPgLAL",
        "colab_type": "text"
      },
      "source": [
        "## Productoria\n",
        "\n",
        "Este tipo de operaciones usualmente comienzan con una variable (donde se guardara el resultado final) inicializada en 1, y en cada una de las iteraciones (desde el valor inicial de la productoria hasta el valor final) se va guardando la multipicación de dos valores.\n",
        "\n",
        "En otras palabras el resultado se inicializa en 1 y en cada iteración se multiplica y no se suma.\n",
        "\n",
        ">$P=\\displaystyle \\prod_{i=1}^N i$\n",
        "\n",
        "Ejemplo \n",
        "\n",
        ">$P=\\displaystyle \\prod_{i=1}^5 i$\n",
        "\n",
        ">Iteración | P\n",
        ">--- | ---\n",
        ">0 | 0\n",
        ">1 | 1\n",
        ">2 | 2\n",
        ">3 | 6\n",
        ">4 | 24\n",
        ">5 | 120\n",
        "\n",
        "Nota: la iteración 0 son los valores iniciales antes de iniciar el ciclo (en algunos libros no se pone)."
      ]
    },
    {
      "cell_type": "code",
      "metadata": {
        "id": "ccTDgvcqg9-A",
        "colab_type": "code",
        "outputId": "ef4c48ec-e49b-4acc-9a7f-08b2b5ed49c9",
        "colab": {
          "base_uri": "https://localhost:8080/",
          "height": 34
        }
      },
      "source": [
        "%%writefile Productoria.java\n",
        "import java.util.Scanner; \n",
        "class Productoria \n",
        "{ \n",
        "    public static void main(String args[]) \n",
        "    { \n",
        "      Scanner s = new Scanner(System.in); // nuestra herramienta para leer datos\n",
        "      int i,prod,n;\n",
        "      System.out.println(\"Digite n\");\n",
        "      n = s.nextInt();\n",
        "      prod = 1; \n",
        "      for (i = 1; i <= n; i++){\n",
        "        prod = prod * i;\n",
        "      }\n",
        "      System.out.println(\"Terminamos con P = \"+prod); \n",
        "    } \n",
        "}"
      ],
      "execution_count": 0,
      "outputs": [
        {
          "output_type": "stream",
          "text": [
            "Writing Productoria.java\n"
          ],
          "name": "stdout"
        }
      ]
    },
    {
      "cell_type": "code",
      "metadata": {
        "id": "SRk9ldkjhJ6W",
        "colab_type": "code",
        "outputId": "ad1f77c0-4d5d-4875-fb5c-6f9c8bfee98f",
        "colab": {
          "base_uri": "https://localhost:8080/",
          "height": 68
        }
      },
      "source": [
        "!java Productoria.java"
      ],
      "execution_count": 0,
      "outputs": [
        {
          "output_type": "stream",
          "text": [
            "Digite n\n",
            "5\n",
            "Terminamos con P = 120\n"
          ],
          "name": "stdout"
        }
      ]
    },
    {
      "cell_type": "markdown",
      "metadata": {
        "id": "_-O2UBkEha6X",
        "colab_type": "text"
      },
      "source": [
        "## Exponencial\n",
        "\n",
        "El exponencial tiene la misma estructura que la productoria, la diferencia es en la instrucción de multiplicación que permite la exponenciación.\n",
        "\n",
        ">$e = n^x$\n",
        "\n",
        "Donde $e$ es la variable donde se almacenara el resultado, $n$ es la base y $x$ la potencia."
      ]
    },
    {
      "cell_type": "code",
      "metadata": {
        "id": "y4of7yZsh_Qc",
        "colab_type": "code",
        "outputId": "8071f477-72a9-4bce-bc9b-85ab4a5d1d27",
        "colab": {
          "base_uri": "https://localhost:8080/",
          "height": 34
        }
      },
      "source": [
        "%%writefile Exponencial.java\n",
        "import java.util.Scanner; \n",
        "class Exponencial \n",
        "{ \n",
        "    public static void main(String args[]) \n",
        "    { \n",
        "      Scanner s = new Scanner(System.in); // nuestra herramienta para leer datos\n",
        "      int n,i,x,e;\n",
        "      System.out.println(\"Digite n\");\n",
        "      n = s.nextInt();\n",
        "      System.out.println(\"Digite x\");\n",
        "      x = s.nextInt();\n",
        "      e = 1; \n",
        "      for (i = 1; i <= x; i++){\n",
        "        e = e * n;\n",
        "      }\n",
        "      System.out.println(\"Terminamos con e = \"+e); \n",
        "    } \n",
        "} "
      ],
      "execution_count": 0,
      "outputs": [
        {
          "output_type": "stream",
          "text": [
            "Overwriting Exponencial.java\n"
          ],
          "name": "stdout"
        }
      ]
    },
    {
      "cell_type": "code",
      "metadata": {
        "id": "XJZ7uHaRiW7C",
        "colab_type": "code",
        "outputId": "13c1b45d-c992-4415-f77a-5031ab2ff728",
        "colab": {
          "base_uri": "https://localhost:8080/",
          "height": 102
        }
      },
      "source": [
        "!java Exponencial.java"
      ],
      "execution_count": 0,
      "outputs": [
        {
          "output_type": "stream",
          "text": [
            "Digite n\n",
            "5\n",
            "Digite x\n",
            "2\n",
            "Terminamos con e = 25\n"
          ],
          "name": "stdout"
        }
      ]
    },
    {
      "cell_type": "markdown",
      "metadata": {
        "id": "aznqlaQei0QZ",
        "colab_type": "text"
      },
      "source": [
        "## Factorial\n",
        "\n",
        "Al igual que las dos operaciones anteriores, en esta tambien realizamos una multiplicación, la diferencia esta en que en el factorial multiplicaremos la respuesta por un indice.\n",
        "\n",
        ">$F = n!$\n",
        "\n",
        "Ejemplo:\n",
        "\n",
        ">$F = 5!$\n",
        "\n",
        ">Iteración | F\n",
        ">--- | ---\n",
        ">0 | 0\n",
        ">1 | 1\n",
        ">2 | 2\n",
        ">3 | 6\n",
        ">4 | 24\n",
        ">5 | 120\n",
        "\n",
        "Nota: la iteración 0 son los valores iniciales antes de iniciar el ciclo (en algunos libros no se pone)."
      ]
    },
    {
      "cell_type": "code",
      "metadata": {
        "id": "sbYe5oFLjwub",
        "colab_type": "code",
        "outputId": "37c5f7c7-d712-4e9d-95a1-7bdfcf304861",
        "colab": {
          "base_uri": "https://localhost:8080/",
          "height": 34
        }
      },
      "source": [
        "%%writefile Factorial.java\n",
        "import java.util.Scanner; \n",
        "class Factorial \n",
        "{ \n",
        "    public static void main(String args[]) \n",
        "    { \n",
        "      Scanner s = new Scanner(System.in); // nuestra herramienta para leer datos\n",
        "      int i,prod,n;\n",
        "      System.out.println(\"Digite n\");\n",
        "      n = s.nextInt();\n",
        "      prod = 1; \n",
        "      for (i = 1; i <= n; i++){\n",
        "        prod = prod * i;\n",
        "      }\n",
        "      System.out.println(\"Terminamos con F = \"+prod); \n",
        "    } \n",
        "}"
      ],
      "execution_count": 0,
      "outputs": [
        {
          "output_type": "stream",
          "text": [
            "Overwriting Factorial.java\n"
          ],
          "name": "stdout"
        }
      ]
    },
    {
      "cell_type": "code",
      "metadata": {
        "id": "96ULodJhj4fP",
        "colab_type": "code",
        "outputId": "096dcad6-fb62-4c04-a1f9-25a5410fa9d9",
        "colab": {
          "base_uri": "https://localhost:8080/",
          "height": 68
        }
      },
      "source": [
        "!java Factorial.java"
      ],
      "execution_count": 0,
      "outputs": [
        {
          "output_type": "stream",
          "text": [
            "Digite n\n",
            "5\n",
            "Terminamos con F = 120\n"
          ],
          "name": "stdout"
        }
      ]
    },
    {
      "cell_type": "markdown",
      "metadata": {
        "id": "ELQWJBcLkVlc",
        "colab_type": "text"
      },
      "source": [
        "## Ejercicios: Sumatorias – Productos – Exponenciales - Factoriales (Operaciones matematicas repetitivas)"
      ]
    },
    {
      "cell_type": "markdown",
      "metadata": {
        "id": "3JmwXuuhke1j",
        "colab_type": "text"
      },
      "source": [
        "Algunos tips a tener en cuenta para este tipo de ejercicios:\n",
        "\n",
        "1.   Ten claro que tipo de operaciones tienes que realizar\n",
        "2.   No te olvides de inicializar las variables donde guardaras los resultado (dependiendo de si es una suma o una multiplicación)\n",
        "3.   La estructura del Para\n",
        "4.   Calcular el valor de cada expresión\n",
        "5.   Acumular el valor en la variable definida en el tip 2\n",
        "6.   Repetir el proceso desde 3 hasta que llegues al final\n",
        "7.   Has una prueba de escritorio para verificar tu resultado\n",
        "\n",
        "\n"
      ]
    },
    {
      "cell_type": "markdown",
      "metadata": {
        "id": "wnxwjhEqlc29",
        "colab_type": "text"
      },
      "source": [
        "### Sumatoria dentro de sumatoria\n",
        "\n",
        ">$S = \\displaystyle \\sum_{i=1}^N (\\displaystyle \\sum_{j=1}^i (i*j))$\n",
        "\n",
        "Nota: tener especial cuidado con los parentesis. \n"
      ]
    },
    {
      "cell_type": "markdown",
      "metadata": {
        "id": "QSfQzLFiouvm",
        "colab_type": "text"
      },
      "source": [
        "¿Como deberiamos comenzar?\n",
        "\n",
        "tips:\n",
        "\n",
        "1.  Mirar donde comienza y termina cada sumatoria.\n",
        "2.  Tener cuidado con los parentesis."
      ]
    },
    {
      "cell_type": "markdown",
      "metadata": {
        "id": "TVReFmjopBLh",
        "colab_type": "text"
      },
      "source": [
        "Vamos desde afuera hacia adentro, es decir, desde la sumatoria exterior hasta la interior. Tip 1\n",
        "\n",
        ">$\\displaystyle \\sum_{i=1}^N \\text{exp interna}$\n",
        "\n",
        "Donde $\\text{exp interna} = \\displaystyle \\sum_{j=1}^i (i*j)$"
      ]
    },
    {
      "cell_type": "code",
      "metadata": {
        "id": "lLHPsnHkliJO",
        "colab_type": "code",
        "outputId": "05869a5e-1307-452f-aefd-2ad2da59f1d5",
        "colab": {
          "base_uri": "https://localhost:8080/",
          "height": 34
        }
      },
      "source": [
        "%%writefile Sumatoria_Doble_Externa.java\n",
        "import java.util.Scanner; \n",
        "class Sumatoria_Doble \n",
        "{ \n",
        "    public static void main(String args[]) \n",
        "    { \n",
        "      Scanner s = new Scanner(System.in); // nuestra herramienta para leer datos\n",
        "      int i,suma,N, exp_interna;\n",
        "      System.out.println(\"Digite N\");\n",
        "      N = s.nextInt();\n",
        "      suma = 0;                             // Tip 2\n",
        "      for (i = 1; i <= N; i++){             // Tip 3\n",
        "        exp_interna = i;                    // Tip 4\n",
        "        suma = suma + exp_interna;          // Tip 5\n",
        "      }\n",
        "      System.out.println(\"Terminamos con S = \"+suma); \n",
        "    } \n",
        "} "
      ],
      "execution_count": 0,
      "outputs": [
        {
          "output_type": "stream",
          "text": [
            "Writing Sumatoria_Doble_Externa.java\n"
          ],
          "name": "stdout"
        }
      ]
    },
    {
      "cell_type": "code",
      "metadata": {
        "id": "fg4hEDJirFQQ",
        "colab_type": "code",
        "outputId": "1c5c2263-28ed-4b09-8e0c-3ebe2f33219b",
        "colab": {
          "base_uri": "https://localhost:8080/",
          "height": 68
        }
      },
      "source": [
        "!java Sumatoria_Doble.java"
      ],
      "execution_count": 0,
      "outputs": [
        {
          "output_type": "stream",
          "text": [
            "Digite N\n",
            "5\n",
            "Terminamos con S = 15\n"
          ],
          "name": "stdout"
        }
      ]
    },
    {
      "cell_type": "markdown",
      "metadata": {
        "id": "xZgWN6oCrP8o",
        "colab_type": "text"
      },
      "source": [
        "Ahora incorporemos la $\\text{exp interna}$ que vendria siendo la segunda sumatoria. El resultado de esta sumatoria lo guardaremos en la variable exp_interna y el resultado de la sumatoria externa seguira siendo la variable suma.\n"
      ]
    },
    {
      "cell_type": "code",
      "metadata": {
        "id": "Ru3sKPhXrXsA",
        "colab_type": "code",
        "outputId": "43c0b6fc-09e3-4ab5-e130-c75bed58d467",
        "colab": {
          "base_uri": "https://localhost:8080/",
          "height": 34
        }
      },
      "source": [
        "%%writefile Sumatoria_Doble_ExternaInterna.java\n",
        "import java.util.Scanner; \n",
        "class Sumatoria_Doble \n",
        "{ \n",
        "    public static void main(String args[]) \n",
        "    { \n",
        "      Scanner s = new Scanner(System.in); // nuestra herramienta para leer datos\n",
        "      int i,j,k,suma,N, exp_interna;\n",
        "      System.out.println(\"Digite N\");\n",
        "      N = s.nextInt();\n",
        "      suma = 0;                                  // Tip 2 para sumatoria externa\n",
        "      for (i = 1; i <= N; i++){                  // Tip 3 para sumatoria externa\n",
        "        exp_interna = 0;                         // Tip 2 para sumatoria interna\n",
        "        for (j = 1; j <= i; j++){                // Tip 3 para sumatoria interna\n",
        "            k = i*j;                             // Tip 4 para sumatoria interna\n",
        "            exp_interna = k + exp_interna;       // Tip 5 para sumatoria interna\n",
        "        }\n",
        "        k = exp_interna;                         // Tip 4 para sumatoria externa\n",
        "        suma = suma + k;                         // Tip 5 para sumatoria externa\n",
        "      }\n",
        "      System.out.println(\"Terminamos con S = \"+suma); \n",
        "    } \n",
        "} "
      ],
      "execution_count": 0,
      "outputs": [
        {
          "output_type": "stream",
          "text": [
            "Writing Sumatoria_Doble_ExternaInterna.java\n"
          ],
          "name": "stdout"
        }
      ]
    },
    {
      "cell_type": "code",
      "metadata": {
        "id": "nsUcZ-bPuRCE",
        "colab_type": "code",
        "outputId": "63b6ae5d-f659-4564-9329-31eb7b689342",
        "colab": {
          "base_uri": "https://localhost:8080/",
          "height": 68
        }
      },
      "source": [
        "!java Sumatoria_Doble_ExternaInterna.java"
      ],
      "execution_count": 0,
      "outputs": [
        {
          "output_type": "stream",
          "text": [
            "Digite N\n",
            "3\n",
            "Terminamos con S = 25\n"
          ],
          "name": "stdout"
        }
      ]
    },
    {
      "cell_type": "markdown",
      "metadata": {
        "id": "PyLwSLCcukME",
        "colab_type": "text"
      },
      "source": [
        "¿Que acaba de pasar?\n",
        "\n",
        "Miremos paso a paso.\n",
        "\n",
        "N = 3\n",
        "\n",
        ">Iteración (para i) | suma (sumatoria externa) | exp_interna (sumatoria interna)\n",
        ">--- | --- | --- \n",
        ">0 | 0 | 0\n",
        ">1 | 1 | (1*1)\n",
        ">2 | 7 | ((2*1)+ (2*2))\n",
        "3 | 25 | ((3*1)+(3*2)+(3*3))\n"
      ]
    },
    {
      "cell_type": "markdown",
      "metadata": {
        "id": "r5D6RHlEUFuM",
        "colab_type": "text"
      },
      "source": [
        "### Ejercicios propuestos\n",
        "\n",
        "*   Realize un algoritmo que lea un número de datos y calcule la media y la varianza de estos \n",
        "\n",
        "Media:\n",
        "\n",
        ">$ \\overline{x} = \\frac{1}{n} \\displaystyle \\sum_{i=1}^n x_i$\n",
        "\n",
        "Varianza:\n",
        "\n",
        ">$\\sigma^2 = \\frac{ \\displaystyle \\sum_{i=1}^n (x_i -\\overline{x})^2}{n}$\n",
        "\n",
        "*   Escribe un algoritmo que implemente la siguiente función:\n",
        "\n",
        "\n",
        "1.   >$Z = \\displaystyle \\prod_{k=1}^{n} (\\sum_{j=k}^{k} (j * k \\prod_{i=k}^{k+2}(i+j)))$\n",
        "2.   >$S = \\displaystyle \\prod_{i=1}^n(\\sum_{j=1}^i(i*\\sum_{k=1}^j(i+j)) + \\sum_{z=1}^m z)$\n",
        "\n",
        "\n",
        "\n"
      ]
    },
    {
      "cell_type": "markdown",
      "metadata": {
        "id": "NSlceKGfrSFl",
        "colab_type": "text"
      },
      "source": [
        "# **Series**\n",
        "\n"
      ]
    },
    {
      "cell_type": "markdown",
      "metadata": {
        "id": "pX9aYLWKHQ3y",
        "colab_type": "text"
      },
      "source": [
        "Las series son sucesiones ordenadas de elementos que guardan un vínculo entre si.\n",
        "\n",
        "Una serie puede ser:\n",
        "\n",
        "*   Cualquier cosa que tenga una relación entre si. En este curso nos centraremos en las **series numericas** \n",
        "* Las series numericas pueden ser ascendentes o descendentes\n",
        "* las series numericas son infinitas. (Claramente para nosotros las trataremos como problemas finitos hasta un valor especifico **n**)\n",
        "\n",
        "Algunos ejemplos de series numericas son:\n",
        "\n",
        "* 5 10 15 20 25 30 35 ...\n",
        "* 12 10 8 6 4 2\n",
        "* S = 5 + 10 + 12 + 24 + 26 + 52 + 54 + 108 + 110"
      ]
    },
    {
      "cell_type": "markdown",
      "metadata": {
        "id": "my8gjV7SBPdz",
        "colab_type": "text"
      },
      "source": [
        "## Ejercicios propuestos\n",
        "\n",
        "Primero halla cual seria el valor para el siguiente termino de la sucesión y despues crea un algoritmo que lo resuelva hasta un valor **n**\n",
        "\n",
        "* S =  5 + 10 + 12 + 24 + 26 + 52 + 54 + 108 + 110 + ...\n",
        "\n",
        "Primero determina cual seria el siguiente valor de la serie y despues crea un algoritmo que devuelva el **n-esimo** valor de la serie\n",
        "\n",
        "* 0,1,1,2,3,5,8,13,..."
      ]
    }
  ]
}