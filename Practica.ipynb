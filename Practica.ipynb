{
  "nbformat": 4,
  "nbformat_minor": 0,
  "metadata": {
    "colab": {
      "name": "Practica.ipynb",
      "provenance": [],
      "collapsed_sections": [],
      "authorship_tag": "ABX9TyN4k/rdXmluDhbRA9UoBqDE"
    },
    "kernelspec": {
      "name": "python3",
      "display_name": "Python 3"
    }
  },
  "cells": [
    {
      "cell_type": "markdown",
      "metadata": {
        "id": "lUwZWs2UGMEF",
        "colab_type": "text"
      },
      "source": [
        "# Universidad del Norte\n",
        "# Departamento de Ingeniería de Sistemas y Computación\n",
        "# Algoritmia y Programación I - 2020\n",
        "# Práctica\n",
        "# Prof. Sebastian Racedo\n"
      ]
    },
    {
      "cell_type": "markdown",
      "metadata": {
        "id": "DBWPGsuxGUYE",
        "colab_type": "text"
      },
      "source": [
        "En esta práctica, vamos a usar los datos suminstrados por “GOV.co datos abiertos” y lo que hemos aprendido en la clase de Algoritmos I para mirar qué está sucediendo en la ciudad de Barranquilla con el COVID-19 (solo miraremos una pequeña porción de los datos)."
      ]
    },
    {
      "cell_type": "markdown",
      "metadata": {
        "id": "TpCJKLtuG-Fy",
        "colab_type": "text"
      },
      "source": [
        "Una forma de agrupar los datos puede ser en numero de casos por día.\n",
        "Por ejemplo:\n",
        "\n",
        "* 2020-04-30, es el primer día que tenemos en los datos y solo se repite una vez, entonces **en el día 1 tenemos 1 caso**\n",
        "* 2020-05-02, es el primer día que tenemos en los datos y solo se repite una vez, entonces **en el día 2 tenemos 1 caso**\n",
        "* 2020-05-03, es el primer día que tenemos en los datos y solo se repite una vez, entonces **en el día 3 tenemos 1 caso**\n",
        "* 2020-05-04, es el primer día que tenemos en los datos y  se repite tres vez, entonces **en el día 4 tenemos 3 caso**\n",
        "* Y así con todos los días."
      ]
    },
    {
      "cell_type": "code",
      "metadata": {
        "id": "UkeJWe7AGBZr",
        "colab_type": "code",
        "outputId": "a92244fb-d92d-4660-f828-ae3ed81c8613",
        "colab": {
          "base_uri": "https://localhost:8080/",
          "height": 32
        }
      },
      "source": [
        "%%writefile Practica_dias.java\n",
        "import java.util.Scanner; \n",
        "class Practica_dias\n",
        "{ \n",
        "    public static void main(String args[]) \n",
        "    { \n",
        "      //Todo su codigo aqui\n",
        "     Scanner s = new Scanner(System.in); // nuestra herramienta para leer datos\n",
        "     int dia,j;  // indices que usaremos\n",
        "     int n,m; // n sera los dias y m las columnas\n",
        "     int A[][] = new int[50][50]; // Definimos el nombre de nuestra matriz y el tamaño maximo que puede llegar a tener.\n",
        "     n = 8; // Tenemos 8 dias\n",
        "     m = 2; // 2 columnas las cuales son dia y num de casos\n",
        "     for(dia=1;dia<=n;dia=dia+1){\n",
        "        System.out.println(\"Ingrese el numero de casos del dia \"+dia+\" el cual sera guardado de la forma A[\"+dia+\",# casos]\");\n",
        "        A[dia][1] = dia;\n",
        "        A[dia][2] = s.nextInt(); // leemos en la posicion A[i,j] que valor tendra\n",
        "     }\n",
        "     System.out.println(\"Los contagios por dia fueron los siguientes\");\n",
        "     System.out.println(\"Dia # Casos\");\n",
        "     for(dia=1;dia<=n;dia=dia+1){\n",
        "        for(j=1;j<=m;j=j+1){\n",
        "            System.out.print(A[dia][j] + \" \");\n",
        "        }\n",
        "        System.out.println(\"\");\n",
        "     }\n",
        "    } \n",
        "} "
      ],
      "execution_count": 0,
      "outputs": [
        {
          "output_type": "stream",
          "text": [
            "Overwriting Practica_dias.java\n"
          ],
          "name": "stdout"
        }
      ]
    },
    {
      "cell_type": "code",
      "metadata": {
        "id": "nbzYhXMZGeGF",
        "colab_type": "code",
        "outputId": "a109049d-dec4-451a-b9a9-58376f19719b",
        "colab": {
          "base_uri": "https://localhost:8080/",
          "height": 444
        }
      },
      "source": [
        "!java Practica_dias.java"
      ],
      "execution_count": 0,
      "outputs": [
        {
          "output_type": "stream",
          "text": [
            "Ingrese el numero de casos del dia 1 el cual sera guardado de la forma A[1,# casos]\n",
            "1\n",
            "Ingrese el numero de casos del dia 2 el cual sera guardado de la forma A[2,# casos]\n",
            "1\n",
            "Ingrese el numero de casos del dia 3 el cual sera guardado de la forma A[3,# casos]\n",
            "1\n",
            "Ingrese el numero de casos del dia 4 el cual sera guardado de la forma A[4,# casos]\n",
            "3\n",
            "Ingrese el numero de casos del dia 5 el cual sera guardado de la forma A[5,# casos]\n",
            "7\n",
            "Ingrese el numero de casos del dia 6 el cual sera guardado de la forma A[6,# casos]\n",
            "5\n",
            "Ingrese el numero de casos del dia 7 el cual sera guardado de la forma A[7,# casos]\n",
            "1\n",
            "Ingrese el numero de casos del dia 8 el cual sera guardado de la forma A[8,# casos]\n",
            "1\n",
            "Los contagios por dia fueron los siguientes\n",
            "Dia # Casos\n",
            "1 1 \n",
            "2 1 \n",
            "3 1 \n",
            "4 3 \n",
            "5 7 \n",
            "6 5 \n",
            "7 1 \n",
            "8 1 \n"
          ],
          "name": "stdout"
        }
      ]
    },
    {
      "cell_type": "markdown",
      "metadata": {
        "id": "lHXKMl6OLowT",
        "colab_type": "text"
      },
      "source": [
        "¿Que podemos sacar de esta matriz que hemos construido que pueda aportarnos información sobre como se comporta el COVID-19 en Barranquilla?"
      ]
    },
    {
      "cell_type": "markdown",
      "metadata": {
        "id": "-qdLWOtEIiAd",
        "colab_type": "text"
      },
      "source": [
        "Ahora que ya tenemos los días y el # de contagios por día tenemos que pensar una forma en como agrupar el resto de datos (que a excepción de \"Edad\" que es numerico todos son texto/Strings). Una forma en la que podemos hacer esto es manejar dos matrices.\n",
        "* Una para los datos numericos (los cuales son Dia, # Contagios y Edad), pero como en el mismo día podemos tener mas de un caso el codigo que hicimos anteriormente no nos serviria.\n",
        "* Otra para los datos texto/String (los cuales son Ciudad de ubicación, atención, Sexo, Tipo, Estado y País de procedencia)\n",
        "\n",
        "Otra forma podria ser, olvidarnos de todos los datos numericos (# de casos y edad) y mirar que podemos deducir solo de las columnas tipo texto/String\n",
        "\n",
        "Antes de hacer esto debemos preguntarnos, todos los datos son relevantes? la respuesta es, no. Para nuestro caso tanto la columna \"Ciudad de ubicación\" como \"País de procedencia\" tienen el mismo dato siempre. Entonces si lo agregamos o no a nuestra matriz es opcional."
      ]
    },
    {
      "cell_type": "markdown",
      "metadata": {
        "id": "e1oOx7aTMhPe",
        "colab_type": "text"
      },
      "source": [
        "Implementemos la 1ra forma y veamos que podemos sacar de ella."
      ]
    },
    {
      "cell_type": "markdown",
      "metadata": {
        "id": "06wnW7nhMm0e",
        "colab_type": "text"
      },
      "source": [
        "### **1ra Forma**"
      ]
    },
    {
      "cell_type": "code",
      "metadata": {
        "id": "C72OiMhbGg9Y",
        "colab_type": "code",
        "outputId": "a9fc7f58-267e-473d-fb07-a34c45fad80a",
        "colab": {
          "base_uri": "https://localhost:8080/",
          "height": 32
        }
      },
      "source": [
        "%%writefile Practica_Forma1.java\n",
        "import java.util.Scanner; \n",
        "class Practica_Forma1\n",
        "{ \n",
        "    public static void main(String args[]) \n",
        "    { \n",
        "      //Todo su codigo aqui\n",
        "     Scanner s = new Scanner(System.in); // nuestra herramienta para leer datos\n",
        "     int datos,j;  // indices que usaremos\n",
        "     int n,mString; // n sera el numero de datos, ahora tendremos dos matrices, cada una con su numero de columnas\n",
        "     int A[] = new int[50]; // Donde guardaremos la edad\n",
        "     String B[][] = new String[50][50]; // Donde guardaremos las variables tipo texto/String\n",
        "     n = 3; // Tenemos 20 datos pero solo tomare 3 de prueba\n",
        "     mString = 4;\n",
        "     for(datos=1;datos<=n;datos=datos+1){\n",
        "         System.out.println(\"Ingrese el dato \"+datos+\" el cual sera guardado de la forma B[atencion,Sexo,Tipo,Estado] y estara relacionado con la edad que se guarde en A[\"+datos+\"]\");\n",
        "         System.out.println(\"Digite la edad del dato \"+datos);\n",
        "         A[datos] = s.nextInt(); // Digitamos la edad del dato datos\n",
        "         System.out.println(\"Digite el estado de atencion del dato \"+ datos + \"(Recordad Casa, Hospital o Fallecido)\");\n",
        "         B[datos][1] = s.next();\n",
        "         System.out.println(\"Digite el Sexo del dato \"+ datos+ \"(Recordad F = Femenino y M = Masculino)\");\n",
        "         B[datos][2] = s.next(); // leemos en la posicion A[i,j] que valor tendra\n",
        "         System.out.println(\"Digite como se contagio el dato \"+ datos + \"(Recordar Importado, Relacionado o Estudio)\");\n",
        "         B[datos][3] = s.next();\n",
        "         System.out.println(\"Digite el estado del dato \"+ datos+ \" (Recuerde Leve, Moderado, Grave, Asintomático o Fallecido)\");\n",
        "         B[datos][4] = s.next();\n",
        "      }\n",
        "     \n",
        "     System.out.println(\"Los datos son los siguientes\");\n",
        "     for(datos=1;datos<=n;datos=datos+1){\n",
        "         System.out.print(A[datos]+ \" \");\n",
        "        for(j=1;j<=mString;j=j+1){\n",
        "            System.out.print(B[datos][j] + \" \");\n",
        "        }\n",
        "        System.out.println(\"\");\n",
        "     }\n",
        "    } \n",
        "} "
      ],
      "execution_count": 0,
      "outputs": [
        {
          "output_type": "stream",
          "text": [
            "Overwriting Practica_Forma1.java\n"
          ],
          "name": "stdout"
        }
      ]
    },
    {
      "cell_type": "code",
      "metadata": {
        "id": "o_p5tnffRScm",
        "colab_type": "code",
        "outputId": "5c6d8ea2-3c46-48fb-c31a-8bb17082c721",
        "colab": {
          "base_uri": "https://localhost:8080/",
          "height": 625
        }
      },
      "source": [
        "!java Practica_Forma1.java"
      ],
      "execution_count": 0,
      "outputs": [
        {
          "output_type": "stream",
          "text": [
            "Ingrese el dato 1 el cual sera guardado de la forma B[atencion,Sexo,Tipo,Estado] y estara relacionado con la edad que se guarde en A[1]\n",
            "Digite la edad del dato 1\n",
            "79\n",
            "Digite el estado de atencion del dato 1(Recordad Casa, Hospital o Fallecido)\n",
            "Hospital\n",
            "Digite el Sexo del dato 1(Recordad F = Femenino y M = Masculino)\n",
            "F\n",
            "Digite como se contagio el dato 1(Recordar Importado, Relacionado o Estudio)\n",
            "Estudio\n",
            "Digite el estado del dato 1 (Recuerde Leve, Moderado, Grave, Asintomático o Fallecido)\n",
            "Moderado\n",
            "Ingrese el dato 2 el cual sera guardado de la forma B[atencion,Sexo,Tipo,Estado] y estara relacionado con la edad que se guarde en A[2]\n",
            "Digite la edad del dato 2\n",
            "67\n",
            "Digite el estado de atencion del dato 2(Recordad Casa, Hospital o Fallecido)\n",
            "Fallecido\n",
            "Digite el Sexo del dato 2(Recordad F = Femenino y M = Masculino)\n",
            "M\n",
            "Digite como se contagio el dato 2(Recordar Importado, Relacionado o Estudio)\n",
            "Estudio\n",
            "Digite el estado del dato 2 (Recuerde Leve, Moderado, Grave, Asintomático o Fallecido)\n",
            "Fallecido\n",
            "Ingrese el dato 3 el cual sera guardado de la forma B[atencion,Sexo,Tipo,Estado] y estara relacionado con la edad que se guarde en A[3]\n",
            "Digite la edad del dato 3\n",
            "35\n",
            "Digite el estado de atencion del dato 3(Recordad Casa, Hospital o Fallecido)\n",
            "Casa\n",
            "Digite el Sexo del dato 3(Recordad F = Femenino y M = Masculino)\n",
            "F\n",
            "Digite como se contagio el dato 3(Recordar Importado, Relacionado o Estudio)\n",
            "Estudio\n",
            "Digite el estado del dato 3 (Recuerde Leve, Moderado, Grave, Asintomático o Fallecido)\n",
            "Asintomatico\n",
            "Los datos son los siguientes\n",
            "79 Hospital F Estudio Moderado \n",
            "67 Fallecido M Estudio Fallecido \n",
            "35 Casa F Estudio Asintomatico \n"
          ],
          "name": "stdout"
        }
      ]
    },
    {
      "cell_type": "markdown",
      "metadata": {
        "id": "sr3MfwvPUnDd",
        "colab_type": "text"
      },
      "source": [
        "# **PREGUNTA IMPORTANTE**\n",
        "\n",
        "¿Se puede usar una matriz ya creada?"
      ]
    },
    {
      "cell_type": "markdown",
      "metadata": {
        "id": "836ymfxVVbBg",
        "colab_type": "text"
      },
      "source": [
        "La respuesta: SI"
      ]
    },
    {
      "cell_type": "code",
      "metadata": {
        "id": "0yox1OsTRk0C",
        "colab_type": "code",
        "outputId": "931a2511-0874-44d7-9fe3-0e839977320e",
        "colab": {
          "base_uri": "https://localhost:8080/",
          "height": 32
        }
      },
      "source": [
        "%%writefile Pregunta.java\n",
        "import java.util.Scanner; \n",
        "class Pregunta\n",
        "{ \n",
        "    public static void main(String args[]) \n",
        "    { \n",
        "      //Todo su codigo aqui\n",
        "     Scanner s = new Scanner(System.in); // nuestra herramienta para leer datos\n",
        "     int i,j;  // indices que usaremos\n",
        "     double ContF,ContM;\n",
        "     double promF, promM;\n",
        "     int maximo, minimo;\n",
        "     String A[][] = {{\"Hospital\",\"F\",\"Estudio\",\"Moderado\"},{\"Fallecido\",\"M\",\"Estudio\",\"Fallecido\"},{\"Casa\",\"F\",\"Estudio\",\"Asintomatico\"},\n",
        "          {\"Casa\",\"F\",\"Estudio\",\"Leve\"},{\"Casa\",\"M\",\"Estudio\",\"Leve\"},{\"Hospital\",\"F\",\"Estudio\",\"Moderado\"},\n",
        "          {\"Casa\",\"M\",\"Estudio\",\"Leve\"},{\"Casa\",\"M\",\"Estudio\",\"Asintomatico\"},{\"Casa\",\"M\",\"Estudio\",\"Leve\"}};\n",
        "     int B[] = {79,67,35,74,32,49,34,29,37};\n",
        "     System.out.println(\"Los datos son los siguientes\");\n",
        "     for(i=0;i<9;i=i+1){\n",
        "         System.out.print(B[i] +\" \");\n",
        "        for(j=0;j<4;j=j+1){\n",
        "            System.out.print(A[i][j] + \" \");\n",
        "        }\n",
        "        System.out.println(\"\");\n",
        "     }\n",
        "     ContF = 0;\n",
        "     ContM = 0;\n",
        "     for(i=0;i<9;i=i+1){\n",
        "         for(j=0;j<4;j=j+1){\n",
        "             if(A[i][j] == \"F\"){\n",
        "                 ContF = ContF + 1;\n",
        "             }else{ \n",
        "                 if(A[i][j] == \"M\"){\n",
        "                     ContM = ContM +1;\n",
        "                 }\n",
        "             }\n",
        "         }\n",
        "     }\n",
        "     promF = ContF/9;\n",
        "     promM = ContM/9;\n",
        "     System.out.println(\"El numero de casos de COVID-19 en mujeres en la data es \" +ContF+ \"y el promedio con respecto al total de casos es \"+ promF );\n",
        "     System.out.println(\"El numero de casos de COVID-19 en hombres en la data es \" +ContM + \" y el promedio con respecto al total de casos es \"+  promM);\n",
        "     maximo = B[0];\n",
        "     minimo = B[0];\n",
        "     for(i=1;i<9;i=i+1){\n",
        "         if(B[i]> maximo){\n",
        "             maximo = B[i];\n",
        "         }else{\n",
        "             if(B[i]<minimo){\n",
        "                 minimo = B[i];\n",
        "             }\n",
        "         }\n",
        "     }\n",
        "     System.out.println(\"La mayor edad en los casos dados es \"+ maximo);\n",
        "     System.out.println(\"La menor edad en los casos dados es \"+ minimo);\n",
        "    } \n",
        "} "
      ],
      "execution_count": 0,
      "outputs": [
        {
          "output_type": "stream",
          "text": [
            "Overwriting Pregunta.java\n"
          ],
          "name": "stdout"
        }
      ]
    },
    {
      "cell_type": "code",
      "metadata": {
        "id": "Vm5S29L_XD6G",
        "colab_type": "code",
        "outputId": "a43cce9b-8a77-47bd-ae79-45832dd22d3a",
        "colab": {
          "base_uri": "https://localhost:8080/",
          "height": 247
        }
      },
      "source": [
        "!java Pregunta.java"
      ],
      "execution_count": 0,
      "outputs": [
        {
          "output_type": "stream",
          "text": [
            "Los datos son los siguientes\n",
            "79 Hospital F Estudio Moderado \n",
            "67 Fallecido M Estudio Fallecido \n",
            "35 Casa F Estudio Asintomatico \n",
            "74 Casa F Estudio Leve \n",
            "32 Casa M Estudio Leve \n",
            "49 Hospital F Estudio Moderado \n",
            "34 Casa M Estudio Leve \n",
            "29 Casa M Estudio Asintomatico \n",
            "37 Casa M Estudio Leve \n",
            "El numero de casos de COVID-19 en mujeres en la data es 4.0y el promedio con respecto al total de casos es 0.4444444444444444\n",
            "El numero de casos de COVID-19 en hombres en la data es 5.0 y el promedio con respecto al total de casos es 0.5555555555555556\n",
            "La mayor edad en los casos dados es 79\n",
            "La menor edad en los casos dados es 29\n"
          ],
          "name": "stdout"
        }
      ]
    }
  ]
}