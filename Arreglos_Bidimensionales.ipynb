{
  "nbformat": 4,
  "nbformat_minor": 0,
  "metadata": {
    "colab": {
      "name": "Arreglos_Bidimensionales.ipynb",
      "provenance": [],
      "collapsed_sections": [],
      "authorship_tag": "ABX9TyM48S/gDszHY/NvQc6TtX4X"
    },
    "kernelspec": {
      "name": "python3",
      "display_name": "Python 3"
    }
  },
  "cells": [
    {
      "cell_type": "markdown",
      "metadata": {
        "id": "Y_VElm1MSWIb",
        "colab_type": "text"
      },
      "source": [
        "# Arreglos bidimensionales / Matrices"
      ]
    },
    {
      "cell_type": "markdown",
      "metadata": {
        "id": "WT39wrwOTOHV",
        "colab_type": "text"
      },
      "source": [
        "Un arreglo bidimensional es un conjunto de elementos del mismo tipo contenidos en un conjunto de vectores fila (o líneas), los cuales se intersectan con tro conjunto de vectores columna; y el espacio de intersección fila con columna genera un lugar de almacenamiento de la información. Este espacio es direccionado por dos subíndices que identifican la posición dentro del arreglo en el que se encuentra la información."
      ]
    },
    {
      "cell_type": "markdown",
      "metadata": {
        "id": "myDgLE5dTy4_",
        "colab_type": "text"
      },
      "source": [
        "Las características de los vectores files y columnas que forman la matriz tiene las mismas características que fueron enunciadas para los vectores unidimensionales. De todas formas vamos a enunciarlas:\n",
        "\n",
        "* El nombre que identifica la matriz.\n",
        "* Un subíndice que direcciona los vectores filas.\n",
        "* Un subíndice que direcciona los vectores columnas.\n",
        "* La intersección del vectori fila y columna, la cual es la relación cruzada fila y columna que genera un espacio de almacenamiento.\n",
        "* La información contenida en cada pareja de subindices.\n",
        "* La dimensión del arreglo o espacio de almacenamiento.\n",
        "\n"
      ]
    },
    {
      "cell_type": "markdown",
      "metadata": {
        "id": "tmdLw05dWlpl",
        "colab_type": "text"
      },
      "source": [
        "Visualicemos todas las caracteristicas antes mencionadas. Sea B una matriz compuesta por la intersección de tres vectores filas con tres columnas (Matrix B de 3 filas y 3 columnas). Sea **_i_** el subíndice de direccionamiento de los vectores fila y **_j_** el subíndice de direccionamiento de los vectores columna. Luego el rango de los subindices mencionados está contenido en el intervalo cerrado 1$\\leq$i,j$\\leq$3.\n",
        "Una representacion grafica de la matriz es:\n",
        "\n",
        ">|$B_{n,n = 3,3}$| Columna j = 1| Columna j = 2| Columna j = 3|\n",
        ">--- | ---| ---|---|\n",
        ">| Fila i = 1|$b_{1,1}$ |$b_{1,2}$|$b_{1,3}$|\n",
        ">| Fila i = 2|$b_{2,1}$ |$b_{2,2}$|$b_{2,3}$|\n",
        ">| Fila i = 3|$b_{3,1}$ |$b_{3,2}$|$b_{3,3}$|\n",
        "\n",
        "La matriz **B** se conoce como una matrix cuadrada dado que tiene la misma cantidad de filas que de columnas.\n",
        "Si quisieramos acceder a la información de la fila 2, columna 3 , seria B[2,3] = $b_{2,3}$"
      ]
    },
    {
      "cell_type": "markdown",
      "metadata": {
        "id": "rzYE42kGbR7H",
        "colab_type": "text"
      },
      "source": [
        "Que podemos usar para crear,manejar,modificar o hacer operaciones con vectores?\n",
        "\n",
        "* Ciclo para\n",
        "* Ciclo Mientras que\n",
        "* Ciclo Haga hasta"
      ]
    },
    {
      "cell_type": "markdown",
      "metadata": {
        "id": "y1LVg3nIcv3Y",
        "colab_type": "text"
      },
      "source": [
        "### **Ejemplos basicos**"
      ]
    },
    {
      "cell_type": "markdown",
      "metadata": {
        "id": "vIzNoNrac3LH",
        "colab_type": "text"
      },
      "source": [
        "Dado un matriz A de nxn elementos, la cual almacena información de números enteros, diseñe un algoritmo que lea los elementos por columna e imprima los elementos de la matriz por filas."
      ]
    },
    {
      "cell_type": "code",
      "metadata": {
        "id": "ASMU8TygSQez",
        "colab_type": "code",
        "colab": {
          "base_uri": "https://localhost:8080/",
          "height": 32
        },
        "outputId": "df315ef9-62fc-412e-817e-71e28ccced5a"
      },
      "source": [
        "%%writefile Leer_Escribir_Matrices.java\n",
        "import java.util.Scanner; \n",
        "class Leer_Escribir_Matrices\n",
        "{ \n",
        "    public static void main(String args[]) \n",
        "    { \n",
        "      Scanner s = new Scanner(System.in); // nuestra herramienta para leer datos\n",
        "      int i,j;  // indices que usaremos. i para filas y j para columnas\n",
        "      int n; // la cantidad de elementos que tendremos. Como es nxn solo necesitamos leer n.\n",
        "      int A[][] = new int[50][50]; // Definimos el nombre de nuestra matriz y el tamaño maximo que puede llegar a tener.\n",
        "      System.out.println(\"Digite el tamaño de la matriz A (Recuerde que es una matriz cuadrada)\");\n",
        "      n = s.nextInt();\n",
        "     //Leemos la matriz A por columnas\n",
        "     for(j = 1; j<=n; j = j +1){ // Recorreremos cada columna de la matriz A\n",
        "        for(i = 1; i<=n; i = i +1){ // Por cada valor de j recorreremos todos los valores de i, o en otras palabras, por cada columna recorreremos todas las filas\n",
        "          System.out.println(\"Ingrese el valor de la posicion A[\"+i+\",\"+j+\"]\");\n",
        "          A[i][j] = s.nextInt(); // leemos en la posicion A[i,j] que valor tendra\n",
        "        }\n",
        "     }\n",
        "     // Escribimos la matriz A por filas\n",
        "      for(i = 1; i<=n; i = i +1){ // Recorreremos cada fila de la matriz A\n",
        "          for(j = 1; j<=n; j = j +1){ // Por cada valor de i recorreremos todos los valores de j, o en otras palabras, por cada fila recorreremos todas las columnas \n",
        "            System.out.println(\"La posicion A[\"+i+\",\"+j+\"] tiene el valor \"+A[i][j]);\n",
        "          }\n",
        "      }\n",
        "     // Escribamos la matriz A de forma matricial\n",
        "     for(i = 1; i<=n;i = i+1){\n",
        "         for(j = 1; j<=n; j= j+1){\n",
        "             System.out.print(A[i][j] + \" \");\n",
        "         }\n",
        "         System.out.println(\"\");\n",
        "     }\n",
        "    }\n",
        "  \n",
        "}"
      ],
      "execution_count": 6,
      "outputs": [
        {
          "output_type": "stream",
          "text": [
            "Overwriting Leer_Escribir_Matrices.java\n"
          ],
          "name": "stdout"
        }
      ]
    },
    {
      "cell_type": "code",
      "metadata": {
        "id": "ECS0g8jKfZR5",
        "colab_type": "code",
        "colab": {
          "base_uri": "https://localhost:8080/",
          "height": 543
        },
        "outputId": "88307575-7a72-417d-fb51-7e6675e69edc"
      },
      "source": [
        "!java Leer_Escribir_Matrices.java"
      ],
      "execution_count": 7,
      "outputs": [
        {
          "output_type": "stream",
          "text": [
            "Digite el tamaño de la matriz A (Recuerde que es una matriz cuadrada)\n",
            "3\n",
            "Ingrese el valor de la posicion A[1,1]\n",
            "10\n",
            "Ingrese el valor de la posicion A[2,1]\n",
            "20\n",
            "Ingrese el valor de la posicion A[3,1]\n",
            "30\n",
            "Ingrese el valor de la posicion A[1,2]\n",
            "40\n",
            "Ingrese el valor de la posicion A[2,2]\n",
            "50\n",
            "Ingrese el valor de la posicion A[3,2]\n",
            "60\n",
            "Ingrese el valor de la posicion A[1,3]\n",
            "70\n",
            "Ingrese el valor de la posicion A[2,3]\n",
            "80\n",
            "Ingrese el valor de la posicion A[3,3]\n",
            "90\n",
            "La posicion A[1,1] tiene el valor 10\n",
            "La posicion A[1,2] tiene el valor 40\n",
            "La posicion A[1,3] tiene el valor 70\n",
            "La posicion A[2,1] tiene el valor 20\n",
            "La posicion A[2,2] tiene el valor 50\n",
            "La posicion A[2,3] tiene el valor 80\n",
            "La posicion A[3,1] tiene el valor 30\n",
            "La posicion A[3,2] tiene el valor 60\n",
            "La posicion A[3,3] tiene el valor 90\n",
            "10 40 70 \n",
            "20 50 80 \n",
            "30 60 90 \n"
          ],
          "name": "stdout"
        }
      ]
    },
    {
      "cell_type": "markdown",
      "metadata": {
        "id": "lHGNwAwfghEz",
        "colab_type": "text"
      },
      "source": [
        "Sea una matriz A de nxn elementos, la cual debe ser leida, diseñe un algoritmo para hallar la transpuesta de la matriz.\n",
        "\n",
        "Ejemplo\n",
        "> | | | |\n",
        ">|---|---|---|\n",
        ">|10|20|30|\n",
        ">|40|50|60|\n",
        ">|70| 80|90|\n",
        "\n",
        "Debe resultar en \n",
        "\n",
        "> | | | |\n",
        ">|---|---|---|\n",
        ">|10|40|70|\n",
        ">|20|50|80|\n",
        ">|30|60|90|"
      ]
    },
    {
      "cell_type": "code",
      "metadata": {
        "id": "CBsxniABfbVk",
        "colab_type": "code",
        "colab": {
          "base_uri": "https://localhost:8080/",
          "height": 32
        },
        "outputId": "08b1aae2-912d-4afc-8882-d28457aadc56"
      },
      "source": [
        "%%writefile Transpuesta_Matriz.java\n",
        "import java.util.Scanner; \n",
        "class Transpuesta_Matriz\n",
        "{ \n",
        "    public static void main(String args[]) \n",
        "    { \n",
        "      Scanner s = new Scanner(System.in); // nuestra herramienta para leer datos\n",
        "      int i,j;  // indices que usaremos. i para filas y j para columnas\n",
        "      int n; // la cantidad de elementos que tendremos. Como es nxn solo necesitamos leer n.\n",
        "      int temp;\n",
        "      int A[][] = new int[50][50]; // Definimos el nombre de nuestra matriz y el tamaño maximo que puede llegar a tener.\n",
        "      System.out.println(\"Digite el tamaño de la matriz A (Recuerde que es una matriz cuadrada)\");\n",
        "      n = s.nextInt();\n",
        "     //Leemos la matriz A por filas\n",
        "     for(i = 1; i<=n; i = i+1){ \n",
        "        for(j = 1; j<=n; j = j+1){\n",
        "          System.out.println(\"Ingrese el valor de la posicion A[\"+i+\",\"+j+\"]\");\n",
        "          A[i][j] = s.nextInt(); // leemos en la posicion A[i,j] que valor tendra\n",
        "        }\n",
        "     }\n",
        "     System.out.println(\"Matriz original A\");\n",
        "     for(i = 1; i<=n;i = i+1){\n",
        "         for(j = 1; j<=n; j= j+1){\n",
        "             System.out.print(A[i][j] + \" \");\n",
        "         }\n",
        "         System.out.println(\"\");\n",
        "     }\n",
        "     for(i = 1; i<=n;i = i+1){ // Recorreremos todas las filas\n",
        "        for(j = 1; j<=i-1; j= j+1){ // Iremos intercambiando por fila las posiciones que deban ser cambiadas\n",
        "             temp = A[i][j];\n",
        "             A[i][j] = A[j][i];\n",
        "             A[j][i] = temp;\n",
        "         }\n",
        "     }\n",
        "     System.out.println(\"Matriz transpuesta A\");\n",
        "     for(i = 1; i<=n;i = i+1){\n",
        "         for(j = 1; j<=n; j= j+1){\n",
        "             System.out.print(A[i][j] + \" \");\n",
        "         }\n",
        "         System.out.println(\"\");\n",
        "     }\n",
        "    }\n",
        "  \n",
        "}"
      ],
      "execution_count": 11,
      "outputs": [
        {
          "output_type": "stream",
          "text": [
            "Overwriting Transpuesta_Matriz.java\n"
          ],
          "name": "stdout"
        }
      ]
    },
    {
      "cell_type": "code",
      "metadata": {
        "id": "mvfCIeprSfXZ",
        "colab_type": "code",
        "colab": {
          "base_uri": "https://localhost:8080/",
          "height": 477
        },
        "outputId": "8269a34c-78e0-4d77-e1ad-920820d576f2"
      },
      "source": [
        "!java Transpuesta_Matriz.java"
      ],
      "execution_count": 12,
      "outputs": [
        {
          "output_type": "stream",
          "text": [
            "Digite el tamaño de la matriz A (Recuerde que es una matriz cuadrada)\n",
            "3\n",
            "Ingrese el valor de la posicion A[1,1]\n",
            "10\n",
            "Ingrese el valor de la posicion A[1,2]\n",
            "20\n",
            "Ingrese el valor de la posicion A[1,3]\n",
            "30\n",
            "Ingrese el valor de la posicion A[2,1]\n",
            "40\n",
            "Ingrese el valor de la posicion A[2,2]\n",
            "50\n",
            "Ingrese el valor de la posicion A[2,3]\n",
            "60\n",
            "Ingrese el valor de la posicion A[3,1]\n",
            "70\n",
            "Ingrese el valor de la posicion A[3,2]\n",
            "80\n",
            "Ingrese el valor de la posicion A[3,3]\n",
            "90\n",
            "Matriz original A\n",
            "10 20 30 \n",
            "40 50 60 \n",
            "70 80 90 \n",
            "Matriz transpuesta A\n",
            "10 40 70 \n",
            "20 50 80 \n",
            "30 60 90 \n"
          ],
          "name": "stdout"
        }
      ]
    },
    {
      "cell_type": "markdown",
      "metadata": {
        "id": "ez6edrxzXZaN",
        "colab_type": "text"
      },
      "source": [
        "Dad una matriz A de nxm elementos que contiene codigos representados por numeros de 4 digitos, y dada una llave X, la cual es leida, diseñe un algoritmo para encontrar la llave X en la matriz A utilizando la busqueda secuencial (elemento a elemento), tambien debe decir el subindice en el que esta ubicado la llave."
      ]
    },
    {
      "cell_type": "code",
      "metadata": {
        "id": "gmRvHSVnSgrI",
        "colab_type": "code",
        "colab": {
          "base_uri": "https://localhost:8080/",
          "height": 32
        },
        "outputId": "4b48bf81-38b3-4952-aa4b-5d130ce284d1"
      },
      "source": [
        "%%writefile Busqueda_Secuencial.java\n",
        "import java.util.Scanner; \n",
        "class Busqueda_Secuencial\n",
        "{ \n",
        "    public static void main(String args[]) \n",
        "    { \n",
        "      Scanner s = new Scanner(System.in); // nuestra herramienta para leer datos\n",
        "      int i,j,subindice_i,subindice_j;  \n",
        "      int n,m,x;\n",
        "      boolean sw; // tambien lo podemos declarar como entero  \n",
        "      int Numeros[][] = new int[50][50]; \n",
        "\n",
        "      System.out.println(\"Digite la cantidad de filas de la matriz A\");\n",
        "      n = s.nextInt();\n",
        "      System.out.println(\"Digite la cantidad de columnas de la matriz A\");\n",
        "      m = s.nextInt();\n",
        "      for(i=1;i<=n;i=i+1){\n",
        "          for(j=1;j<=m;j=j+1){\n",
        "              System.out.println(\"Digite la posicion A[\"+i+\",\"+j+\"] de la matriz\");\n",
        "              Numeros[i][j] = s.nextInt();\n",
        "          }\n",
        "      }\n",
        "      System.out.println(\"La matriz es :\");\n",
        "      for(i = 1; i<=n;i = i+1){\n",
        "         for(j = 1; j<=m; j= j+1){\n",
        "             System.out.print(Numeros[i][j] + \" \");\n",
        "         }\n",
        "         System.out.println(\"\");\n",
        "     }\n",
        "     \n",
        "      System.out.println(\"Digite el valor X que desea buscar en A\");\n",
        "      x = s.nextInt();\n",
        "      sw = false; //iniciaremos la variable en falso porque no hemos encontrado la llave\n",
        "      subindice_i = 0;\n",
        "      subindice_j = 0;\n",
        "      i = 0;\n",
        "      while(i<n && sw == false){ \n",
        "          i = i +1;\n",
        "          j = 0;\n",
        "          while(j<m && sw == false){\n",
        "              j = j+1;\n",
        "              if(Numeros[i][j] == x){\n",
        "                  sw = true;\n",
        "                  subindice_i = i;\n",
        "                  subindice_j = j;\n",
        "              }\n",
        "          }\n",
        "      }\n",
        "     if(sw == true){ // si sw es verdadero encontramos el numero en algun subindice subindice\n",
        "         System.out.println(\"El elemento \"+x+\" se encuentra en la posicion A[\"+subindice_i+\",\"+subindice_j+\"] del vector\");\n",
        "     }else{\n",
        "         System.out.println(\"El elemento \"+x+\" no se encuentra en el vector\");\n",
        "     }\n",
        "      \n",
        "    } \n",
        "} "
      ],
      "execution_count": 6,
      "outputs": [
        {
          "output_type": "stream",
          "text": [
            "Overwriting Busqueda_Secuencial.java\n"
          ],
          "name": "stdout"
        }
      ]
    },
    {
      "cell_type": "code",
      "metadata": {
        "id": "HzwtSh-8ZU1e",
        "colab_type": "code",
        "colab": {
          "base_uri": "https://localhost:8080/",
          "height": 592
        },
        "outputId": "2fadd3de-fb9e-498b-931e-b051813f74d9"
      },
      "source": [
        "!java Busqueda_Secuencial.java"
      ],
      "execution_count": 7,
      "outputs": [
        {
          "output_type": "stream",
          "text": [
            "Digite la cantidad de filas de la matriz A\n",
            "3\n",
            "Digite la cantidad de columnas de la matriz A\n",
            "4\n",
            "Digite la posicion A[1,1] de la matriz\n",
            "1111\n",
            "Digite la posicion A[1,2] de la matriz\n",
            "2222\n",
            "Digite la posicion A[1,3] de la matriz\n",
            "3333\n",
            "Digite la posicion A[1,4] de la matriz\n",
            "4444\n",
            "Digite la posicion A[2,1] de la matriz\n",
            "5555\n",
            "Digite la posicion A[2,2] de la matriz\n",
            "6666\n",
            "Digite la posicion A[2,3] de la matriz\n",
            "7777\n",
            "Digite la posicion A[2,4] de la matriz\n",
            "8888\n",
            "Digite la posicion A[3,1] de la matriz\n",
            "9999\n",
            "Digite la posicion A[3,2] de la matriz\n",
            "1010\n",
            "Digite la posicion A[3,3] de la matriz\n",
            "2020\n",
            "Digite la posicion A[3,4] de la matriz\n",
            "3030\n",
            "La matriz es :\n",
            "1111 2222 3333 4444 \n",
            "5555 6666 7777 8888 \n",
            "9999 1010 2020 3030 \n",
            "Digite el valor X que desea buscar en A\n",
            "7777\n",
            "El elemento 7777 se encuentra en la posicion A[2,3] del vector\n"
          ],
          "name": "stdout"
        }
      ]
    },
    {
      "cell_type": "markdown",
      "metadata": {
        "id": "WKCtnm8Ogceu",
        "colab_type": "text"
      },
      "source": [
        "Dadas dos matrices A y B de nxm elementos (n puede ser igual a m pero no es seguro), realice la multiplicacion matricial de A y B y guardela en C. Debe mostrar el resultado al final. (Debe validar que la multiplicacion pueda realizarce)"
      ]
    },
    {
      "cell_type": "code",
      "metadata": {
        "id": "6rkLvPVcgqou",
        "colab_type": "code",
        "colab": {
          "base_uri": "https://localhost:8080/",
          "height": 32
        },
        "outputId": "3ed66f78-fa7b-4a78-e75a-e927816e17e6"
      },
      "source": [
        "%%writefile Multiplicacion_matricial.java\n",
        "import java.util.Scanner; \n",
        "class Multiplicacion_matricial\n",
        "{ \n",
        "    public static void main(String args[]) \n",
        "    {\n",
        "     Scanner s = new Scanner(System.in); // nuestra herramienta para leer datos\n",
        "     int i,j,nA,mA,nB,mB,k;\n",
        "     double suma;\n",
        "     double A[][] = new double[50][50];\n",
        "     double B[][] = new double[50][50];\n",
        "     double C[][] = new double[50][50];\n",
        "     System.out.println(\"Digite el numero de filas de A\");\n",
        "     nA = s.nextInt();\n",
        "     System.out.println(\"Digite el numero de columnas de A\");\n",
        "     mA = s.nextInt();\n",
        "     System.out.println(\"Digite el numero de filas de B\");\n",
        "     nB = s.nextInt();\n",
        "     System.out.println(\"Digite el numero de columnas de B\");\n",
        "     mB = s.nextInt(); \n",
        "     if(nA == nB && mA == mB){ // Si esta condicion se cumple entonces A y B tienen las mismas dimensiones y podemos leerlas al mismo tiempo\n",
        "        for(i = 1;i<=nA; i = i+1){\n",
        "          for(j = 1; j <= mB; j = j+1){\n",
        "              System.out.println(\"Digite el valor de la matriz A[\"+i+\",\"+j+\"]\");\n",
        "              A[i][j] = s.nextDouble();\n",
        "              System.out.println(\"Digite el valor de la matriz B[\"+i+\",\"+j+\"]\");\n",
        "              B[i][j] = s.nextDouble();\n",
        "          }\n",
        "        }\n",
        "     }else{ // Si esta condicion se cumple entonces A y B no tienen las mismas dimensiones y debemos leerlas por separado\n",
        "        System.out.println(\"Matriz A\");\n",
        "        for(i = 1;i<=nA; i = i+1){\n",
        "          for(j = 1; j <= mA; j = j+1){\n",
        "              System.out.println(\"Digite el valor de la matriz A[\"+i+\",\"+j+\"]\");\n",
        "              A[i][j] = s.nextDouble();\n",
        "          }\n",
        "        }\n",
        "        System.out.println(\"Matriz B\");\n",
        "        for(i = 1;i<=nB; i = i+1){\n",
        "          for(j = 1; j <= mB; j = j+1){\n",
        "              System.out.println(\"Digite el valor de la matriz B[\"+i+\",\"+j+\"]\");\n",
        "              B[i][j] = s.nextDouble();\n",
        "          }\n",
        "        }\n",
        "     }\n",
        "     System.out.println(\"Asi queda la matriz A con dimensiones \"+nA+\",\"+mA);\n",
        "      for(i = 1; i<=nA;i = i+1){\n",
        "         for(j = 1; j<=mA; j= j+1){\n",
        "             System.out.print(A[i][j] + \" \");\n",
        "         }\n",
        "         System.out.println(\"\");\n",
        "     }\n",
        "     System.out.println(\"Asi queda la matriz B con dimensiones \"+nB+\",\"+mB);\n",
        "      for(i = 1; i<=nB;i = i+1){\n",
        "         for(j = 1; j<=mB; j= j+1){\n",
        "             System.out.print(B[i][j] + \" \");\n",
        "         }\n",
        "         System.out.println(\"\");\n",
        "     }     \n",
        "     // Ahora resolvamos la multiplicacion de A y B\n",
        "     // Como no podemos asegurar que A y B tienen las mismas dimensiones tenemos que preguntar si si podemos hacer la multiplicacion o no\n",
        "     // Recordemos que para hacer esto tenemos que preguntar si el numero de columnas de la primera matriz (A en nuestro caso)\n",
        "     // Es igual al numero de filas de la segunda matriz (B en nuestro caso). Si esto se cumple entonces podemos hacer la multiplicacion\n",
        "     // De no cumplirse no podemos\n",
        "     if (mA == nB){\n",
        "         for(i=1;i<=nA; i = i+1){\n",
        "             for(j = 1; j <= mB; j = j+1){\n",
        "                 // Recordemos que la multiplicacion de matrices se hace multiplicando cada elemento de la fila de A_i por cada elemento\n",
        "                 // de la columna de B_j y sumandolo.\n",
        "                 C[i][j] = 0;\n",
        "                 for (k = 1;k <= mA; k = k+1){\n",
        "                     C[i][j] = C[i][j] + A[i][k]*B[k][j];\n",
        "                 }\n",
        "             }\n",
        "         }\n",
        "     System.out.println(\"Asi queda la matriz C con dimensiones \"+nA+\",\"+mB);\n",
        "      for(i = 1; i<=nA;i = i+1){\n",
        "         for(j = 1; j<=mB; j= j+1){\n",
        "             System.out.print(C[i][j] + \" \");\n",
        "         }\n",
        "         System.out.println(\"\");\n",
        "     }\n",
        "     }else{\n",
        "         System.out.println(\"Dada las dimensionalidades de A y B no se puede hacer la multiplicacion\");\n",
        "     }\n",
        "    }\n",
        "}"
      ],
      "execution_count": 8,
      "outputs": [
        {
          "output_type": "stream",
          "text": [
            "Writing Multiplicacion_matricial.java\n"
          ],
          "name": "stdout"
        }
      ]
    },
    {
      "cell_type": "code",
      "metadata": {
        "id": "OjXwn4tVmIba",
        "colab_type": "code",
        "colab": {
          "base_uri": "https://localhost:8080/",
          "height": 823
        },
        "outputId": "2fe5b8fe-667e-4024-c456-f681bcd87700"
      },
      "source": [
        "!java Multiplicacion_matricial.java"
      ],
      "execution_count": 11,
      "outputs": [
        {
          "output_type": "stream",
          "text": [
            "Digite el numero de filas de A\n",
            "3\n",
            "Digite el numero de columnas de A\n",
            "2\n",
            "Digite el numero de filas de B\n",
            "2\n",
            "Digite el numero de columnas de B\n",
            "4\n",
            "Matriz A\n",
            "Digite el valor de la matriz A[1,1]\n",
            "1\n",
            "Digite el valor de la matriz A[1,2]\n",
            "1\n",
            "Digite el valor de la matriz A[2,1]\n",
            "1\n",
            "Digite el valor de la matriz A[2,2]\n",
            "1\n",
            "Digite el valor de la matriz A[3,1]\n",
            "1\n",
            "Digite el valor de la matriz A[3,2]\n",
            "1\n",
            "Matriz B\n",
            "Digite el valor de la matriz B[1,1]\n",
            "1\n",
            "Digite el valor de la matriz B[1,2]\n",
            "1\n",
            "Digite el valor de la matriz B[1,3]\n",
            "1\n",
            "Digite el valor de la matriz B[1,4]\n",
            "1\n",
            "Digite el valor de la matriz B[2,1]\n",
            "1\n",
            "Digite el valor de la matriz B[2,2]\n",
            "1\n",
            "Digite el valor de la matriz B[2,3]\n",
            "1\n",
            "Digite el valor de la matriz B[2,4]\n",
            "1\n",
            "Asi queda la matriz A con dimensiones 3,2\n",
            "1.0 1.0 \n",
            "1.0 1.0 \n",
            "1.0 1.0 \n",
            "Asi queda la matriz B con dimensiones 2,4\n",
            "1.0 1.0 1.0 1.0 \n",
            "1.0 1.0 1.0 1.0 \n",
            "Asi queda la matriz C con dimensiones 3,4\n",
            "2.0 2.0 2.0 2.0 \n",
            "2.0 2.0 2.0 2.0 \n",
            "2.0 2.0 2.0 2.0 \n"
          ],
          "name": "stdout"
        }
      ]
    },
    {
      "cell_type": "markdown",
      "metadata": {
        "id": "xxIuJSR6aqIo",
        "colab_type": "text"
      },
      "source": [
        "### **Ejemplos medianos**"
      ]
    },
    {
      "cell_type": "markdown",
      "metadata": {
        "id": "CDjGYRncawOH",
        "colab_type": "text"
      },
      "source": [
        "Dadas dos matrices A y B de nxn elementos  y un entero r, diseñe uno (o varios) algoritmos para realizar las operaciones:\n",
        "* Suma de matrices, la cual debe ser guardada en la matriz C.\n",
        "* Resta de matrices, la cual debe ser guardada en la matriz D.\n",
        "* Multiplicacion de matrices, la cual debe ser guardada en la matriz E.\n",
        "* multiplicacion de A por el entero r, la cual debe ser guardada en la matriz F."
      ]
    },
    {
      "cell_type": "code",
      "metadata": {
        "id": "0CBAIqycZWYS",
        "colab_type": "code",
        "colab": {
          "base_uri": "https://localhost:8080/",
          "height": 32
        },
        "outputId": "f105552e-2727-4987-a8ce-8233cf97b318"
      },
      "source": [
        "%%writefile Operaciones_matriciales.java\n",
        "import java.util.Scanner; \n",
        "class Operaciones_matriciales\n",
        "{ \n",
        "    public static void main(String args[]) \n",
        "    {\n",
        "      Scanner s = new Scanner(System.in); // nuestra herramienta para leer datos\n",
        "      int i,j,k,n,r;\n",
        "      int A[][] = new int[50][50];\n",
        "      int B[][] = new int[50][50];\n",
        "      int C[][] = new int[50][50];\n",
        "      int D[][] = new int[50][50];\n",
        "      int E[][] = new int[50][50];\n",
        "      int F[][] = new int[50][50];\n",
        "      System.out.println(\"Digite el numero de filas y columnas de A y B\");\n",
        "      n = s.nextInt();\n",
        "      System.out.println(\"Digite el valor de r\");\n",
        "      r = s.nextInt();\n",
        "      for(i = 1;i<=n; i = i+1){\n",
        "         for(j = 1; j <= n; j = j+1){\n",
        "            System.out.println(\"Digite el valor de la matriz A[\"+i+\",\"+j+\"]\");\n",
        "            A[i][j] = s.nextInt();\n",
        "            System.out.println(\"Digite el valor de la matriz B[\"+i+\",\"+j+\"]\");\n",
        "            B[i][j] = s.nextInt();\n",
        "         }\n",
        "      }\n",
        "     System.out.println(\"Matriz A\");\n",
        "      for(i = 1; i<=n;i = i+1){\n",
        "         for(j = 1; j<=n; j= j+1){\n",
        "             System.out.print(A[i][j] + \" \");\n",
        "         }\n",
        "         System.out.println(\"\");\n",
        "     }\n",
        "     System.out.println(\"Matriz B\");\n",
        "      for(i = 1; i<=n;i = i+1){\n",
        "         for(j = 1; j<=n; j= j+1){\n",
        "             System.out.print(B[i][j] + \" \");\n",
        "         }\n",
        "         System.out.println(\"\");\n",
        "     }\n",
        "     // Podemos hacer dos paras para cada operacion por separado o hacer uno solo para todos (ya que es nxn)\n",
        "     for(i = 1;i<=n; i = i+1){\n",
        "         for(j =1 ; j <=n; j = j+1){\n",
        "             // C = A+B\n",
        "             C[i][j] = A[i][j] + B[i][j]; // Recordemos que estamos sumando informacion\n",
        "             // D = A-B\n",
        "             D[i][j] = A[i][j]-B[i][j];\n",
        "             // E = A*B\n",
        "             E[i][j] =0;\n",
        "            for(k = 1;k<=n;k=k+1){\n",
        "                E[i][j] = E[i][j] + A[i][k]*B[k][j];\n",
        "            }\n",
        "            F[i][j] = A[i][j]*r;\n",
        "         }\n",
        "     }\n",
        "     // Vamos a imprimir los resultados\n",
        "     // SUMA\n",
        "     System.out.println(\"SUMA\");\n",
        "      for(i = 1; i<=n;i = i+1){\n",
        "         for(j = 1; j<=n; j= j+1){\n",
        "             System.out.print(C[i][j] + \" \");\n",
        "         }\n",
        "         System.out.println(\"\");\n",
        "     }\n",
        "     // RESTA\n",
        "     System.out.println(\"RESTA\");\n",
        "      for(i = 1; i<=n;i = i+1){\n",
        "         for(j = 1; j<=n; j= j+1){\n",
        "             System.out.print(D[i][j] + \" \");\n",
        "         }\n",
        "         System.out.println(\"\");\n",
        "     }\n",
        "     // MULTIPLICACION\n",
        "     System.out.println(\"MULTIPLICACION\");\n",
        "      for(i = 1; i<=n;i = i+1){\n",
        "         for(j = 1; j<=n; j= j+1){\n",
        "             System.out.print(E[i][j] + \" \");\n",
        "         }\n",
        "         System.out.println(\"\");\n",
        "     }\n",
        "     //MULTIPLICACION DE A POR r\n",
        "     System.out.println(\"MULTIPLICACION DE A POR r\");\n",
        "      for(i = 1; i<=n;i = i+1){\n",
        "         for(j = 1; j<=n; j= j+1){\n",
        "             System.out.print(F[i][j] + \" \");\n",
        "         }\n",
        "         System.out.println(\"\");\n",
        "     }\n",
        "\n",
        "    }\n",
        "}"
      ],
      "execution_count": 17,
      "outputs": [
        {
          "output_type": "stream",
          "text": [
            "Overwriting Operaciones_matriciales.java\n"
          ],
          "name": "stdout"
        }
      ]
    },
    {
      "cell_type": "code",
      "metadata": {
        "id": "dEU-6aVjop9M",
        "colab_type": "code",
        "colab": {
          "base_uri": "https://localhost:8080/",
          "height": 1000
        },
        "outputId": "45200043-45f5-4605-dd76-f4da2b60a0bd"
      },
      "source": [
        "!java Operaciones_matriciales.java"
      ],
      "execution_count": 19,
      "outputs": [
        {
          "output_type": "stream",
          "text": [
            "Digite el numero de filas y columnas de A y B\n",
            "3\n",
            "Digite el valor de r\n",
            "3\n",
            "Digite el valor de la matriz A[1,1]\n",
            "1\n",
            "Digite el valor de la matriz B[1,1]\n",
            "1\n",
            "Digite el valor de la matriz A[1,2]\n",
            "1\n",
            "Digite el valor de la matriz B[1,2]\n",
            "2\n",
            "Digite el valor de la matriz A[1,3]\n",
            "2\n",
            "Digite el valor de la matriz B[1,3]\n",
            "2\n",
            "Digite el valor de la matriz A[2,1]\n",
            "3\n",
            "Digite el valor de la matriz B[2,1]\n",
            "3\n",
            "Digite el valor de la matriz A[2,2]\n",
            "3\n",
            "Digite el valor de la matriz B[2,2]\n",
            "4\n",
            "Digite el valor de la matriz A[2,3]\n",
            "4\n",
            "Digite el valor de la matriz B[2,3]\n",
            "4\n",
            "Digite el valor de la matriz A[3,1]\n",
            "5\n",
            "Digite el valor de la matriz B[3,1]\n",
            "5\n",
            "Digite el valor de la matriz A[3,2]\n",
            "5\n",
            "Digite el valor de la matriz B[3,2]\n",
            "6\n",
            "Digite el valor de la matriz A[3,3]\n",
            "6\n",
            "Digite el valor de la matriz B[3,3]\n",
            "6\n",
            "Matriz A\n",
            "1 1 2 \n",
            "3 3 4 \n",
            "5 5 6 \n",
            "Matriz B\n",
            "1 2 2 \n",
            "3 4 4 \n",
            "5 6 6 \n",
            "SUMA\n",
            "2 3 4 \n",
            "6 7 8 \n",
            "10 11 12 \n",
            "RESTA\n",
            "0 -1 0 \n",
            "0 -1 0 \n",
            "0 -1 0 \n",
            "MULTIPLICACION\n",
            "14 18 18 \n",
            "32 42 42 \n",
            "50 66 66 \n",
            "MULTIPLICACION DE A POR r\n",
            "3 3 6 \n",
            "9 9 12 \n",
            "15 15 18 \n"
          ],
          "name": "stdout"
        }
      ]
    },
    {
      "cell_type": "markdown",
      "metadata": {
        "id": "NYPmxhhmr6wT",
        "colab_type": "text"
      },
      "source": [
        "### **Ejemplos Reto**"
      ]
    },
    {
      "cell_type": "markdown",
      "metadata": {
        "id": "HCJMRGQ3p_VR",
        "colab_type": "text"
      },
      "source": [
        "Dado un grupo de n estudiantes y m materias (cada materia tiene un numero k de creditos), haga un algoritmo que lea las notas de los estudiantes y la muestre estudiante por fila. Tambien debe calcular el promedio semestral de cada estudiante y guardarlo en un vector para despues mostrarlo junto con el codigo de cada estudiante. Suponga que la primera columna es para el codigo de cada estudiante.\n",
        "Ejemplo de la matriz:\n",
        "\n",
        ">||Codigo|Materia_1|...|Materia_m|\n",
        ">|---|---|---|---|---|\n",
        ">|Estudiante_1|2001| 3.1 | ... | 3.3|\n",
        ">| ... | ... |...| ... | ... |\n",
        "> Estudiante_n| 2020|5|...|5|\n",
        "\n",
        "Ejemplo promedio\n",
        "> |Codigo|Promedio|\n",
        "> |---|---|\n",
        "> | 2001| 3.5|\n",
        "> |...|...|\n",
        "> | 2020| 5| "
      ]
    },
    {
      "cell_type": "code",
      "metadata": {
        "id": "Cwa3gsTyorIE",
        "colab_type": "code",
        "colab": {
          "base_uri": "https://localhost:8080/",
          "height": 32
        },
        "outputId": "134970e0-2729-4a4d-ec7c-21dea80c6fb8"
      },
      "source": [
        "%%writefile Ejemplo_reto1.java\n",
        "import java.util.Scanner; \n",
        "class Ejemplo_reto1\n",
        "{ \n",
        "    public static void main(String args[]) \n",
        "    {\n",
        "     Scanner s = new Scanner(System.in); // nuestra herramienta para leer datos\n",
        "     int i,j,n,m, suma_creditos;\n",
        "     int Creditos[] = new int[50];\n",
        "     double suma_parcial_estudiante;\n",
        "     double Promedio[] = new double[50];\n",
        "     double Materias[][] = new double[50][50];\n",
        "     System.out.println(\"Digite el numero de estudiantes\");\n",
        "     n = s.nextInt();\n",
        "     System.out.println(\"Digite el numero de materias por estudiante\");\n",
        "     m = s.nextInt();\n",
        "     System.out.println(\"Digitaremos las notas de los estudiantes\");\n",
        "     for(i =0 ;i<n;i=i+1){\n",
        "         System.out.println(\"Digite el codigo del estudiante \"+(i+1));\n",
        "         Materias[i][0] = s.nextDouble(); // Leemos el codigo de cada estudiante\n",
        "         for(j =1;j<=m;j=j+1){\n",
        "             System.out.println(\"Digite la nota de la materia \"+j);\n",
        "             Materias[i][j] = s.nextDouble();\n",
        "         }\n",
        "     }\n",
        "     System.out.println(\"Digite el numero de creditos de cada materia\");\n",
        "     suma_creditos = 0;\n",
        "     for(j = 1;j <=m;j=j+1){\n",
        "         System.out.println(\"Digite el numero de creditos de la materia \"+j);\n",
        "         Creditos[j] = s.nextInt();\n",
        "         suma_creditos = suma_creditos + Creditos[j];\n",
        "     }\n",
        "     // Vamos a calcular el promedio de cada materia por estudiante\n",
        "     // Para esto primero tenemos que calcular los puntos de cada materia (creditos de materia * nota materia) \n",
        "     // e irlo sumando y despues dividir el total sobre la cantidad total de creditos\n",
        "     for (i = 0;i<n;i=i+1){\n",
        "         suma_parcial_estudiante = 0;\n",
        "         for(j=1;j<=m;j=j+1){\n",
        "             suma_parcial_estudiante = suma_parcial_estudiante + Creditos[j]*Materias[i][j];\n",
        "         }\n",
        "         Promedio[i] = suma_parcial_estudiante/suma_creditos;\n",
        "     }\n",
        "     System.out.println(\"Estudiante por fila\");\n",
        "      for(i = 0; i<n;i = i+1){\n",
        "         for(j = 0; j<=m; j= j+1){\n",
        "             System.out.print(Materias[i][j] + \" \");\n",
        "         }\n",
        "         System.out.println(\"\");\n",
        "     }\n",
        "     System.out.println(\"Promedio por estudiante\");\n",
        "     for(i= 0;i<n;i=i+1){\n",
        "         System.out.println(Materias[i][0]+\",\"+Promedio[i]);\n",
        "     }\n",
        "\n",
        "  }\n",
        "}"
      ],
      "execution_count": 32,
      "outputs": [
        {
          "output_type": "stream",
          "text": [
            "Overwriting Ejemplo_reto1.java\n"
          ],
          "name": "stdout"
        }
      ]
    },
    {
      "cell_type": "code",
      "metadata": {
        "id": "t5qUhWlevetc",
        "colab_type": "code",
        "colab": {
          "base_uri": "https://localhost:8080/",
          "height": 872
        },
        "outputId": "8182471a-a816-4b3e-b4fe-920cdb6626d3"
      },
      "source": [
        "!java Ejemplo_reto1.java"
      ],
      "execution_count": 33,
      "outputs": [
        {
          "output_type": "stream",
          "text": [
            "Digite el numero de estudiantes\n",
            "3\n",
            "Digite el numero de materias por estudiante\n",
            "4\n",
            "Digitaremos las notas de los estudiantes\n",
            "Digite el codigo del estudiante 1\n",
            "2000\n",
            "Digite la nota de la materia 1\n",
            "3\n",
            "Digite la nota de la materia 2\n",
            "3.3\n",
            "Digite la nota de la materia 3\n",
            "3.4\n",
            "Digite la nota de la materia 4\n",
            "3.5\n",
            "Digite el codigo del estudiante 2\n",
            "2001\n",
            "Digite la nota de la materia 1\n",
            "4\n",
            "Digite la nota de la materia 2\n",
            "4.4\n",
            "Digite la nota de la materia 3\n",
            "0\n",
            "Digite la nota de la materia 4\n",
            "4.3\n",
            "Digite el codigo del estudiante 3\n",
            "2002\n",
            "Digite la nota de la materia 1\n",
            "5\n",
            "Digite la nota de la materia 2\n",
            "5\n",
            "Digite la nota de la materia 3\n",
            "5\n",
            "Digite la nota de la materia 4\n",
            "5\n",
            "Digite el numero de creditos de cada materia\n",
            "Digite el numero de creditos de la materia 1\n",
            "2\n",
            "Digite el numero de creditos de la materia 2\n",
            "3\n",
            "Digite el numero de creditos de la materia 3\n",
            "3\n",
            "Digite el numero de creditos de la materia 4\n",
            "5\n",
            "Estudiante por fila\n",
            "2000.0 3.0 3.3 3.4 3.5 \n",
            "2001.0 4.0 4.4 0.0 4.3 \n",
            "2002.0 5.0 5.0 5.0 5.0 \n",
            "Promedio por estudiante\n",
            "2000.0,3.3538461538461535\n",
            "2001.0,3.284615384615385\n",
            "2002.0,5.0\n"
          ],
          "name": "stdout"
        }
      ]
    },
    {
      "cell_type": "markdown",
      "metadata": {
        "id": "aYtwkQmfsH5s",
        "colab_type": "text"
      },
      "source": [
        "### **Ejercicios propuestos**"
      ]
    },
    {
      "cell_type": "markdown",
      "metadata": {
        "id": "zmHf7uXazvIv",
        "colab_type": "text"
      },
      "source": [
        "* Dada una matriz A con nxn elementos, diseñe un algoritmo que calcule cuantos elementos se repiten en la matriz.\n",
        "* Dada dos matrices A y B de igual tamaño (no necesariamente nxn), diseñe un algoritmo que verifique si todos los elementos de A estan en B.\n",
        "* Dada una matriz A con nxm elementos, diseñe un algoritmo que calcule el promedio por filas, por columnas, promedio total de la matriz, mediana y moda."
      ]
    }
  ]
}