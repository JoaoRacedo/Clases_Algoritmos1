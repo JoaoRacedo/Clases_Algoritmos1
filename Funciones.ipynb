{
  "nbformat": 4,
  "nbformat_minor": 0,
  "metadata": {
    "colab": {
      "name": "Funciones.ipynb",
      "provenance": [],
      "collapsed_sections": [],
      "authorship_tag": "ABX9TyPT4WRpUEHt749T062jabsy"
    },
    "kernelspec": {
      "name": "python3",
      "display_name": "Python 3"
    }
  },
  "cells": [
    {
      "cell_type": "markdown",
      "metadata": {
        "id": "ci9MT44wr1FC",
        "colab_type": "text"
      },
      "source": [
        "# Funciones"
      ]
    },
    {
      "cell_type": "markdown",
      "metadata": {
        "id": "Q29SaW2PtROC",
        "colab_type": "text"
      },
      "source": [
        "Como hemos visto a medida el curso ha avanzadó los algoritmos cada vez se vuelven mas largos y muchas veces repetitivos, esto hace que su complejidad aumente, y puede complicar realizar posteriores a estos. Esto es algo que pasaba mucho en los inicios de la programación. \n",
        "\n",
        "1. ¿Como se soluciono este problema?\n",
        "\n",
        "* Programación procedimental.\n",
        "* Programación en pararelo.\n",
        "* Programación cuantica.\n",
        "\n",
        "2. ¿Que se logro con las programaciones anteriores? (los logros de cada programación son asociados al tiempo cuando salieron)\n",
        "\n",
        "3. ¿Porque nos importa a nosotros esto?"
      ]
    },
    {
      "cell_type": "markdown",
      "metadata": {
        "id": "GvJt-jWxvfDd",
        "colab_type": "text"
      },
      "source": [
        "## Programación Procedimental\n",
        "\n",
        "Cuando se crearón los procesos procedimentales o programación procedimental nacieron algunos conceptos, tales como **funciones** y **subrutinas o procedimientos**. Para esta materia solo nos centraremos en **funciones**. \n",
        "\n",
        "Tanto las **funciones** como las **subrutinas** buscan simplificar tareas repetitivas dentro de un algoritmo, lo cual a su vez, reduce las líneas de codigo, de tal manera que el proceso de entendimiento sea más rápido.\n",
        "\n"
      ]
    },
    {
      "cell_type": "markdown",
      "metadata": {
        "id": "d-5tT33bwdc8",
        "colab_type": "text"
      },
      "source": [
        "### ¿Que es una funciones?"
      ]
    },
    {
      "cell_type": "markdown",
      "metadata": {
        "id": "Nls-m-LzwiAM",
        "colab_type": "text"
      },
      "source": [
        "Las funciones son bloques de codigos que realizan en su lógica de control una tarea específica de entradas, procesos o salidas, y cuyo flujo de control funciona a nivel autónomo.\n",
        "Se caracterizan porque al ser invocadas o llamadas realizan o resuelven un pequeño problmea, que arroja un resultado.\n",
        "\n",
        "Inicialmente los lenguajes de programación mantenían unas reglas que indicaban que las funciones solo devolvían un dato, y no podían devolver un arreglo; lo cual hoy en día se mantiene a nivel de **pseudocodigo**, pero a nivel de **programación** ha evolucionado de tal manera que las funciones son capaces de devolver arreglos de datos o datos.\\\n",
        "Nota: C++ maneja la teoría tradicional, mientras que Java maneja las nuevas tendencias mencionadas anteriormente."
      ]
    },
    {
      "cell_type": "markdown",
      "metadata": {
        "id": "HS7sLFXlzPDP",
        "colab_type": "text"
      },
      "source": [
        "### ¿Como funcionan las funciones?"
      ]
    },
    {
      "cell_type": "markdown",
      "metadata": {
        "id": "qrykiLzEzT5Y",
        "colab_type": "text"
      },
      "source": [
        "El concepto de función matemámtica en su notación formal se explicita como $ y = f(x)$, donde se dan valores a x y se obtienen valores de y. Entonces el valor de x (variable independiente), es el **parámetro de entrada** de la función, en tanto que el valor de y es el **resultado o valor de salida** de la función.\n",
        "\n",
        "Teniendo lo anterior en cuenta, la forma en como se llama o invoca una función es:\\\n",
        " **Nombre de la funcion** ($A_1,A_2,...,A_n$)\\\n",
        "Donde $A_1,A_2,...,A_n$ representan los parámetros del procedimiento o algoritmo principal; parametros que permiten transimitir datos a la función. Es de suma importancia resaltar que la función **regresa un solo valor** como resultado al procedimiento o algoritmo principal."
      ]
    },
    {
      "cell_type": "markdown",
      "metadata": {
        "id": "-r3gRcuc2K6c",
        "colab_type": "text"
      },
      "source": [
        "Una de las notaciones algoritmicas que mas se utiliza para llamar la función dentro de un procedimiento principial es:\n",
        "[Imagen](https://drive.google.com/open?id=1aIRKEz-aUzadppe_1dGbOyOmEpslfQkY)"
      ]
    },
    {
      "cell_type": "markdown",
      "metadata": {
        "id": "aFqbQFVu2s6k",
        "colab_type": "text"
      },
      "source": [
        "¿Cuales son los elementos caracteristicos de las funciones? \n",
        "\n",
        "* Parametros: Son elementos opcionales, que se representan por medio de variables y/o arreglos necesariosm para que se pueda resolver el subproblmea para el cual se diseño el procedimiento. Estos parametros pueden ser:\n",
        "1. Parametros de entrada (E): Permiten unicamente la transmición de informaciñon del programa principal a la función.\n",
        "2. Parametros de salida (S): Solo devuelven resultados.\n"
      ]
    },
    {
      "cell_type": "markdown",
      "metadata": {
        "id": "OE9kHn7M4MOi",
        "colab_type": "text"
      },
      "source": [
        "Miremos algunos ejemplos sencillos:"
      ]
    },
    {
      "cell_type": "markdown",
      "metadata": {
        "id": "ZXeGuQDp7Kmg",
        "colab_type": "text"
      },
      "source": [
        "Ejemplo 1\\\n",
        "Dados dos numeros encuentre cual es el menor."
      ]
    },
    {
      "cell_type": "code",
      "metadata": {
        "id": "vZoANZZTg2yr",
        "colab_type": "code",
        "outputId": "f9d2e545-22ea-4300-da4f-4667686be85f",
        "colab": {
          "base_uri": "https://localhost:8080/",
          "height": 32
        }
      },
      "source": [
        "%%writefile Example1.java\n",
        "import java.util.Scanner; \n",
        "class Example1 { // <-- Comienza la clase, TODO DEBE ESTAR DENTRO DE LA CLASE\n",
        "\n",
        "   public static void main(String[] args) { // <-- Comienza mi programa principal\n",
        "      int a = 11;\n",
        "      int b = 6;\n",
        "      int c = 7;\n",
        "      int d = 9;\n",
        "      int result1 = minFunction(a, b); // <-- asi llamo la función, a y b ya han sido declarados e inicializados anteriormente como enteros y su resultado sera guardado en result1.\n",
        "      \n",
        "      int result2 = minFunction(c, d); // <-- asi llamo la funcion, c y d ya han sido declarados e inicializados anteriormente como entero y su resultado sera guardado en result2.\n",
        "      System.out.println(\"Minimum Value = \" + result1);\n",
        "      System.out.println(\"Minimum Value = \" + result2);\n",
        "   } // <-- Termina mi programa principal\n",
        "\n",
        "   // La funcion minFunction es de tipo int (el public static lo manejaremos siempre), y tiene dos valores de entrada los cuales son int n1 e int n2\n",
        "   // n1 y n2 no son los nombres con los que llame la funcion en mi codigo principal, pero no importa, porque son variables de referencia es decir\n",
        "   // cuando la funcion minFunction se ejecute n1 = a o c (dependiendo del llamado) y n2 = b o d (dependiendo del llamado)\n",
        "\n",
        "   public static int minFunction(int n1, int n2) { // <-- asi creo una funcion con los parametros de entrada que necesita...Comienza mi funcion\n",
        "      System.out.println(\"Llame a la funcion con \"+n1+\" y \"+n2); // <-- Puedo escribir cosas o hacer cualquier operacion dentro de mi funcion\n",
        "      int min; // <-- esta variable no esta en los parametros de entrada, es mi variable de salida.\n",
        "      if (n1 > n2){\n",
        "         min = n2;\n",
        "      }else{\n",
        "         min = n1;\n",
        "      }\n",
        "      return min;  // <-- return significa retorna, es decir, min es el valor que retorna mi funcion y lo que le devolvera a mi programa principal\n",
        "   }\n",
        "\n",
        "} // <-- Termina la clase, TODO DEBE ESTAR DENTRO DE LA CLASE"
      ],
      "execution_count": 0,
      "outputs": [
        {
          "output_type": "stream",
          "text": [
            "Overwriting Example1.java\n"
          ],
          "name": "stdout"
        }
      ]
    },
    {
      "cell_type": "code",
      "metadata": {
        "id": "VaEtcENZ43Az",
        "colab_type": "code",
        "outputId": "29a742a1-d9e5-4af7-d96f-afd9efcd19a8",
        "colab": {
          "base_uri": "https://localhost:8080/",
          "height": 82
        }
      },
      "source": [
        "!java Example1.java"
      ],
      "execution_count": 0,
      "outputs": [
        {
          "output_type": "stream",
          "text": [
            "Llame a la funcion con 11 y 6\n",
            "Llame a la funcion con 7 y 9\n",
            "Minimum Value = 6\n",
            "Minimum Value = 7\n"
          ],
          "name": "stdout"
        }
      ]
    },
    {
      "cell_type": "markdown",
      "metadata": {
        "id": "MuITwBOp7NDV",
        "colab_type": "text"
      },
      "source": [
        "Ejemplo 2\\\n",
        "Dado un numero, encuentre a que rango pertence dependiendo de lo siguiente:\n",
        "\n",
        "* Rank:A1, si el numero es mayor o igual a 202.5\n",
        "* Rank:A2, si el numero es mayor o igual a 122.4\n",
        "* Rank:A3, el resto de casos."
      ]
    },
    {
      "cell_type": "code",
      "metadata": {
        "id": "lIyl_Fnv47v6",
        "colab_type": "code",
        "outputId": "d4402d62-f144-4bce-f22b-bbba7f5da392",
        "colab": {
          "base_uri": "https://localhost:8080/",
          "height": 32
        }
      },
      "source": [
        "%%writefile Example2.java\n",
        "import java.util.Scanner; \n",
        "class Example2 { // <-- Comienza la clase, TODO DEBE ESTAR DENTRO DE LA CLASE\n",
        "\n",
        "   public static void main(String[] args) { // <-- Comienza mi programa principal\n",
        "      String respuesta;\n",
        "      respuesta = Rank(255.7); // <-- asi llamo la función\n",
        "      System.out.println(\"The response is \" + respuesta);\n",
        "      respuesta = Rank(122.7); // <-- asi llamo la función\n",
        "      System.out.println(\"The response is \" + respuesta);\n",
        "      respuesta = Rank(0.7); // <-- asi llamo la función\n",
        "      System.out.println(\"The response is \" + respuesta);\n",
        "      respuesta = Rank(-1.7); // <-- asi llamo la función\n",
        "      System.out.println(\"The response is \" + respuesta);\n",
        "   } // <-- Termina mi programa principal\n",
        "\n",
        "   public static String Rank(double points) { // <-- asi creo una funcion con los parametros de entrada que necesita...Comienza mi funcion\n",
        "       String response; // <-- esta variable no esta en los parametros de entrada, es mi variable de salida.\n",
        "      if (points >= 202.5) {\n",
        "         response = \"Rank:A1\";\n",
        "      }else{\n",
        "          if (points >= 122.4) {\n",
        "              response = \"Rank:A2\";\n",
        "          }else {\n",
        "              response = \"Rank:A3\";\n",
        "          }\n",
        "      } \n",
        "      return response; // <-- return significa retorna, es decir, response es el valor que retorna mi funcion y lo que le devolvera a mi programa principal\n",
        "   }\n",
        "} // <-- Termina la clase, TODO DEBE ESTAR DENTRO DE LA CLASE"
      ],
      "execution_count": 0,
      "outputs": [
        {
          "output_type": "stream",
          "text": [
            "Overwriting Example2.java\n"
          ],
          "name": "stdout"
        }
      ]
    },
    {
      "cell_type": "code",
      "metadata": {
        "id": "Vk0KJiI-8Cy2",
        "colab_type": "code",
        "outputId": "42e65c16-fee2-44f7-c1aa-667ac86d38fa",
        "colab": {
          "base_uri": "https://localhost:8080/",
          "height": 82
        }
      },
      "source": [
        "!java Example2.java"
      ],
      "execution_count": 0,
      "outputs": [
        {
          "output_type": "stream",
          "text": [
            "The response is Rank:A1\n",
            "The response is Rank:A2\n",
            "The response is Rank:A3\n",
            "The response is Rank:A3\n"
          ],
          "name": "stdout"
        }
      ]
    },
    {
      "cell_type": "markdown",
      "metadata": {
        "id": "ZH47r-cT8v6O",
        "colab_type": "text"
      },
      "source": [
        "Ejemplo 3\\\n",
        "Dado un numero, calcule el factorial de este."
      ]
    },
    {
      "cell_type": "code",
      "metadata": {
        "id": "vZFrak-e8Edc",
        "colab_type": "code",
        "outputId": "dd2c2d78-b2ea-4aee-a56c-2813ee3ace21",
        "colab": {
          "base_uri": "https://localhost:8080/",
          "height": 32
        }
      },
      "source": [
        "%%writefile Example3.java\n",
        "import java.util.Scanner; \n",
        "class Example3 { // <-- Comienza la clase, TODO DEBE ESTAR DENTRO DE LA CLASE\n",
        "\n",
        "   public static void main(String[] args) { // <-- Comienza mi programa principal\n",
        "      Scanner s = new Scanner(System.in); // nuestra herramienta para leer datos\n",
        "      int n,r,r1,r2,r3;\n",
        "      System.out.println(\"Digite el valor n al que quiere calcular el factorial\");\n",
        "      n = s.nextInt();\n",
        "      r = Factorial(n); // <-- asi llamo la función\n",
        "      System.out.println(\"La respuesta es \"+r);\n",
        "      System.out.println(\"Digite el valor n al que quiere calcular el factorial\");\n",
        "      n = s.nextInt();\n",
        "      r1 = Factorial(n); // <-- asi llamo la función\n",
        "      System.out.println(\"La respuesta es \"+r1);\n",
        "      System.out.println(\"Digite el valor n al que quiere calcular el factorial\");\n",
        "      n = s.nextInt();\n",
        "      r2 = Factorial(n); // <-- asi llamo la función\n",
        "      System.out.println(\"La respuesta es \"+r2);\n",
        "      System.out.println(\"Digite el valor n al que quiere calcular el factorial\");\n",
        "      n = s.nextInt();\n",
        "      r3 = Factorial(n); // <-- asi llamo la función\n",
        "      System.out.println(\"La respuesta es \"+r3);\n",
        "   } // <-- Termina mi programa principal\n",
        "\n",
        "   public static int Factorial(int n) { // <-- asi creo una funcion con los parametros de entrada que necesita...Comienza mi funcion\n",
        "      int i; // <-- esta variable no esta en los parametros de entrada, la usare en mi funcion para hallar el factorial\n",
        "      int respuesta; // <-- esta variable no esta en los parametros de entrada, es mi variable de salida.\n",
        "      if (n == 0){\n",
        "         return 1; // <-- de cumplirse el condicional aqui terminaria la funcion y retornaria 1\n",
        "      }else{\n",
        "         respuesta = 1;\n",
        "         for(i=1;i<=n;i=i+1){\n",
        "             respuesta = respuesta*i;\n",
        "         }\n",
        "      }\n",
        "      return respuesta;  // Si no entra a n = 0, entonces hara el proceso del sino y retornara respuesta\n",
        "   }\n",
        "\n",
        "} // <-- Termina la clase, TODO DEBE ESTAR DENTRO DE LA CLASE"
      ],
      "execution_count": 0,
      "outputs": [
        {
          "output_type": "stream",
          "text": [
            "Overwriting Example3.java\n"
          ],
          "name": "stdout"
        }
      ]
    },
    {
      "cell_type": "code",
      "metadata": {
        "id": "S7AU_DxU-bxR",
        "colab_type": "code",
        "outputId": "80934fe8-65d5-4163-8c95-d50fc6eeaeab",
        "colab": {
          "base_uri": "https://localhost:8080/",
          "height": 214
        }
      },
      "source": [
        "!java Example3.java"
      ],
      "execution_count": 0,
      "outputs": [
        {
          "output_type": "stream",
          "text": [
            "Digite el valor n al que quiere calcular el factorial\n",
            "1\n",
            "La respuesta es 1\n",
            "Digite el valor n al que quiere calcular el factorial\n",
            "5\n",
            "La respuesta es 120\n",
            "Digite el valor n al que quiere calcular el factorial\n",
            "4\n",
            "La respuesta es 24\n",
            "Digite el valor n al que quiere calcular el factorial\n",
            "3\n",
            "La respuesta es 6\n"
          ],
          "name": "stdout"
        }
      ]
    },
    {
      "cell_type": "markdown",
      "metadata": {
        "id": "u1R7PzNr_m5E",
        "colab_type": "text"
      },
      "source": [
        "Ejemplo 4\\\n",
        "Dado m numeros, calcule el factorial de cada uno."
      ]
    },
    {
      "cell_type": "code",
      "metadata": {
        "id": "pY5_Z9hu-dS3",
        "colab_type": "code",
        "outputId": "cc0402eb-ed41-4da9-ca26-b731f8d0c582",
        "colab": {
          "base_uri": "https://localhost:8080/",
          "height": 32
        }
      },
      "source": [
        "%%writefile Example4.java\n",
        "import java.util.Scanner; \n",
        "class Example4 { // <-- Comienza la clase, TODO DEBE ESTAR DENTRO DE LA CLASE\n",
        "\n",
        "   public static void main(String[] args) { // <-- Comienza mi programa principal\n",
        "      Scanner s = new Scanner(System.in); // nuestra herramienta para leer datos\n",
        "      int m,n,i;\n",
        "      int r[] = new int[50];\n",
        "      System.out.println(\"Digite cuantos factoriales quiere calcular\");\n",
        "      m = s.nextInt();\n",
        "      for(i = 0; i<m;i=i+1){\n",
        "        System.out.println(\"Digite el valor n al que quiere calcular el factorial\");\n",
        "        n = s.nextInt();\n",
        "        r[i] = Factorial(n); // <-- asi llamo la función\n",
        "      }\n",
        "      System.out.println(\"Escribamos los resultados\");\n",
        "      for(i=0;i<m;i=i+1){\n",
        "          System.out.println(\"El resultado de la operacion \"+i+\" fue \"+r[i]);\n",
        "      }\n",
        "\n",
        "   } // <-- Termina mi programa principal\n",
        "\n",
        "   public static int Factorial(int n) { // <-- asi creo una funcion con los parametros de entrada que necesita...Comienza mi funcion\n",
        "      int i; // <-- esta variable no esta en los parametros de entrada, la usare en mi funcion para hallar el factorial\n",
        "      int respuesta; // <-- esta variable no esta en los parametros de entrada, es mi variable de salida.\n",
        "      if (n == 0){\n",
        "         return 1; // <-- de cumplirse el condicional aqui terminaria la funcion y retornaria 1\n",
        "      }else{\n",
        "         respuesta = 1;\n",
        "         for(i=1;i<=n;i=i+1){\n",
        "             respuesta = respuesta*i;\n",
        "         }\n",
        "      }\n",
        "      return respuesta;  // Si no entra a n = 0, entonces hara el proceso del sino y retornara respuesta\n",
        "   }\n",
        "\n",
        "} // <-- Termina la clase, TODO DEBE ESTAR DENTRO DE LA CLASE"
      ],
      "execution_count": 0,
      "outputs": [
        {
          "output_type": "stream",
          "text": [
            "Overwriting Example4.java\n"
          ],
          "name": "stdout"
        }
      ]
    },
    {
      "cell_type": "code",
      "metadata": {
        "id": "c36VCqv3AK_E",
        "colab_type": "code",
        "outputId": "5859a3cb-7c09-4aa9-cec9-751a43469dac",
        "colab": {
          "base_uri": "https://localhost:8080/",
          "height": 312
        }
      },
      "source": [
        "!java Example4.java"
      ],
      "execution_count": 0,
      "outputs": [
        {
          "output_type": "stream",
          "text": [
            "Digite cuantos factoriales quiere calcular\n",
            "5\n",
            "Digite el valor n al que quiere calcular el factorial\n",
            "1\n",
            "Digite el valor n al que quiere calcular el factorial\n",
            "2\n",
            "Digite el valor n al que quiere calcular el factorial\n",
            "3\n",
            "Digite el valor n al que quiere calcular el factorial\n",
            "4\n",
            "Digite el valor n al que quiere calcular el factorial\n",
            "5\n",
            "Escribamos los resultados\n",
            "El resultado de la operacion 0 fue 1\n",
            "El resultado de la operacion 1 fue 2\n",
            "El resultado de la operacion 2 fue 6\n",
            "El resultado de la operacion 3 fue 24\n",
            "El resultado de la operacion 4 fue 120\n"
          ],
          "name": "stdout"
        }
      ]
    },
    {
      "cell_type": "markdown",
      "metadata": {
        "id": "cdDMGH2tmpI5",
        "colab_type": "text"
      },
      "source": [
        "Ejemplo 5"
      ]
    },
    {
      "cell_type": "code",
      "metadata": {
        "id": "6KSyY5dKmrw3",
        "colab_type": "code",
        "colab": {
          "base_uri": "https://localhost:8080/",
          "height": 32
        },
        "outputId": "4eed570f-0aba-408e-8b05-11603753d81d"
      },
      "source": [
        "%%writefile Example5.java\n",
        "import java.util.Scanner; \n",
        "class Example5 { // <-- Comienza la clase, TODO DEBE ESTAR DENTRO DE LA CLASE\n",
        "    public static void main(String[] args) { // <-- Comienza mi programa principal\n",
        "      Scanner s = new Scanner(System.in); // nuestra herramienta para leer datos\n",
        "      int i,n;\n",
        "      double avg;\n",
        "      double A[] = new double[50];\n",
        "      System.out.println(\"Digite el numero de datos del vector\");\n",
        "      n = s.nextInt();\n",
        "      A = ReadVector(n);\n",
        "      for(i=0;i<n;i=i+1){\n",
        "          System.out.print(A[i] + \" \");\n",
        "      }\n",
        "       System.out.println(\" \");\n",
        "      avg = Average(A,n);\n",
        "      System.out.println(\"Su promedio es \"+ avg);\n",
        "\n",
        "    } // <-- Termina mi programa principal  \n",
        "\n",
        "\n",
        "   public static double[] ReadVector(int n) { // <-- asi creo una funcion con los parametros de entrada que necesita...Comienza mi funcion\n",
        "      int i; // <-- esta variable no esta en los parametros de entrada, la usare en mi funcion para hallar el factorial\n",
        "      double Vector[] = new double[n]; \n",
        "      Scanner s = new Scanner(System.in); // nuestra herramienta para leer datos\n",
        "      for(i=0;i<n;i=i+1){\n",
        "          System.out.println(\"Digite el valor de la posicion A[\"+i+\"]\");\n",
        "          Vector[i] = s.nextDouble();\n",
        "          }\n",
        "      return Vector; \n",
        "   }\n",
        "  \n",
        "   public static double Average(double vec[],int n){\n",
        "       int i;\n",
        "       double cont = 0;\n",
        "       for(i=0;i<n;i=i+1){\n",
        "           cont = cont + vec[i];\n",
        "       }\n",
        "       return (cont/n);\n",
        "   }\n",
        "\n",
        "                                      \n",
        "}// <-- Termina la clase, TODO DEBE ESTAR DENTRO DE LA CLASE"
      ],
      "execution_count": 6,
      "outputs": [
        {
          "output_type": "stream",
          "text": [
            "Overwriting Example5.java\n"
          ],
          "name": "stdout"
        }
      ]
    },
    {
      "cell_type": "code",
      "metadata": {
        "id": "cHcHBUF0osbN",
        "colab_type": "code",
        "colab": {
          "base_uri": "https://localhost:8080/",
          "height": 280
        },
        "outputId": "b48a2500-8019-441c-e2cb-0d0eea90062b"
      },
      "source": [
        "!java Example5.java"
      ],
      "execution_count": 7,
      "outputs": [
        {
          "output_type": "stream",
          "text": [
            "Digite el numero de datos del vector\n",
            "6\n",
            "Digite el valor de la posicion A[0]\n",
            "2\n",
            "Digite el valor de la posicion A[1]\n",
            "4\n",
            "Digite el valor de la posicion A[2]\n",
            "6\n",
            "Digite el valor de la posicion A[3]\n",
            "8\n",
            "Digite el valor de la posicion A[4]\n",
            "10\n",
            "Digite el valor de la posicion A[5]\n",
            "12\n",
            "2.0 4.0 6.0 8.0 10.0 12.0  \n",
            "Su promedio es 7.0\n"
          ],
          "name": "stdout"
        }
      ]
    },
    {
      "cell_type": "markdown",
      "metadata": {
        "id": "UjdKZuEyKE21",
        "colab_type": "text"
      },
      "source": [
        "Ejemplo 6"
      ]
    },
    {
      "cell_type": "code",
      "metadata": {
        "id": "Cz0Leo1_AO6e",
        "colab_type": "code",
        "outputId": "2a4319c7-f947-4dd8-cf29-955074861b5b",
        "colab": {
          "base_uri": "https://localhost:8080/",
          "height": 32
        }
      },
      "source": [
        "%%writefile Example6.java\n",
        "import java.util.Scanner; \n",
        "class Example6 { // <-- Comienza la clase, TODO DEBE ESTAR DENTRO DE LA CLASE\n",
        "\n",
        "   public static void main(String[] args) { // <-- Comienza mi programa principal\n",
        "      Scanner s = new Scanner(System.in); // nuestra herramienta para leer datos\n",
        "      int i,j,n,m;\n",
        "      double A[][] = new double[50][50];\n",
        "      System.out.println(\"Digite el numero de filas de la matriz\");\n",
        "      n = s.nextInt();\n",
        "      System.out.println(\"Digite el numero de columnas de la matriz\");\n",
        "      m = s.nextInt();\n",
        "      A = ReadMatrix(n,m);\n",
        "      for(i=0;i<n;i=i+1){\n",
        "          for(j=0;j<m;j=j+1){\n",
        "              System.out.print(A[i][j] + \" \");\n",
        "          }\n",
        "          System.out.println(\" \");\n",
        "      }\n",
        "\n",
        "   } // <-- Termina mi programa principal\n",
        "\n",
        "   public static double[][] ReadMatrix(int n, int m) { // <-- asi creo una funcion con los parametros de entrada que necesita...Comienza mi funcion\n",
        "      int i,j; // <-- esta variable no esta en los parametros de entrada.\n",
        "      double Matrix[][] = new double[n][m]; \n",
        "      Scanner s = new Scanner(System.in); // nuestra herramienta para leer datos\n",
        "      for(i=0;i<n;i=i+1){\n",
        "          for(j=0;j<m;j=j+1){\n",
        "              System.out.println(\"Digite el valor de la posicion A[\"+i+\",\"+j+\"]\");\n",
        "              Matrix[i][j] = s.nextDouble();\n",
        "          }\n",
        "      }\n",
        "      return Matrix;  // \n",
        "   }\n",
        "\n",
        "} // <-- Termina la clase, TODO DEBE ESTAR DENTRO DE LA CLASE"
      ],
      "execution_count": 8,
      "outputs": [
        {
          "output_type": "stream",
          "text": [
            "Writing Example6.java\n"
          ],
          "name": "stdout"
        }
      ]
    },
    {
      "cell_type": "code",
      "metadata": {
        "id": "yM_7CS0kL3mR",
        "colab_type": "code",
        "outputId": "85d3e513-bec3-4dc9-feb7-1a6d1cf32d61",
        "colab": {
          "base_uri": "https://localhost:8080/",
          "height": 329
        }
      },
      "source": [
        "!java Example6.java"
      ],
      "execution_count": 9,
      "outputs": [
        {
          "output_type": "stream",
          "text": [
            "Digite el numero de filas de la matriz\n",
            "3\n",
            "Digite el numero de columnas de la matriz\n",
            "2\n",
            "Digite el valor de la posicion A[0,0]\n",
            "1\n",
            "Digite el valor de la posicion A[0,1]\n",
            "2\n",
            "Digite el valor de la posicion A[1,0]\n",
            "3\n",
            "Digite el valor de la posicion A[1,1]\n",
            "4\n",
            "Digite el valor de la posicion A[2,0]\n",
            "5\n",
            "Digite el valor de la posicion A[2,1]\n",
            "6\n",
            "1.0 2.0  \n",
            "3.0 4.0  \n",
            "5.0 6.0  \n"
          ],
          "name": "stdout"
        }
      ]
    },
    {
      "cell_type": "markdown",
      "metadata": {
        "id": "FiXtC0hpONkk",
        "colab_type": "text"
      },
      "source": [
        "Ejemplo 7"
      ]
    },
    {
      "cell_type": "code",
      "metadata": {
        "id": "Yehi3QMpL6zJ",
        "colab_type": "code",
        "outputId": "4bddee56-02fd-4e6a-bf7d-d24c92db3c3e",
        "colab": {
          "base_uri": "https://localhost:8080/",
          "height": 32
        }
      },
      "source": [
        "%%writefile Example7.java\n",
        "import java.util.Scanner; \n",
        "class Example7 { // <-- Comienza la clase, TODO DEBE ESTAR DENTRO DE LA CLASE\n",
        "\n",
        "   public static void main(String[] args) { // <-- Comienza mi programa principal\n",
        "      Scanner s = new Scanner(System.in); // nuestra herramienta para leer datos\n",
        "      int i,j,nA,mA,nB,mB;\n",
        "      double A[][] = new double[50][50];\n",
        "      double B[][] = new double[50][50];\n",
        "      double C[][] = new double[50][50];\n",
        "      System.out.println(\"Digite el numero de filas de la matriz A\");\n",
        "      nA = s.nextInt();\n",
        "      System.out.println(\"Digite el numero de columnas de la matriz A\");\n",
        "      mA = s.nextInt();\n",
        "      System.out.println(\"Digite el numero de filas de la matriz B\");\n",
        "      nB = s.nextInt();\n",
        "      System.out.println(\"Digite el numero de columnas de la matriz B\");\n",
        "      mB = s.nextInt();\n",
        "      A = ReadMatrix(nA,mA);\n",
        "      B = ReadMatrix(nB,mB);\n",
        "      System.out.println(\"Matriz A\");\n",
        "      for(i=0;i<nA;i=i+1){\n",
        "          for(j=0;j<mA;j=j+1){\n",
        "              System.out.print(A[i][j] + \" \");\n",
        "          }\n",
        "          System.out.println(\" \");\n",
        "      }\n",
        "      System.out.println(\"Matriz B\");\n",
        "      for(i=0;i<nB;i=i+1){\n",
        "          for(j=0;j<mB;j=j+1){\n",
        "              System.out.print(B[i][j] + \" \");\n",
        "          }\n",
        "          System.out.println(\" \");\n",
        "      }\n",
        "     if (mA == nB){\n",
        "      C = multiplyMatrices(A,B,nA,nB,mA,mB);\n",
        "      System.out.println(\"Matriz resultante\");\n",
        "        for(i=0;i<nA;i=i+1){\n",
        "            for(j=0;j<mB;j=j+1){\n",
        "                System.out.print(C[i][j] + \" \");\n",
        "            }\n",
        "            System.out.println(\" \");\n",
        "        } \n",
        "     }else{\n",
        "         System.out.println(\"Las dimensiones de A y B no concuerdan\");\n",
        "     }\n",
        "\n",
        "   } // <-- Termina mi programa principal\n",
        "\n",
        "\n",
        "   public static double[][] ReadMatrix(int n, int m) { // <-- asi creo una funcion con los parametros de entrada que necesita...Comienza mi funcion\n",
        "      int i,j; // <-- esta variable no esta en los parametros de entrada, la usare en mi funcion para hallar el factorial\n",
        "      double Matrix[][] = new double[n][m]; \n",
        "      Scanner s = new Scanner(System.in); // nuestra herramienta para leer datos\n",
        "      for(i=0;i<n;i=i+1){\n",
        "          for(j=0;j<m;j=j+1){\n",
        "              System.out.println(\"Digite el valor de la posicion Matrix[\"+i+\",\"+j+\"]\");\n",
        "              Matrix[i][j] = s.nextDouble();\n",
        "          }\n",
        "      }\n",
        "      return Matrix;  // \n",
        "   }\n",
        "\n",
        "    public static double[][] multiplyMatrices(double firstMatrix[][], double secondMatrix[][], int nA, int nB, int mA, int mB) {\n",
        "        double product[][] = new double[nA][mB];\n",
        "            for(int i = 0; i < nA; i++) {\n",
        "              for (int j = 0; j < mB; j++) {\n",
        "                  for (int k = 0; k < nB; k++) {\n",
        "                      product[i][j] = product[i][j] + firstMatrix[i][k] * secondMatrix[k][j];\n",
        "                  }\n",
        "              }\n",
        "          }\n",
        "        return product;\n",
        "    }\n",
        "\n",
        "} // <-- Termina la clase, TODO DEBE ESTAR DENTRO DE LA CLASE"
      ],
      "execution_count": 10,
      "outputs": [
        {
          "output_type": "stream",
          "text": [
            "Writing Example7.java\n"
          ],
          "name": "stdout"
        }
      ]
    },
    {
      "cell_type": "code",
      "metadata": {
        "id": "32RHZOptP6Ax",
        "colab_type": "code",
        "outputId": "fac276ce-7d82-4303-8d42-4c363ea96400",
        "colab": {
          "base_uri": "https://localhost:8080/",
          "height": 724
        }
      },
      "source": [
        "!java Example7.java"
      ],
      "execution_count": 11,
      "outputs": [
        {
          "output_type": "stream",
          "text": [
            "Digite el numero de filas de la matriz A\n",
            "3\n",
            "Digite el numero de columnas de la matriz A\n",
            "2\n",
            "Digite el numero de filas de la matriz B\n",
            "2\n",
            "Digite el numero de columnas de la matriz B\n",
            "3\n",
            "Digite el valor de la posicion Matrix[0,0]\n",
            "1\n",
            "Digite el valor de la posicion Matrix[0,1]\n",
            "2\n",
            "Digite el valor de la posicion Matrix[1,0]\n",
            "3\n",
            "Digite el valor de la posicion Matrix[1,1]\n",
            "4\n",
            "Digite el valor de la posicion Matrix[2,0]\n",
            "5\n",
            "Digite el valor de la posicion Matrix[2,1]\n",
            "6\n",
            "Digite el valor de la posicion Matrix[0,0]\n",
            "7\n",
            "Digite el valor de la posicion Matrix[0,1]\n",
            "8\n",
            "Digite el valor de la posicion Matrix[0,2]\n",
            "9\n",
            "Digite el valor de la posicion Matrix[1,0]\n",
            "10\n",
            "Digite el valor de la posicion Matrix[1,1]\n",
            "11\n",
            "Digite el valor de la posicion Matrix[1,2]\n",
            "12\n",
            "Matriz A\n",
            "1.0 2.0  \n",
            "3.0 4.0  \n",
            "5.0 6.0  \n",
            "Matriz B\n",
            "7.0 8.0 9.0  \n",
            "10.0 11.0 12.0  \n",
            "Matriz resultante\n",
            "27.0 30.0 33.0  \n",
            "61.0 68.0 75.0  \n",
            "95.0 106.0 117.0  \n"
          ],
          "name": "stdout"
        }
      ]
    }
  ]
}