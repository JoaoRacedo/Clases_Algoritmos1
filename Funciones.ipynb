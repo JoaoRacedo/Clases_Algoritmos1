{
  "nbformat": 4,
  "nbformat_minor": 0,
  "metadata": {
    "colab": {
      "name": "Funciones.ipynb",
      "provenance": [],
      "collapsed_sections": [],
      "authorship_tag": "ABX9TyOu19hm1rAUSxtWewMhpYPu"
    },
    "kernelspec": {
      "name": "python3",
      "display_name": "Python 3"
    }
  },
  "cells": [
    {
      "cell_type": "markdown",
      "metadata": {
        "id": "ci9MT44wr1FC",
        "colab_type": "text"
      },
      "source": [
        "# Funciones"
      ]
    },
    {
      "cell_type": "markdown",
      "metadata": {
        "id": "Q29SaW2PtROC",
        "colab_type": "text"
      },
      "source": [
        "Como hemos visto a medida el curso ha avanzadó los algoritmos cada vez se vuelven mas largos y muchas veces repetitivos, esto hace que su complejidad aumente, y puede complicar realizar posteriores a estos. Esto es algo que pasaba mucho en los inicios de la programación. \n",
        "\n",
        "1. ¿Como se soluciono este problema?\n",
        "\n",
        "* Programación procedimental.\n",
        "* Programación en pararelo.\n",
        "* Programación cuantica.\n",
        "\n",
        "2. ¿Que se logro con las programaciones anteriores? (los logros de cada programación son asociados al tiempo cuando salieron)\n",
        "\n",
        "3. ¿Porque nos importa a nosotros esto?"
      ]
    },
    {
      "cell_type": "markdown",
      "metadata": {
        "id": "GvJt-jWxvfDd",
        "colab_type": "text"
      },
      "source": [
        "## Programación Procedimental\n",
        "\n",
        "Cuando se crearón los procesos procedimentales o programación procedimental nacieron algunos conceptos, tales como **funciones** y **subrutinas o procedimientos**. Para esta materia solo nos centraremos en **funciones**. \n",
        "\n",
        "Tanto las **funciones** como las **subrutinas** buscan simplificar tareas repetitivas dentro de un algoritmo, lo cual a su vez, reduce las líneas de codigo, de tal manera que el proceso de entendimiento sea más rápido.\n",
        "\n"
      ]
    },
    {
      "cell_type": "markdown",
      "metadata": {
        "id": "d-5tT33bwdc8",
        "colab_type": "text"
      },
      "source": [
        "### ¿Que es una funciones?"
      ]
    },
    {
      "cell_type": "markdown",
      "metadata": {
        "id": "Nls-m-LzwiAM",
        "colab_type": "text"
      },
      "source": [
        "Las funciones son bloques de codigos que realizan en su lógica de control una tarea específica de entradas, procesos o salidas, y cuyo flujo de control funciona a nivel autónomo.\n",
        "Se caracterizan porque al ser invocadas o llamadas realizan o resuelven un pequeño problmea, que arroja un resultado.\n",
        "\n",
        "Inicialmente los lenguajes de programación mantenían unas reglas que indicaban que las funciones solo devolvían un dato, y no podían devolver un arreglo; lo cual hoy en día se mantiene a nivel de **pseudocodigo**, pero a nivel de **programación** ha evolucionado de tal manera que las funciones son capaces de devolver arreglos de datos o datos.\\\n",
        "Nota: C++ maneja la teoría tradicional, mientras que Java maneja las nuevas tendencias mencionadas anteriormente."
      ]
    },
    {
      "cell_type": "markdown",
      "metadata": {
        "id": "HS7sLFXlzPDP",
        "colab_type": "text"
      },
      "source": [
        "### ¿Como funcionan las funciones?"
      ]
    },
    {
      "cell_type": "markdown",
      "metadata": {
        "id": "qrykiLzEzT5Y",
        "colab_type": "text"
      },
      "source": [
        "El concepto de función matemámtica en su notación formal se explicita como $ y = f(x)$, donde se dan valores a x y se obtienen valores de y. Entonces el valor de x (variable independiente), es el **parámetro de entrada** de la función, en tanto que el valor de y es el **resultado o valor de salida** de la función.\n",
        "\n",
        "Teniendo lo anterior en cuenta, la forma en como se llama o invoca una función es:\\\n",
        " **Nombre de la funcion** ($A_1,A_2,...,A_n$)\\\n",
        "Donde $A_1,A_2,...,A_n$ representan los parámetros del procedimiento o algoritmo principal; parametros que permiten transimitir datos a la función. Es de suma importancia resaltar que la función **regresa un solo valor** como resultado al procedimiento o algoritmo principal."
      ]
    },
    {
      "cell_type": "markdown",
      "metadata": {
        "id": "-r3gRcuc2K6c",
        "colab_type": "text"
      },
      "source": [
        "Una de las notaciones algoritmicas que mas se utiliza para llamar la función dentro de un procedimiento principial es:\n",
        "[Imagen](https://drive.google.com/open?id=1aIRKEz-aUzadppe_1dGbOyOmEpslfQkY)"
      ]
    },
    {
      "cell_type": "markdown",
      "metadata": {
        "id": "aFqbQFVu2s6k",
        "colab_type": "text"
      },
      "source": [
        "¿Cuales son los elementos caracteristicos de las funciones? \n",
        "\n",
        "* Parametros: Son elementos opcionales, que se representan por medio de variables y/o arreglos necesariosm para que se pueda resolver el subproblmea para el cual se diseño el procedimiento. Estos parametros pueden ser:\n",
        "1. Parametros de entrada (E): Permiten unicamente la transmición de informaciñon del programa principal a la función.\n",
        "2. Parametros de salida (S): Solo devuelven resultados.\n"
      ]
    },
    {
      "cell_type": "markdown",
      "metadata": {
        "id": "OE9kHn7M4MOi",
        "colab_type": "text"
      },
      "source": [
        "Miremos algunos ejemplos sencillos:"
      ]
    },
    {
      "cell_type": "markdown",
      "metadata": {
        "id": "ZXeGuQDp7Kmg",
        "colab_type": "text"
      },
      "source": [
        "Ejemplo 1"
      ]
    },
    {
      "cell_type": "code",
      "metadata": {
        "id": "vZoANZZTg2yr",
        "colab_type": "code",
        "colab": {
          "base_uri": "https://localhost:8080/",
          "height": 32
        },
        "outputId": "f9d2e545-22ea-4300-da4f-4667686be85f"
      },
      "source": [
        "%%writefile Example1.java\n",
        "import java.util.Scanner; \n",
        "class Example1 { // <-- Comienza la clase, TODO DEBE ESTAR DENTRO DE LA CLASE\n",
        "\n",
        "   public static void main(String[] args) { // <-- Comienza mi programa principal\n",
        "      int a = 11;\n",
        "      int b = 6;\n",
        "      int c = 7;\n",
        "      int d = 9;\n",
        "      int result1 = minFunction(a, b); // <-- asi llamo la función, a y b ya han sido declarados e inicializados anteriormente como enteros y su resultado sera guardado en result1.\n",
        "      \n",
        "      int result2 = minFunction(c, d); // <-- asi llamo la funcion, c y d ya han sido declarados e inicializados anteriormente como entero y su resultado sera guardado en result2.\n",
        "      System.out.println(\"Minimum Value = \" + result1);\n",
        "      System.out.println(\"Minimum Value = \" + result2);\n",
        "   } // <-- Termina mi programa principal\n",
        "\n",
        "   // La funcion minFunction es de tipo int (el public static lo manejaremos siempre), y tiene dos valores de entrada los cuales son int n1 e int n2\n",
        "   // n1 y n2 no son los nombres con los que llame la funcion en mi codigo principal, pero no importa, porque son variables de referencia es decir\n",
        "   // cuando la funcion minFunction se ejecute n1 = a o c (dependiendo del llamado) y n2 = b o d (dependiendo del llamado)\n",
        "\n",
        "   public static int minFunction(int n1, int n2) { // <-- asi creo una funcion con los parametros de entrada que necesita...Comienza mi funcion\n",
        "      System.out.println(\"Llame a la funcion con \"+n1+\" y \"+n2); // <-- Puedo escribir cosas o hacer cualquier operacion dentro de mi funcion\n",
        "      int min; // <-- esta variable no esta en los parametros de entrada, es mi variable de salida.\n",
        "      if (n1 > n2){\n",
        "         min = n2;\n",
        "      }else{\n",
        "         min = n1;\n",
        "      }\n",
        "      return min;  // <-- return significa retorna, es decir, min es el valor que retorna mi funcion y lo que le devolvera a mi programa principal\n",
        "   }\n",
        "\n",
        "} // <-- Termina la clase, TODO DEBE ESTAR DENTRO DE LA CLASE"
      ],
      "execution_count": 10,
      "outputs": [
        {
          "output_type": "stream",
          "text": [
            "Overwriting Example1.java\n"
          ],
          "name": "stdout"
        }
      ]
    },
    {
      "cell_type": "code",
      "metadata": {
        "id": "VaEtcENZ43Az",
        "colab_type": "code",
        "colab": {
          "base_uri": "https://localhost:8080/",
          "height": 82
        },
        "outputId": "29a742a1-d9e5-4af7-d96f-afd9efcd19a8"
      },
      "source": [
        "!java Example1.java"
      ],
      "execution_count": 11,
      "outputs": [
        {
          "output_type": "stream",
          "text": [
            "Llame a la funcion con 11 y 6\n",
            "Llame a la funcion con 7 y 9\n",
            "Minimum Value = 6\n",
            "Minimum Value = 7\n"
          ],
          "name": "stdout"
        }
      ]
    },
    {
      "cell_type": "markdown",
      "metadata": {
        "id": "MuITwBOp7NDV",
        "colab_type": "text"
      },
      "source": [
        "Ejemplo 2"
      ]
    },
    {
      "cell_type": "code",
      "metadata": {
        "id": "lIyl_Fnv47v6",
        "colab_type": "code",
        "colab": {
          "base_uri": "https://localhost:8080/",
          "height": 32
        },
        "outputId": "d4402d62-f144-4bce-f22b-bbba7f5da392"
      },
      "source": [
        "%%writefile Example2.java\n",
        "import java.util.Scanner; \n",
        "class Example2 { // <-- Comienza la clase, TODO DEBE ESTAR DENTRO DE LA CLASE\n",
        "\n",
        "   public static void main(String[] args) { // <-- Comienza mi programa principal\n",
        "      String respuesta;\n",
        "      respuesta = Rank(255.7); // <-- asi llamo la función\n",
        "      System.out.println(\"The response is \" + respuesta);\n",
        "      respuesta = Rank(122.7); // <-- asi llamo la función\n",
        "      System.out.println(\"The response is \" + respuesta);\n",
        "      respuesta = Rank(0.7); // <-- asi llamo la función\n",
        "      System.out.println(\"The response is \" + respuesta);\n",
        "      respuesta = Rank(-1.7); // <-- asi llamo la función\n",
        "      System.out.println(\"The response is \" + respuesta);\n",
        "   } // <-- Termina mi programa principal\n",
        "\n",
        "   public static String Rank(double points) { // <-- asi creo una funcion con los parametros de entrada que necesita...Comienza mi funcion\n",
        "       String response; // <-- esta variable no esta en los parametros de entrada, es mi variable de salida.\n",
        "      if (points >= 202.5) {\n",
        "         response = \"Rank:A1\";\n",
        "      }else{\n",
        "          if (points >= 122.4) {\n",
        "              response = \"Rank:A2\";\n",
        "          }else {\n",
        "              response = \"Rank:A3\";\n",
        "          }\n",
        "      } \n",
        "      return response; // <-- return significa retorna, es decir, response es el valor que retorna mi funcion y lo que le devolvera a mi programa principal\n",
        "   }\n",
        "} // <-- Termina la clase, TODO DEBE ESTAR DENTRO DE LA CLASE"
      ],
      "execution_count": 20,
      "outputs": [
        {
          "output_type": "stream",
          "text": [
            "Overwriting Example2.java\n"
          ],
          "name": "stdout"
        }
      ]
    },
    {
      "cell_type": "code",
      "metadata": {
        "id": "Vk0KJiI-8Cy2",
        "colab_type": "code",
        "colab": {
          "base_uri": "https://localhost:8080/",
          "height": 82
        },
        "outputId": "42e65c16-fee2-44f7-c1aa-667ac86d38fa"
      },
      "source": [
        "!java Example2.java"
      ],
      "execution_count": 21,
      "outputs": [
        {
          "output_type": "stream",
          "text": [
            "The response is Rank:A1\n",
            "The response is Rank:A2\n",
            "The response is Rank:A3\n",
            "The response is Rank:A3\n"
          ],
          "name": "stdout"
        }
      ]
    },
    {
      "cell_type": "markdown",
      "metadata": {
        "id": "ZH47r-cT8v6O",
        "colab_type": "text"
      },
      "source": [
        "Ejemplo 3"
      ]
    },
    {
      "cell_type": "code",
      "metadata": {
        "id": "vZFrak-e8Edc",
        "colab_type": "code",
        "colab": {
          "base_uri": "https://localhost:8080/",
          "height": 32
        },
        "outputId": "dd2c2d78-b2ea-4aee-a56c-2813ee3ace21"
      },
      "source": [
        "%%writefile Example3.java\n",
        "import java.util.Scanner; \n",
        "class Example3 { // <-- Comienza la clase, TODO DEBE ESTAR DENTRO DE LA CLASE\n",
        "\n",
        "   public static void main(String[] args) { // <-- Comienza mi programa principal\n",
        "      Scanner s = new Scanner(System.in); // nuestra herramienta para leer datos\n",
        "      int n,r,r1,r2,r3;\n",
        "      System.out.println(\"Digite el valor n al que quiere calcular el factorial\");\n",
        "      n = s.nextInt();\n",
        "      r = Factorial(n); // <-- asi llamo la función\n",
        "      System.out.println(\"La respuesta es \"+r);\n",
        "      System.out.println(\"Digite el valor n al que quiere calcular el factorial\");\n",
        "      n = s.nextInt();\n",
        "      r1 = Factorial(n); // <-- asi llamo la función\n",
        "      System.out.println(\"La respuesta es \"+r1);\n",
        "      System.out.println(\"Digite el valor n al que quiere calcular el factorial\");\n",
        "      n = s.nextInt();\n",
        "      r2 = Factorial(n); // <-- asi llamo la función\n",
        "      System.out.println(\"La respuesta es \"+r2);\n",
        "      System.out.println(\"Digite el valor n al que quiere calcular el factorial\");\n",
        "      n = s.nextInt();\n",
        "      r3 = Factorial(n); // <-- asi llamo la función\n",
        "      System.out.println(\"La respuesta es \"+r3);\n",
        "   } // <-- Termina mi programa principal\n",
        "\n",
        "   public static int Factorial(int n) { // <-- asi creo una funcion con los parametros de entrada que necesita...Comienza mi funcion\n",
        "      int i; // <-- esta variable no esta en los parametros de entrada, la usare en mi funcion para hallar el factorial\n",
        "      int respuesta; // <-- esta variable no esta en los parametros de entrada, es mi variable de salida.\n",
        "      if (n == 0){\n",
        "         return 1; // <-- de cumplirse el condicional aqui terminaria la funcion y retornaria 1\n",
        "      }else{\n",
        "         respuesta = 1;\n",
        "         for(i=1;i<=n;i=i+1){\n",
        "             respuesta = respuesta*i;\n",
        "         }\n",
        "      }\n",
        "      return respuesta;  // Si no entra a n = 0, entonces hara el proceso del sino y retornara respuesta\n",
        "   }\n",
        "\n",
        "} // <-- Termina la clase, TODO DEBE ESTAR DENTRO DE LA CLASE"
      ],
      "execution_count": 29,
      "outputs": [
        {
          "output_type": "stream",
          "text": [
            "Overwriting Example3.java\n"
          ],
          "name": "stdout"
        }
      ]
    },
    {
      "cell_type": "code",
      "metadata": {
        "id": "S7AU_DxU-bxR",
        "colab_type": "code",
        "colab": {
          "base_uri": "https://localhost:8080/",
          "height": 214
        },
        "outputId": "80934fe8-65d5-4163-8c95-d50fc6eeaeab"
      },
      "source": [
        "!java Example3.java"
      ],
      "execution_count": 30,
      "outputs": [
        {
          "output_type": "stream",
          "text": [
            "Digite el valor n al que quiere calcular el factorial\n",
            "1\n",
            "La respuesta es 1\n",
            "Digite el valor n al que quiere calcular el factorial\n",
            "5\n",
            "La respuesta es 120\n",
            "Digite el valor n al que quiere calcular el factorial\n",
            "4\n",
            "La respuesta es 24\n",
            "Digite el valor n al que quiere calcular el factorial\n",
            "3\n",
            "La respuesta es 6\n"
          ],
          "name": "stdout"
        }
      ]
    },
    {
      "cell_type": "markdown",
      "metadata": {
        "id": "u1R7PzNr_m5E",
        "colab_type": "text"
      },
      "source": [
        "Example 4"
      ]
    },
    {
      "cell_type": "code",
      "metadata": {
        "id": "pY5_Z9hu-dS3",
        "colab_type": "code",
        "colab": {
          "base_uri": "https://localhost:8080/",
          "height": 32
        },
        "outputId": "cc0402eb-ed41-4da9-ca26-b731f8d0c582"
      },
      "source": [
        "%%writefile Example4.java\n",
        "import java.util.Scanner; \n",
        "class Example4 { // <-- Comienza la clase, TODO DEBE ESTAR DENTRO DE LA CLASE\n",
        "\n",
        "   public static void main(String[] args) { // <-- Comienza mi programa principal\n",
        "      Scanner s = new Scanner(System.in); // nuestra herramienta para leer datos\n",
        "      int m,n,i;\n",
        "      int r[] = new int[50];\n",
        "      System.out.println(\"Digite cuantos factoriales quiere calcular\");\n",
        "      m = s.nextInt();\n",
        "      for(i = 0; i<m;i=i+1){\n",
        "        System.out.println(\"Digite el valor n al que quiere calcular el factorial\");\n",
        "        n = s.nextInt();\n",
        "        r[i] = Factorial(n); // <-- asi llamo la función\n",
        "      }\n",
        "      System.out.println(\"Escribamos los resultados\");\n",
        "      for(i=0;i<m;i=i+1){\n",
        "          System.out.println(\"El resultado de la operacion \"+i+\" fue \"+r[i]);\n",
        "      }\n",
        "\n",
        "   } // <-- Termina mi programa principal\n",
        "\n",
        "   public static int Factorial(int n) { // <-- asi creo una funcion con los parametros de entrada que necesita...Comienza mi funcion\n",
        "      int i; // <-- esta variable no esta en los parametros de entrada, la usare en mi funcion para hallar el factorial\n",
        "      int respuesta; // <-- esta variable no esta en los parametros de entrada, es mi variable de salida.\n",
        "      if (n == 0){\n",
        "         return 1; // <-- de cumplirse el condicional aqui terminaria la funcion y retornaria 1\n",
        "      }else{\n",
        "         respuesta = 1;\n",
        "         for(i=1;i<=n;i=i+1){\n",
        "             respuesta = respuesta*i;\n",
        "         }\n",
        "      }\n",
        "      return respuesta;  // Si no entra a n = 0, entonces hara el proceso del sino y retornara respuesta\n",
        "   }\n",
        "\n",
        "} // <-- Termina la clase, TODO DEBE ESTAR DENTRO DE LA CLASE"
      ],
      "execution_count": 35,
      "outputs": [
        {
          "output_type": "stream",
          "text": [
            "Overwriting Example4.java\n"
          ],
          "name": "stdout"
        }
      ]
    },
    {
      "cell_type": "code",
      "metadata": {
        "id": "c36VCqv3AK_E",
        "colab_type": "code",
        "colab": {
          "base_uri": "https://localhost:8080/",
          "height": 312
        },
        "outputId": "5859a3cb-7c09-4aa9-cec9-751a43469dac"
      },
      "source": [
        "!java Example4.java"
      ],
      "execution_count": 36,
      "outputs": [
        {
          "output_type": "stream",
          "text": [
            "Digite cuantos factoriales quiere calcular\n",
            "5\n",
            "Digite el valor n al que quiere calcular el factorial\n",
            "1\n",
            "Digite el valor n al que quiere calcular el factorial\n",
            "2\n",
            "Digite el valor n al que quiere calcular el factorial\n",
            "3\n",
            "Digite el valor n al que quiere calcular el factorial\n",
            "4\n",
            "Digite el valor n al que quiere calcular el factorial\n",
            "5\n",
            "Escribamos los resultados\n",
            "El resultado de la operacion 0 fue 1\n",
            "El resultado de la operacion 1 fue 2\n",
            "El resultado de la operacion 2 fue 6\n",
            "El resultado de la operacion 3 fue 24\n",
            "El resultado de la operacion 4 fue 120\n"
          ],
          "name": "stdout"
        }
      ]
    },
    {
      "cell_type": "markdown",
      "metadata": {
        "id": "UjdKZuEyKE21",
        "colab_type": "text"
      },
      "source": [
        "Example 5"
      ]
    },
    {
      "cell_type": "code",
      "metadata": {
        "id": "Cz0Leo1_AO6e",
        "colab_type": "code",
        "colab": {
          "base_uri": "https://localhost:8080/",
          "height": 32
        },
        "outputId": "4f5dc44d-b6a3-4a87-faf3-6ea971e127f1"
      },
      "source": [
        "%%writefile Example5.java\n",
        "import java.util.Scanner; \n",
        "class Example5 { // <-- Comienza la clase, TODO DEBE ESTAR DENTRO DE LA CLASE\n",
        "\n",
        "   public static void main(String[] args) { // <-- Comienza mi programa principal\n",
        "      Scanner s = new Scanner(System.in); // nuestra herramienta para leer datos\n",
        "      int i,j,n,m;\n",
        "      double A[][] = new double[50][50];\n",
        "      System.out.println(\"Digite el numero de filas de la matriz\");\n",
        "      n = s.nextInt();\n",
        "      System.out.println(\"Digite el numero de columnas de la matriz\");\n",
        "      m = s.nextInt();\n",
        "      A = ReadMatrix(n,m);\n",
        "      for(i=0;i<n;i=i+1){\n",
        "          for(j=0;j<m;j=j+1){\n",
        "              System.out.print(A[i][j] + \" \");\n",
        "          }\n",
        "          System.out.println(\" \");\n",
        "      }\n",
        "\n",
        "   } // <-- Termina mi programa principal\n",
        "\n",
        "   public static double[][] ReadMatrix(int n, int m) { // <-- asi creo una funcion con los parametros de entrada que necesita...Comienza mi funcion\n",
        "      int i,j; // <-- esta variable no esta en los parametros de entrada, la usare en mi funcion para hallar el factorial\n",
        "      double Matrix[][] = new double[n][m]; \n",
        "      Scanner s = new Scanner(System.in); // nuestra herramienta para leer datos\n",
        "      for(i=0;i<n;i=i+1){\n",
        "          for(j=0;j<m;j=j+1){\n",
        "              System.out.println(\"Digite el valor de la posicion A[\"+i+\",\"+j+\"]\");\n",
        "              Matrix[i][j] = s.nextDouble();\n",
        "          }\n",
        "      }\n",
        "      return Matrix;  // \n",
        "   }\n",
        "\n",
        "\n",
        "} // <-- Termina la clase, TODO DEBE ESTAR DENTRO DE LA CLASE"
      ],
      "execution_count": 42,
      "outputs": [
        {
          "output_type": "stream",
          "text": [
            "Overwriting Example5.java\n"
          ],
          "name": "stdout"
        }
      ]
    },
    {
      "cell_type": "code",
      "metadata": {
        "id": "yM_7CS0kL3mR",
        "colab_type": "code",
        "colab": {
          "base_uri": "https://localhost:8080/",
          "height": 247
        },
        "outputId": "9b495b30-7109-4641-ac3f-42c06f1cbd6a"
      },
      "source": [
        "!java Example5.java"
      ],
      "execution_count": 43,
      "outputs": [
        {
          "output_type": "stream",
          "text": [
            "Digite el numero de filas de la matriz\n",
            "2\n",
            "Digite el numero de columnas de la matriz\n",
            "2\n",
            "Digite el valor de la posicion A[0,0]\n",
            "1.0\n",
            "Digite el valor de la posicion A[0,1]\n",
            "2.1\n",
            "Digite el valor de la posicion A[1,0]\n",
            "2.2\n",
            "Digite el valor de la posicion A[1,1]\n",
            "2.3\n",
            "1.0 2.1  \n",
            "2.2 2.3  \n"
          ],
          "name": "stdout"
        }
      ]
    },
    {
      "cell_type": "markdown",
      "metadata": {
        "id": "FiXtC0hpONkk",
        "colab_type": "text"
      },
      "source": [
        "Example 6"
      ]
    },
    {
      "cell_type": "code",
      "metadata": {
        "id": "Yehi3QMpL6zJ",
        "colab_type": "code",
        "colab": {
          "base_uri": "https://localhost:8080/",
          "height": 32
        },
        "outputId": "a7e690f1-2c71-45ce-dd11-77f741d6e907"
      },
      "source": [
        "%%writefile Example6.java\n",
        "import java.util.Scanner; \n",
        "class Example6 { // <-- Comienza la clase, TODO DEBE ESTAR DENTRO DE LA CLASE\n",
        "\n",
        "   public static void main(String[] args) { // <-- Comienza mi programa principal\n",
        "      Scanner s = new Scanner(System.in); // nuestra herramienta para leer datos\n",
        "      int i,j,nA,mA,nB,mB;\n",
        "      double A[][] = new double[50][50];\n",
        "      double B[][] = new double[50][50];\n",
        "      double C[][] = new double[50][50];\n",
        "      System.out.println(\"Digite el numero de filas de la matriz A\");\n",
        "      nA = s.nextInt();\n",
        "      System.out.println(\"Digite el numero de columnas de la matriz A\");\n",
        "      mA = s.nextInt();\n",
        "      System.out.println(\"Digite el numero de filas de la matriz B\");\n",
        "      nB = s.nextInt();\n",
        "      System.out.println(\"Digite el numero de columnas de la matriz B\");\n",
        "      mB = s.nextInt();\n",
        "      A = ReadMatrix(nA,mA);\n",
        "      B = ReadMatrix(nB,mB);\n",
        "      System.out.println(\"Matriz A\");\n",
        "      for(i=0;i<nA;i=i+1){\n",
        "          for(j=0;j<mA;j=j+1){\n",
        "              System.out.print(A[i][j] + \" \");\n",
        "          }\n",
        "          System.out.println(\" \");\n",
        "      }\n",
        "      System.out.println(\"Matriz B\");\n",
        "      for(i=0;i<nB;i=i+1){\n",
        "          for(j=0;j<mB;j=j+1){\n",
        "              System.out.print(B[i][j] + \" \");\n",
        "          }\n",
        "          System.out.println(\" \");\n",
        "      }\n",
        "     if (mA == nB){\n",
        "      C = multiplyMatrices(A,B,nA,nB,mA,mB);\n",
        "      System.out.println(\"Matriz resultante\");\n",
        "        for(i=0;i<nA;i=i+1){\n",
        "            for(j=0;j<mB;j=j+1){\n",
        "                System.out.print(C[i][j] + \" \");\n",
        "            }\n",
        "            System.out.println(\" \");\n",
        "        } \n",
        "     }else{\n",
        "         System.out.println(\"Las dimensiones de A y B no concuerdan\");\n",
        "     }\n",
        "\n",
        "   } // <-- Termina mi programa principal\n",
        "\n",
        "\n",
        "   public static double[][] ReadMatrix(int n, int m) { // <-- asi creo una funcion con los parametros de entrada que necesita...Comienza mi funcion\n",
        "      int i,j; // <-- esta variable no esta en los parametros de entrada, la usare en mi funcion para hallar el factorial\n",
        "      double Matrix[][] = new double[n][m]; \n",
        "      Scanner s = new Scanner(System.in); // nuestra herramienta para leer datos\n",
        "      for(i=0;i<n;i=i+1){\n",
        "          for(j=0;j<m;j=j+1){\n",
        "              System.out.println(\"Digite el valor de la posicion Matrix[\"+i+\",\"+j+\"]\");\n",
        "              Matrix[i][j] = s.nextDouble();\n",
        "          }\n",
        "      }\n",
        "      return Matrix;  // \n",
        "   }\n",
        "\n",
        "    public static double[][] multiplyMatrices(double firstMatrix[][], double secondMatrix[][], int nA, int nB, int mA, int mB) {\n",
        "        double product[][] = new double[nA][mB];\n",
        "            for(int i = 0; i < nA; i++) {\n",
        "              for (int j = 0; j < mB; j++) {\n",
        "                  for (int k = 0; k < nB; k++) {\n",
        "                      product[i][j] = product[i][j] + firstMatrix[i][k] * secondMatrix[k][j];\n",
        "                  }\n",
        "              }\n",
        "          }\n",
        "        return product;\n",
        "    }\n",
        "\n",
        "} // <-- Termina la clase, TODO DEBE ESTAR DENTRO DE LA CLASE"
      ],
      "execution_count": 56,
      "outputs": [
        {
          "output_type": "stream",
          "text": [
            "Overwriting Example6.java\n"
          ],
          "name": "stdout"
        }
      ]
    },
    {
      "cell_type": "code",
      "metadata": {
        "id": "32RHZOptP6Ax",
        "colab_type": "code",
        "colab": {
          "base_uri": "https://localhost:8080/",
          "height": 708
        },
        "outputId": "ec5642e7-67bc-4cd9-d94f-8340b3e50043"
      },
      "source": [
        "!java Example6.java"
      ],
      "execution_count": 57,
      "outputs": [
        {
          "output_type": "stream",
          "text": [
            "Digite el numero de filas de la matriz A\n",
            "2\n",
            "Digite el numero de columnas de la matriz A\n",
            "3\n",
            "Digite el numero de filas de la matriz B\n",
            "3\n",
            "Digite el numero de columnas de la matriz B\n",
            "2\n",
            "Digite el valor de la posicion Matrix[0,0]\n",
            "3\n",
            "Digite el valor de la posicion Matrix[0,1]\n",
            "-2.1\n",
            "Digite el valor de la posicion Matrix[0,2]\n",
            "5.1\n",
            "Digite el valor de la posicion Matrix[1,0]\n",
            "3\n",
            "Digite el valor de la posicion Matrix[1,1]\n",
            "0.1\n",
            "Digite el valor de la posicion Matrix[1,2]\n",
            "4\n",
            "Digite el valor de la posicion Matrix[0,0]\n",
            "2\n",
            "Digite el valor de la posicion Matrix[0,1]\n",
            "3\n",
            "Digite el valor de la posicion Matrix[1,0]\n",
            "-9\n",
            "Digite el valor de la posicion Matrix[1,1]\n",
            "0\n",
            "Digite el valor de la posicion Matrix[2,0]\n",
            "0\n",
            "Digite el valor de la posicion Matrix[2,1]\n",
            "4\n",
            "Matriz A\n",
            "3.0 -2.1 5.1  \n",
            "3.0 0.1 4.0  \n",
            "Matriz B\n",
            "2.0 3.0  \n",
            "-9.0 0.0  \n",
            "0.0 4.0  \n",
            "Matriz resultante\n",
            "24.900000000000002 29.4  \n",
            "5.1 25.0  \n"
          ],
          "name": "stdout"
        }
      ]
    }
  ]
}