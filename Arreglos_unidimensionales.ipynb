{
  "nbformat": 4,
  "nbformat_minor": 0,
  "metadata": {
    "colab": {
      "name": "Arreglos_unidimensionales.ipynb",
      "provenance": [],
      "collapsed_sections": [
        "8AspY29n-Tkm",
        "SLxglO6W1pWa",
        "d4Lw3HtzxguA"
      ],
      "authorship_tag": "ABX9TyOyHwJ3PGkXaFXjiZev5cv1"
    },
    "kernelspec": {
      "name": "python3",
      "display_name": "Python 3"
    }
  },
  "cells": [
    {
      "cell_type": "markdown",
      "metadata": {
        "id": "TewAVj5xuz0H",
        "colab_type": "text"
      },
      "source": [
        "# **Arreglos**"
      ]
    },
    {
      "cell_type": "markdown",
      "metadata": {
        "id": "Sg9z5fXhEbPW",
        "colab_type": "text"
      },
      "source": [
        "Para poder hablar de arreglos primero tenemos que definir unas cosas\n",
        "\n",
        "* Que es un arreglo?\n",
        "* Que caracteristicas tiene un arreglo?\n",
        "* Que cosas debemos tener en cuenta al momento de tratar con arreglos?"
      ]
    },
    {
      "cell_type": "markdown",
      "metadata": {
        "id": "uRTWAlt7JSeA",
        "colab_type": "text"
      },
      "source": [
        "Vamos a responder cada pregunta:\n",
        "\n",
        "* Un arreglo es una variable en que se almacena, en forma secuencial, un conjunto de **datos del mismo tipo** a partir de una posición inicial.\n",
        "\n",
        "* Las caracteristicas de un arreglo son: \n",
        "\n",
        "1. Las que conocemos ya por temas pasados (Nombre, tipo, contenido, etc).\n",
        "2. Adicionalmente, tiene un **tamaño**, el cual indica el número de elementos que se almacenan en el arreglo.\n",
        "3. Un índice, un puntero que permite acceder a un elemento específico del arreglo.\n",
        "\n",
        "* Dependiendo de nuestra logica y del problema, podemos tratar los datos de un problema por medio de vistas, estas vistas se denominan **dimensiones**, y dependiendo de la manera como los datos sean estructurados, los arreglos pueden resultar de una, dos o más dimensiones.\n",
        "\n",
        "Segun las dimensiones, los arreglos se clasifican en:\n",
        "\n",
        "1. Unidimensionales/vectores\n",
        "2. Bidimensionales/matrices\n",
        "3. Multidimensionales"
      ]
    },
    {
      "cell_type": "markdown",
      "metadata": {
        "id": "g19p6J5UJS5J",
        "colab_type": "text"
      },
      "source": [
        "$A : |a_1 | a_2 | ....| a_{i-1}|a_i|a_{i+1}|...|a_{n-1}|a_n|$\n",
        "\n",
        "* Donde A viene siendo el nombre del arreglo.\n",
        "* $a_1,...,a_n$ su contenido.\n",
        "* n el tamaño "
      ]
    },
    {
      "cell_type": "markdown",
      "metadata": {
        "id": "-gTNjpoNM83W",
        "colab_type": "text"
      },
      "source": [
        "Entonces, como se define o cual es el concepto de un vector/arreglo unidimensional?"
      ]
    },
    {
      "cell_type": "markdown",
      "metadata": {
        "id": "ZenX41DnM9LH",
        "colab_type": "text"
      },
      "source": [
        "## Vectores/Arreglos unidimensionales\n",
        "\n",
        "Un vector es una estructura de datos compuesta por un conjunto de elementos del mismo tipo, los cuales son direccionados por un unico indice, el cual esta organizado linealmente, con el fin de almacenar un arrreglo de información que se dispone secuencialmente dentro del vector.\n",
        "\n",
        "En pocas palabras...un vector es:\n",
        "\n",
        "* Un arreglo que guarda información de manera secuencial desde un punto inicial hasta un punto final.\n",
        "* Tiene un unico indice con el que se accede a cada direccion del vector."
      ]
    },
    {
      "cell_type": "markdown",
      "metadata": {
        "id": "RDiplRoTODeA",
        "colab_type": "text"
      },
      "source": [
        "Como esta compuesto un vector?\n",
        "\n",
        "* EL nombre del vector.\n",
        "* El índice que maneja las direcciones en el vector.\n",
        "* La información contenida en cada dirección del vector.\n",
        "* El rango de almacenamiento del vector o tamaño. *"
      ]
    },
    {
      "cell_type": "markdown",
      "metadata": {
        "id": "92jRe7yROeu2",
        "colab_type": "text"
      },
      "source": [
        "[Representación de un vector](https://drive.google.com/open?id=1y3DPQ1KykIolFS8YOW-h7vpJkfCPB_JV)\n"
      ]
    },
    {
      "cell_type": "markdown",
      "metadata": {
        "id": "iahreiqv5gAt",
        "colab_type": "text"
      },
      "source": [
        "Los indices **son diferentes** a los contenidos de informaciones. Algunos ejemplos de esto son:\n",
        "\n",
        "* A[1] = 10. En la primera (1) dirección del vector A se encuentra la información 10.\n",
        "* A[5] = 50. En la quinta (5) dirección del vector A se encuentra la información 50.\n",
        "\n",
        "El rango de almacenamiento del vector A parte de la posición inicial uno (1) y llega a la posición final diez (10), es decir, el vector A tiene un tamaño de 10 posiciones."
      ]
    },
    {
      "cell_type": "markdown",
      "metadata": {
        "id": "5U1lEjJ-5gpo",
        "colab_type": "text"
      },
      "source": [
        "Que podemos usar para crear,manejar,modificar o hacer operaciones con vectores?\n",
        "\n",
        "* Ciclo para\n",
        "* Ciclo Mientras que\n",
        "* Ciclo Haga hasta"
      ]
    },
    {
      "cell_type": "markdown",
      "metadata": {
        "id": "8AspY29n-Tkm",
        "colab_type": "text"
      },
      "source": [
        "### **Ejemplos basicos**\n"
      ]
    },
    {
      "cell_type": "markdown",
      "metadata": {
        "id": "LtlhI1aE5jKG",
        "colab_type": "text"
      },
      "source": [
        "* Construya un algoritmo para leer e imprimir los n elementos de un vector (n es leido) que contiene enteros."
      ]
    },
    {
      "cell_type": "code",
      "metadata": {
        "id": "jjN0X1GG-mnq",
        "colab_type": "code",
        "colab": {
          "base_uri": "https://localhost:8080/",
          "height": 32
        },
        "outputId": "9237f32f-b3d6-42f4-be73-102aded68de0"
      },
      "source": [
        "%%writefile Leer_Escribir_Vectores.java\n",
        "import java.util.Scanner; \n",
        "class Leer_Escribir_Vectores\n",
        "{ \n",
        "    public static void main(String args[]) \n",
        "    { \n",
        "      Scanner s = new Scanner(System.in); // nuestra herramienta para leer datos\n",
        "      int i;  // el indice que usaremos\n",
        "      int n; // la cantidad de elementos que tendremos.\n",
        "      int A[] = new int[50]; // Definimos el nombre de nuestro vector y el tamaño maximo que puede llegar a tener\n",
        "      System.out.println(\"Digite el tamaño del vector A\");\n",
        "      n = s.nextInt();\n",
        "     // Con este para leemos la informacion de cada posicion del vector A\n",
        "      for(i=1;i<=n;i=i+1){\n",
        "          System.out.println(\"Digite el valor de la posicion \"+i+\" del vector A\");\n",
        "          A[i] = s.nextInt(); //Leemos el valor/información que tendra el vector A en el indicie i\n",
        "      }\n",
        "     // Con este para escribimos la informacion de cada posicion del vector A\n",
        "     for(i=1;i<=n;i=i+1){\n",
        "         System.out.println(\"El elemento A[\"+i+\"] del vector A es \"+A[i]);\n",
        "     }\n",
        "    } \n",
        "} "
      ],
      "execution_count": 9,
      "outputs": [
        {
          "output_type": "stream",
          "text": [
            "Overwriting Leer_Escribir_Vectores.java\n"
          ],
          "name": "stdout"
        }
      ]
    },
    {
      "cell_type": "code",
      "metadata": {
        "id": "Ff_lm9ZVCcz5",
        "colab_type": "code",
        "colab": {
          "base_uri": "https://localhost:8080/",
          "height": 296
        },
        "outputId": "006a6ceb-96dc-47f9-818b-7cc0c9c50f63"
      },
      "source": [
        "!java Leer_Escribir_Vectores.java"
      ],
      "execution_count": 8,
      "outputs": [
        {
          "output_type": "stream",
          "text": [
            "Digite el tamaño del vector A\n",
            "5\n",
            "Digite el valor de la posicion 1 del vector A\n",
            "10\n",
            "Digite el valor de la posicion 2 del vector A\n",
            "-1\n",
            "Digite el valor de la posicion 3 del vector A\n",
            "2\n",
            "Digite el valor de la posicion 4 del vector A\n",
            "6\n",
            "Digite el valor de la posicion 5 del vector A\n",
            "4\n",
            "El elemento A[1] del vector A es 10\n",
            "El elemento A[2] del vector A es -1\n",
            "El elemento A[3] del vector A es 2\n",
            "El elemento A[4] del vector A es 6\n",
            "El elemento A[5] del vector A es 4\n"
          ],
          "name": "stdout"
        }
      ]
    },
    {
      "cell_type": "markdown",
      "metadata": {
        "id": "MHWy4Ayj-T7d",
        "colab_type": "text"
      },
      "source": [
        "* Construya un algoritmo que dado un vector con n posiciones (tanto el vector como n tienen que ser leidos y n>0) encuentre el menor y el mayor elemento de este."
      ]
    },
    {
      "cell_type": "code",
      "metadata": {
        "id": "z3DBr5Mqu3u4",
        "colab_type": "code",
        "colab": {
          "base_uri": "https://localhost:8080/",
          "height": 32
        },
        "outputId": "b644988c-5504-48d6-f3b7-761713c924ac"
      },
      "source": [
        "%%writefile MayorMenor_Vector.java\n",
        "import java.util.Scanner; \n",
        "class MayorMenor_Vector\n",
        "{ \n",
        "    public static void main(String args[]) \n",
        "    { \n",
        "      Scanner s = new Scanner(System.in); // nuestra herramienta para leer datos\n",
        "      int i;  // el indice que usaremos\n",
        "      int n; // la cantidad de elementos que tendremos.\n",
        "      int A[] = new int[50]; // Definimos el nombre de nuestro vector y el tamaño maximo que puede llegar a tener\n",
        "     int menor , mayor;\n",
        "      System.out.println(\"Digite el tamaño del vector A\");\n",
        "      n = s.nextInt();\n",
        "     // Con este para leemos la informacion de cada posicion del vector A\n",
        "      for(i=1;i<=n;i=i+1){\n",
        "          System.out.println(\"Digite el valor de la posicion \"+i+\" del vector A\");\n",
        "          A[i] = s.nextInt(); //Leemos el valor/información que tendra el vector A en el indicie i\n",
        "      }\n",
        "     menor = A[1];\n",
        "     mayor = A[1];\n",
        "     for(i=2;i<=n;i=i+1){\n",
        "         if(A[i]< menor){\n",
        "             menor = A[i];\n",
        "         }else{\n",
        "             if(A[i]>mayor){\n",
        "                 mayor = A[i];\n",
        "             }\n",
        "         }\n",
        "     }\n",
        "     System.out.println(\"El menor numero del vector A es \"+menor);\n",
        "     System.out.println(\"El mayor numero del vector A es \"+mayor);\n",
        "\n",
        "    } \n",
        "} "
      ],
      "execution_count": 12,
      "outputs": [
        {
          "output_type": "stream",
          "text": [
            "Overwriting MayorMenor_Vector.java\n"
          ],
          "name": "stdout"
        }
      ]
    },
    {
      "cell_type": "code",
      "metadata": {
        "id": "bUmvvrxJFXs1",
        "colab_type": "code",
        "colab": {
          "base_uri": "https://localhost:8080/",
          "height": 247
        },
        "outputId": "f523f4bb-27dd-4907-d557-865affc0d5f2"
      },
      "source": [
        "!java MayorMenor_Vector.java"
      ],
      "execution_count": 13,
      "outputs": [
        {
          "output_type": "stream",
          "text": [
            "Digite el tamaño del vector A\n",
            "5\n",
            "Digite el valor de la posicion 1 del vector A\n",
            "100\n",
            "Digite el valor de la posicion 2 del vector A\n",
            "-1\n",
            "Digite el valor de la posicion 3 del vector A\n",
            "101\n",
            "Digite el valor de la posicion 4 del vector A\n",
            "4\n",
            "Digite el valor de la posicion 5 del vector A\n",
            "5\n",
            "El menor numero del vector A es -1\n",
            "El mayor numero del vector A es 101\n"
          ],
          "name": "stdout"
        }
      ]
    },
    {
      "cell_type": "markdown",
      "metadata": {
        "id": "cDMQUTgSF9RG",
        "colab_type": "text"
      },
      "source": [
        "* Suponga un vector A de n elementos que contiene numeros enteros. Diseñe un algoritmo para invertir los elementos del vector A, es decir, intercambiar el primer elemento con el ultimo del vector, el segundo con el penultimo elemento del vector, y asi sucesivamente hasta alcanzar el punto medio del vector."
      ]
    },
    {
      "cell_type": "code",
      "metadata": {
        "id": "EWP9QCziFaac",
        "colab_type": "code",
        "colab": {
          "base_uri": "https://localhost:8080/",
          "height": 32
        },
        "outputId": "1fdc5873-369a-48f7-c0ff-fad41f41fd54"
      },
      "source": [
        "%%writefile Intercambiar_Vector.java\n",
        "import java.util.Scanner; \n",
        "class Intercambiar_Vector\n",
        "{ \n",
        "    public static void main(String args[]) \n",
        "    { \n",
        "      Scanner s = new Scanner(System.in); // nuestra herramienta para leer datos\n",
        "      int i;  // el indice que usaremos\n",
        "      int j,m, temp;\n",
        "      int n; // la cantidad de elementos que tendremos.\n",
        "      int A[] = new int[50]; // Definimos el nombre de nuestro vector y el tamaño maximo que puede llegar a tener\n",
        "      System.out.println(\"Digite el tamaño del vector A\");\n",
        "      n = s.nextInt();\n",
        "     // Con este para leemos la informacion de cada posicion del vector A\n",
        "      for(i=1;i<=n;i=i+1){\n",
        "          System.out.println(\"Digite el valor de la posicion \"+i+\" del vector A\");\n",
        "          A[i] = s.nextInt(); //Leemos el valor/información que tendra el vector A en el indicie i\n",
        "      }\n",
        "      j = n; //j controlara los elementos de derecha a izquierda\n",
        "      m = n/2; // Encontramos el punto medio. Recordemos que n es entero... entero/entero = entero\n",
        "     for(i=1;i<=m;i=i+1){\n",
        "         temp=A[i]; //Guardamos el valor A[i] (valor mas a la izquierda para cuando i vale 1) en temp\n",
        "         A[i] = A[j]; // Cambiamos el valor de A[i] por el valor de A[j] (valor mas a la izquierda con valor mas a la derecha)\n",
        "         A[j] = temp; // Cambiamos A[j] con el valor que tiene temp\n",
        "         j = j - 1;\n",
        "     }\n",
        "     for(i=1;i<=n;i=i+1){\n",
        "         System.out.println(\"El elemento A[\"+i+\"] del vector A es \"+A[i]);\n",
        "     }\n",
        "    } \n",
        "} "
      ],
      "execution_count": 17,
      "outputs": [
        {
          "output_type": "stream",
          "text": [
            "Overwriting Intercambiar_Vector.java\n"
          ],
          "name": "stdout"
        }
      ]
    },
    {
      "cell_type": "code",
      "metadata": {
        "id": "818AYCxrJG3e",
        "colab_type": "code",
        "colab": {
          "base_uri": "https://localhost:8080/",
          "height": 494
        },
        "outputId": "771de581-ce89-4180-84e6-1eaee97232c1"
      },
      "source": [
        "!java Intercambiar_Vector.java"
      ],
      "execution_count": 16,
      "outputs": [
        {
          "output_type": "stream",
          "text": [
            "Digite el tamaño del vector A\n",
            "9\n",
            "Digite el valor de la posicion 1 del vector A\n",
            "40\n",
            "Digite el valor de la posicion 2 del vector A\n",
            "30\n",
            "Digite el valor de la posicion 3 del vector A\n",
            "20\n",
            "Digite el valor de la posicion 4 del vector A\n",
            "10\n",
            "Digite el valor de la posicion 5 del vector A\n",
            "1\n",
            "Digite el valor de la posicion 6 del vector A\n",
            "-40\n",
            "Digite el valor de la posicion 7 del vector A\n",
            "-30\n",
            "Digite el valor de la posicion 8 del vector A\n",
            "-20\n",
            "Digite el valor de la posicion 9 del vector A\n",
            "-10\n",
            "El elemento A[1] del vector A es -10\n",
            "El elemento A[2] del vector A es -20\n",
            "El elemento A[3] del vector A es -30\n",
            "El elemento A[4] del vector A es -40\n",
            "El elemento A[5] del vector A es 1\n",
            "El elemento A[6] del vector A es 10\n",
            "El elemento A[7] del vector A es 20\n",
            "El elemento A[8] del vector A es 30\n",
            "El elemento A[9] del vector A es 40\n"
          ],
          "name": "stdout"
        }
      ]
    },
    {
      "cell_type": "markdown",
      "metadata": {
        "id": "zyKGSdfENgvn",
        "colab_type": "text"
      },
      "source": [
        "* Supongamos un vector A con n elementos. Queremos dividir este vector en dos segun las siguientes propiedad (para cada propiedad diseñe un algoritmo).\n",
        "Nota: (no incluir cero)\n",
        "\n",
        "Las propiedades son:\n",
        "1. Numeros pares e impares\n",
        "2. Numeros primos y no primos (Ejercicio propuesto)\n",
        "3. Numeros negativos y positivos (Ejercicio propuesto)\n"
      ]
    },
    {
      "cell_type": "code",
      "metadata": {
        "id": "1oesBRPiJJak",
        "colab_type": "code",
        "colab": {
          "base_uri": "https://localhost:8080/",
          "height": 32
        },
        "outputId": "39c123d7-4a4f-4bce-e441-3e90343e031c"
      },
      "source": [
        "%%writefile Dividir_Vector.java\n",
        "import java.util.Scanner; \n",
        "class Dividir_Vector\n",
        "{ \n",
        "    public static void main(String args[]) \n",
        "    { \n",
        "      Scanner s = new Scanner(System.in); // nuestra herramienta para leer datos\n",
        "      int i;  // el indice que usaremos para A\n",
        "      int n; // la cantidad de elementos que tendremos.\n",
        "      int A[] = new int[50]; // Definimos el nombre de nuestro vector y el tamaño maximo que puede llegar a tener\n",
        "      int Impares[] = new int[50]; //Vector para guardar numeros impares\n",
        "      int Pares[] = new int[50]; //Vector para guardar numeros pares\n",
        "      int ii; // indice que usaremos para los impares\n",
        "      int ip; // indice que usaremos para los pares\n",
        "      System.out.println(\"Digite el tamaño del vector A\");\n",
        "      n = s.nextInt();\n",
        "     // Con este para leemos la informacion de cada posicion del vector A\n",
        "      for(i=1;i<=n;i=i+1){\n",
        "          System.out.println(\"Digite el valor de la posicion \"+i+\" del vector A\");\n",
        "          A[i] = s.nextInt(); //Leemos el valor/información que tendra el vector A en el indicie i\n",
        "      }\n",
        "      ii = 0; // Inicializamos el indice de impares en 0 pues no hemos encontrado ninguno\n",
        "      ip = 0; // Inicializamos el indice de impares en 0 pues no hemos encontrado ninguno\n",
        "      for (i=1;i<=n;i=i+1){\n",
        "          if(A[i]%2 == 0 ){\n",
        "              ip = ip + 1;\n",
        "              Pares[ip] = A[i];\n",
        "          }else{\n",
        "              ii = ii+1;\n",
        "              Impares[ii] = A[i];\n",
        "          }\n",
        "      }\n",
        "\n",
        "      for (i=1;i<=ip;i=i+1){\n",
        "          System.out.println(\"El valor es par \"+Pares[i]);\n",
        "      }   \n",
        "      for (i=1;i<=ii;i=i+1){\n",
        "          System.out.println(\"El valor es impar \"+Impares[i]);\n",
        "      }   \n",
        "    } \n",
        "} "
      ],
      "execution_count": 3,
      "outputs": [
        {
          "output_type": "stream",
          "text": [
            "Overwriting Dividir_Vector.java\n"
          ],
          "name": "stdout"
        }
      ]
    },
    {
      "cell_type": "code",
      "metadata": {
        "id": "RrpdRRTW1TaC",
        "colab_type": "code",
        "colab": {
          "base_uri": "https://localhost:8080/",
          "height": 543
        },
        "outputId": "c1ea9478-29a7-431a-cb83-c5c7e880a80a"
      },
      "source": [
        "!java Dividir_Vector.java"
      ],
      "execution_count": 4,
      "outputs": [
        {
          "output_type": "stream",
          "text": [
            "Digite el tamaño del vector A\n",
            "10\n",
            "Digite el valor de la posicion 1 del vector A\n",
            "1\n",
            "Digite el valor de la posicion 2 del vector A\n",
            "2\n",
            "Digite el valor de la posicion 3 del vector A\n",
            "3\n",
            "Digite el valor de la posicion 4 del vector A\n",
            "4\n",
            "Digite el valor de la posicion 5 del vector A\n",
            "5\n",
            "Digite el valor de la posicion 6 del vector A\n",
            "6\n",
            "Digite el valor de la posicion 7 del vector A\n",
            "7\n",
            "Digite el valor de la posicion 8 del vector A\n",
            "8\n",
            "Digite el valor de la posicion 9 del vector A\n",
            "9\n",
            "Digite el valor de la posicion 10 del vector A\n",
            "10\n",
            "El valor es par 2\n",
            "El valor es par 4\n",
            "El valor es par 6\n",
            "El valor es par 8\n",
            "El valor es par 10\n",
            "El valor es impar 1\n",
            "El valor es impar 3\n",
            "El valor es impar 5\n",
            "El valor es impar 7\n",
            "El valor es impar 9\n"
          ],
          "name": "stdout"
        }
      ]
    },
    {
      "cell_type": "markdown",
      "metadata": {
        "id": "SLxglO6W1pWa",
        "colab_type": "text"
      },
      "source": [
        "### **Ejemplos medianos**"
      ]
    },
    {
      "cell_type": "markdown",
      "metadata": {
        "id": "-7k14vsR2fBO",
        "colab_type": "text"
      },
      "source": [
        "* Un estudiante matricula un conjunto de n asignaturas por semestre. Para cada una de las asignaturas se conoce: El nombre de la asignatura, la calificación de la asignatura y el numero de creditos asociados a la asignatura. Diseñe un algoritmo que muestre la totalidad de los datos de entrada (materia por fila) y el calculo parcial de cada una de las contribuciones de las asignaturas al promedio del estudiante, tambien debe calcular el promedio semestral del estudiante.\n",
        "\n",
        "Ejemplo:\n",
        "\n",
        "> Indice| Materia | Calificacion | Creditos | |Parcial\n",
        "> --- | --- | --- | --- | --- | ---\n",
        "> 1 | Calculo | 3,0 | 5 | = | 15\n",
        "> 2 | Electiva | 5,0 | 1 | = | 5\n",
        "> 3 | Algorirmos1 | 4,0 | 3 | = | 12\n",
        "> 4 | Competencias | 3,0 | 3 | = | 9\n",
        "> 5 | Algebra | 5,0 | 3 | = | 15\n",
        "\n",
        "El promedio del estudiante es Suma(Parcial)/Suma(Creditos), es decir 56/15 = 3,73\n",
        "\n",
        "\n"
      ]
    },
    {
      "cell_type": "code",
      "metadata": {
        "id": "Q0sWnpTy5cyX",
        "colab_type": "code",
        "colab": {
          "base_uri": "https://localhost:8080/",
          "height": 32
        },
        "outputId": "c967b706-b337-468b-9386-ab7a1b1f9d56"
      },
      "source": [
        "%%writefile Calculo_Promedio_Semestre.java\n",
        "import java.util.Scanner; \n",
        "class Calculo_Promedio_Semestre\n",
        "{ \n",
        "    public static void main(String args[]) \n",
        "    { \n",
        "      Scanner s = new Scanner(System.in); // nuestra herramienta para leer datos\n",
        "      int i;  \n",
        "      int n; \n",
        "      double Calificacion[] = new double[50]; \n",
        "      double Parcial[] = new double[50];\n",
        "      String Materia[] = new String[50];\n",
        "      int Creditos[] = new int[50];\n",
        "      int suma_creditos = 0;\n",
        "      double suma_parcial = 0;\n",
        "\n",
        "      System.out.println(\"Digite la cantidad de materias\");\n",
        "      n = s.nextInt();\n",
        "\n",
        "      for(i=1;i<=n;i=i+1){\n",
        "          System.out.println(\"Digite el nombre de la materia \"+i);\n",
        "          Materia[i] = s.next();\n",
        "          System.out.println(\"Digite la calificación de la materia \"+i);\n",
        "          Calificacion[i] = s.nextDouble();\n",
        "          System.out.println(\"Digite el numero de creditos de la materia \"+i);\n",
        "          Creditos[i] = s.nextInt();\n",
        "      }\n",
        "      // Ciclo que calcula los valores parciales de cada asignatura\n",
        "     for(i = 1; i<=n;i=i+1){\n",
        "         Parcial[i] = Calificacion[i]*Creditos[i];\n",
        "         suma_creditos = suma_creditos + Creditos[i];\n",
        "         suma_parcial = suma_parcial +Parcial[i]; \n",
        "     }\n",
        "\n",
        "      System.out.println(\" \");\n",
        "      for(i=1;i<=n;i=i+1){\n",
        "          System.out.println(Materia[i]+\" , \" + Calificacion[i] +\" , \" + Creditos[i] + \" = \" +  Parcial[i]);\n",
        "      }\n",
        "     System.out.println(\" \");\n",
        "     System.out.println(\"El valor del promedio semestral es \"+ suma_parcial/suma_creditos);\n",
        "    } \n",
        "} "
      ],
      "execution_count": 13,
      "outputs": [
        {
          "output_type": "stream",
          "text": [
            "Overwriting Calculo_Promedio_Semestre.java\n"
          ],
          "name": "stdout"
        }
      ]
    },
    {
      "cell_type": "code",
      "metadata": {
        "id": "V7gXpCvl8nZt",
        "colab_type": "code",
        "colab": {}
      },
      "source": [
        "!java Calculo_Promedio_Semestre.java"
      ],
      "execution_count": 0,
      "outputs": []
    },
    {
      "cell_type": "markdown",
      "metadata": {
        "id": "Y5zy4lw8Gty7",
        "colab_type": "text"
      },
      "source": [
        "* Dado un vector A de n elementos que contiene codigos representados por numeros de 4 digitos, y dada una llave X, la cual es leida, diseñe un algoritmo para encontrar la llave X en el vector A utilizando la busqueda secuencial (elemento a elemento), tambien debe decir el subindice en el que esta ubicado la llave.\n",
        "\n",
        "Ejemplo:\n",
        "\n",
        "> 1|2|3|4|5|6|7|8|9|10\n",
        "> ----|----|----|----|----|----|----|----|----|----|\n",
        "1922|3224|54565|5787|6908|7780|9071|5587|3000|8999\n",
        "\n",
        "Si la llave X = 9071, entonces el algoritmo debe decir que encontro la llave en el subindice 7."
      ]
    },
    {
      "cell_type": "markdown",
      "metadata": {
        "id": "70kVQgNoJNrP",
        "colab_type": "text"
      },
      "source": [
        "Analisis: Para este ejercicio tenemos que tener presente dos cosas:\n",
        "* es posible que la llave X no este en el vector.\n",
        "* como usaremos la busqueda secuencial, ¿que pasaria si usaramos la estructura **para** para recorrer el vector y la llave la encontramos en el primer subindice (primera posicion)?"
      ]
    },
    {
      "cell_type": "code",
      "metadata": {
        "id": "lB9FgMZoHzjm",
        "colab_type": "code",
        "colab": {
          "base_uri": "https://localhost:8080/",
          "height": 32
        },
        "outputId": "08dc967c-d32e-429c-b341-af5fcb129fc2"
      },
      "source": [
        "%%writefile Busqueda_Secuencial.java\n",
        "import java.util.Scanner; \n",
        "class Busqueda_Secuencial\n",
        "{ \n",
        "    public static void main(String args[]) \n",
        "    { \n",
        "      Scanner s = new Scanner(System.in); // nuestra herramienta para leer datos\n",
        "      int i, subindice;  \n",
        "      int n,x;\n",
        "      boolean sw; // tambien lo podemos declarar como entero  \n",
        "      int Numeros[] = new int[50]; \n",
        "\n",
        "      System.out.println(\"Digite la cantidad de numeros/elementos del vector A\");\n",
        "      n = s.nextInt();\n",
        "      for(i=1;i<=n;i=i+1){\n",
        "          System.out.println(\"Digite el numero de 4 digitos \"+ i);\n",
        "          Numeros[i] = s.nextInt();\n",
        "      }\n",
        "      System.out.println(\"Digite el valor X que desea buscar en A\");\n",
        "      x = s.nextInt();\n",
        "      sw = false; //iniciaremos la variable en falso porque no hemos encontrado la llave\n",
        "      subindice = 0; // subindice donde encontramos la llave (de encontrarla)\n",
        "      i = 0; // Tenemos que ponerlo en 0 porque lo usamos anteriormente en el para, otra opcion seria usar otra variable, j por ejemplo\n",
        "      while(i<n && sw == false){ // Mientras que todavia tenga elementos el posicion y todavia no encontremos la llave haga\n",
        "          i = i +1;\n",
        "          if(Numeros[i] == x){ // si se cumple este condicional encontramos el numero! de no cumplirse no entra y mira el siguiente valor del vector\n",
        "              sw = true; // sw pasa a tener verdadero\n",
        "              subindice = i;\n",
        "          }\n",
        "      }\n",
        "     if(sw == true){ // si sw es verdadero encontramos el numero en algun subindice subindice\n",
        "         System.out.println(\"El elemento \"+x+\" se encuentra en la posicion \"+subindice+\" del vector\");\n",
        "     }else{\n",
        "         System.out.println(\"El elemento \"+x+\" no se encuentra en el vector\");\n",
        "     }\n",
        "      \n",
        "    } \n",
        "} "
      ],
      "execution_count": 34,
      "outputs": [
        {
          "output_type": "stream",
          "text": [
            "Overwriting Busqueda_Secuencial.java\n"
          ],
          "name": "stdout"
        }
      ]
    },
    {
      "cell_type": "code",
      "metadata": {
        "id": "geLHpnbsPoXv",
        "colab_type": "code",
        "colab": {
          "base_uri": "https://localhost:8080/",
          "height": 428
        },
        "outputId": "c628374d-f1e1-4ec2-9319-9c7b6935cc30"
      },
      "source": [
        "!java Busqueda_Secuencial.java"
      ],
      "execution_count": 38,
      "outputs": [
        {
          "output_type": "stream",
          "text": [
            "Digite la cantidad de numeros/elementos del vector A\n",
            "10\n",
            "Digite el numero de 4 digitos 1\n",
            "1922\n",
            "Digite el numero de 4 digitos 2\n",
            "3224\n",
            "Digite el numero de 4 digitos 3\n",
            "5456\n",
            "Digite el numero de 4 digitos 4\n",
            "5787\n",
            "Digite el numero de 4 digitos 5\n",
            "6908\n",
            "Digite el numero de 4 digitos 6\n",
            "7780\n",
            "Digite el numero de 4 digitos 7\n",
            "9071\n",
            "Digite el numero de 4 digitos 8\n",
            "5587\n",
            "Digite el numero de 4 digitos 9\n",
            "3000\n",
            "Digite el numero de 4 digitos 10\n",
            "8999\n",
            "Digite el valor X que desea buscar en A\n",
            "9071\n",
            "El elemento 9071 se encuentra en la posicion 7 del vector\n"
          ],
          "name": "stdout"
        }
      ]
    },
    {
      "cell_type": "markdown",
      "metadata": {
        "id": "4112dJyjpi4c",
        "colab_type": "text"
      },
      "source": [
        "* Sea n la cantidad de elementos tipo real de un vector A, el cual debe ser leido, construya un algoritmo para ordenar e imprimir los elemento del vector.\n",
        "\n",
        "Asumiendo el vector A\n",
        "> 1|2|3|4|5\n",
        "> ---|---|---|---|---\n",
        "8.4|2.7|3.4|1.0|3.0\n",
        "\n",
        "Este se ordenaria de la siguiente forma\n",
        "\n",
        "> 1|2|3|4|5\n",
        "> ---|---|---|---|---\n",
        "1.0|2.7|3.0|3.4|8.4"
      ]
    },
    {
      "cell_type": "code",
      "metadata": {
        "id": "c3PnwYDnpuyB",
        "colab_type": "code",
        "colab": {
          "base_uri": "https://localhost:8080/",
          "height": 32
        },
        "outputId": "722ffe85-596b-42ac-dd1a-57d40927c2b7"
      },
      "source": [
        "%%writefile Ordenamiento_Vector.java\n",
        "import java.util.Scanner; \n",
        "class Ordenamiento_Vector\n",
        "{ \n",
        "    public static void main(String args[]) \n",
        "    { \n",
        "      Scanner s = new Scanner(System.in); // nuestra herramienta para leer datos\n",
        "      int i, indice_menor,j;  \n",
        "      int n;\n",
        "      double temp;\n",
        "      double A[] = new double[50]; \n",
        "\n",
        "      System.out.println(\"Digite la cantidad de elementos del vector A\");\n",
        "      n = s.nextInt();\n",
        "      i = 1;\n",
        "      while(i <= n){\n",
        "          System.out.println(\"Digite el numero \"+ i);\n",
        "          A[i] = s.nextDouble();\n",
        "          i = i+1;\n",
        "      }\n",
        "     // Ciclo que recorre el vector elemento a elemento\n",
        "     for(i = 1;i<=n;i = i+1){\n",
        "         indice_menor = i; // subindice que tendra la posicion del vector con el menor elemento\n",
        "         for(j = i+1; j<=n;j=j+1){ // Ciclo que recorre el vector desde la posicion i+1 hasta el final (n)\n",
        "             if(A[j]<A[indice_menor]){ // Buscamos el menor numero en el vector y guardamos su posicion\n",
        "                 indice_menor = j;\n",
        "             }\n",
        "         }\n",
        "        temp = A[indice_menor]; // Guardamos el menor numero del vector en temp\n",
        "        A[indice_menor] = A[i]; // remplazamos el menor valor del vector por el valor del indice i por el que vamos\n",
        "        A[i] = temp; // Guardamos en el indice i (posicion i del vector) el valor menor\n",
        "     }\n",
        "     for(i = 1; i<=n;i=i+1){\n",
        "         System.out.println(\"El vector en la posicion A[\"+i+\"] tiene el valor de \"+A[i]);\n",
        "     }\n",
        "    }\n",
        "}"
      ],
      "execution_count": 48,
      "outputs": [
        {
          "output_type": "stream",
          "text": [
            "Overwriting Ordenamiento_Vector.java\n"
          ],
          "name": "stdout"
        }
      ]
    },
    {
      "cell_type": "code",
      "metadata": {
        "id": "y7ipmrELtQyW",
        "colab_type": "code",
        "colab": {
          "base_uri": "https://localhost:8080/",
          "height": 296
        },
        "outputId": "b9187299-e1d3-4d13-9104-afe5a596f62b"
      },
      "source": [
        "!java Ordenamiento_Vector.java"
      ],
      "execution_count": 47,
      "outputs": [
        {
          "output_type": "stream",
          "text": [
            "Digite la cantidad de elementos del vector A\n",
            "5\n",
            "Digite el numero 1\n",
            "8.4\n",
            "Digite el numero 2\n",
            "2.7\n",
            "Digite el numero 3\n",
            "3.4\n",
            "Digite el numero 4\n",
            "1\n",
            "Digite el numero 5\n",
            "3\n",
            "El vector en la posicion A[1] tiene el valor de 1.0\n",
            "El vector en la posicion A[2] tiene el valor de 2.7\n",
            "El vector en la posicion A[3] tiene el valor de 3.0\n",
            "El vector en la posicion A[4] tiene el valor de 3.4\n",
            "El vector en la posicion A[5] tiene el valor de 8.4\n"
          ],
          "name": "stdout"
        }
      ]
    },
    {
      "cell_type": "markdown",
      "metadata": {
        "id": "d4Lw3HtzxguA",
        "colab_type": "text"
      },
      "source": [
        "### **Ejemplo Reto**\n",
        "\n"
      ]
    },
    {
      "cell_type": "markdown",
      "metadata": {
        "id": "CMrXN10TyEf6",
        "colab_type": "text"
      },
      "source": [
        "* Dado dos vectores A y B que contienen n y m información de numeros enteros respectivamente (n $\\geq$ m), diseñe un algoritmo que:\n",
        "1. calcule la union sin repetición de los dos vectores y lo guarde en un vector C (que debe ser mostrado al final).\n",
        "2. calcule la intersección de los dos vectores y lo guarde en un vector D (que debe ser mostrado al final).\n",
        "3. si n = m, que sume los dos vectores y el resultado lo guarde en un nuevo vector E (que debe ser mostrado al final).\n",
        "\n",
        "Nota: Puede asumir que los dos vectores son del mismo tipo.\n"
      ]
    },
    {
      "cell_type": "code",
      "metadata": {
        "id": "RdP66bHYxmxP",
        "colab_type": "code",
        "colab": {
          "base_uri": "https://localhost:8080/",
          "height": 32
        },
        "outputId": "0d6b0221-027b-4946-b11a-8cbc148c3b9a"
      },
      "source": [
        "%%writefile Ejemplo_Reto.java\n",
        "import java.util.Scanner; \n",
        "class Ejemplo_Reto\n",
        "{ \n",
        "    public static void main(String args[]) \n",
        "    { \n",
        "      Scanner s = new Scanner(System.in); // nuestra herramienta para leer datos\n",
        "      int i,j,subindice_union,subindice_inter;\n",
        "      int n,m;\n",
        "      boolean sw = false;\n",
        "      double A[] = new double[50];\n",
        "      double B[] = new double[50];\n",
        "      double C[] = new double[100];\n",
        "      double D[] = new double[100];\n",
        "      double E[] = new double[50];\n",
        "\n",
        "      System.out.println(\"Digite la cantidad de elementos del vector A\");\n",
        "      n = s.nextInt();\n",
        "      for(i=1;i<=n;i=i+1){\n",
        "          System.out.println(\"Digite el valor de la posicion \"+i+\" del vector A\");\n",
        "          A[i] = s.nextDouble();\n",
        "      }\n",
        "      System.out.println(\"Digite la cantidad de elementos del vector B\");\n",
        "      m = s.nextInt();\n",
        "      for(i=1;i<=m;i=i+1){\n",
        "          System.out.println(\"Digite el valor de la posicion \"+i+\" del vector B\");\n",
        "          B[i] = s.nextDouble();\n",
        "      }\n",
        "     // Primero calculemos la union de los dos vectores\n",
        "     // La forma mas sencilla de resolverlo es copiar todos los elementos de A en el vector C y despues ir mirando que elementos de B no estan en A y agregarlos a C\n",
        "    // Una forma optima en la que podemos copiar un vector en otro es asignandolo\n",
        "     C = A;\n",
        "     subindice_union = n; // Como C tiene todos los elementos de A si queremos agregar un nuevo elemento tiene que ser despues de la ultima posicion de A, es decir, despues de n\n",
        "     for (i=1;i<=m;i=i+1){ // este ciclo recorre cada elemento de B\n",
        "          sw = false;\n",
        "          j = 1;\n",
        "         while(j<=n && sw == false){ // este ciclo recorre los elemento de A mientras no sean iguales al elemento B[i]\n",
        "             if(A[j] == B[i]){ // si la condicion se cumple el elemento B[i] esta en A y por ende no tenemos que agregarlo a C\n",
        "                 sw = true;\n",
        "             }else{ // sino se cumple entonces nos movemos al siguiente elemento de A\n",
        "                 j = j +1;\n",
        "             }\n",
        "         }\n",
        "         if(sw == false){ // si la condicion se cumple, no encontramos a B[i] en A y debe agregarse a C\n",
        "            subindice_union = subindice_union+1;\n",
        "             C[subindice_union] = B[i];\n",
        "         }\n",
        "     }\n",
        "     // Ahora calculemos la interseccion de los dos vectores\n",
        "     // La formas mas sencilla de resolverlo es ir revisando si cada elemento de A esta en B, si lo esta lo guardamos en D, sino lo ignoramos\n",
        "     subindice_inter = 0; // iniciamos en 0 porque puede que la interseccion sea nula\n",
        "      for (i=1;i<=n;i = i+1){ // Recorremos cada elemento de A\n",
        "          for(j=1;j<=m;j=j+1){ // Recorremos cada elemento de B\n",
        "              if(A[i] == B[j]){ // Si la condicion se cumple debemos guardar A[i] en D[subindice_inter]\n",
        "                  subindice_inter = subindice_inter +1;\n",
        "                  D[subindice_inter] = A[i];\n",
        "              }\n",
        "          }\n",
        "      }\n",
        "      // Por ultimo, verifiquemos si A y B tienene la misma cantidad de elementos, de tenerlos, los sumaremos y guardaremos el resultado en E, sino, diremos que no se pueden sumar\n",
        "      if(n == m){\n",
        "        for (i=1;i<=n;i = i+1){ // Recorremos cada elemento de A y B simultaneamente\n",
        "            E[i] = A[i] + B [i];\n",
        "        }\n",
        "      }\n",
        "     // Mostremos los resultados\n",
        "     // Union\n",
        "     for(i=1;i<=subindice_union;i=i+1){\n",
        "         System.out.println(\"los elementos de la union de A y B son \"+C[i]);\n",
        "     }\n",
        "     // Interseccion\n",
        "     for(i=1;i<=subindice_inter;i=i+1){\n",
        "         System.out.println(\"los elementos de la interseccion de A y B son \"+D[i]);\n",
        "     }\n",
        "     // Suma\n",
        "     if(n == m){\n",
        "         System.out.println(\"Los vectores se pueden sumar, su resultado es \");\n",
        "      for(i=1;i<=n;i=i+1){\n",
        "          System.out.println(\"la suma de A y B para la posicion \"+i+\" es \"+E[i]);\n",
        "      }\n",
        "     }else{\n",
        "         System.out.println(\"Los tamaños de A y B no son iguales, no se pueden sumar\");\n",
        "     }\n",
        "    }\n",
        "}"
      ],
      "execution_count": 59,
      "outputs": [
        {
          "output_type": "stream",
          "text": [
            "Overwriting Ejemplo_Reto.java\n"
          ],
          "name": "stdout"
        }
      ]
    },
    {
      "cell_type": "code",
      "metadata": {
        "id": "sRYDRhE-54S1",
        "colab_type": "code",
        "colab": {
          "base_uri": "https://localhost:8080/",
          "height": 444
        },
        "outputId": "92c19c15-180e-4ceb-bced-196d9410342d"
      },
      "source": [
        "!java Ejemplo_Reto.java"
      ],
      "execution_count": 63,
      "outputs": [
        {
          "output_type": "stream",
          "text": [
            "Digite la cantidad de elementos del vector A\n",
            "3\n",
            "Digite el valor de la posicion 1 del vector A\n",
            "1\n",
            "Digite el valor de la posicion 2 del vector A\n",
            "2\n",
            "Digite el valor de la posicion 3 del vector A\n",
            "3\n",
            "Digite la cantidad de elementos del vector B\n",
            "3\n",
            "Digite el valor de la posicion 1 del vector B\n",
            "1\n",
            "Digite el valor de la posicion 2 del vector B\n",
            "4\n",
            "Digite el valor de la posicion 3 del vector B\n",
            "5\n",
            "los elementos de la union de A y B son 1.0\n",
            "los elementos de la union de A y B son 2.0\n",
            "los elementos de la union de A y B son 3.0\n",
            "los elementos de la union de A y B son 4.0\n",
            "los elementos de la union de A y B son 5.0\n",
            "los elementos de la interseccion de A y B son 1.0\n",
            "Los vectores se pueden sumar, su resultado es \n",
            "la suma de A y B para la posicion 1 es 2.0\n",
            "la suma de A y B para la posicion 2 es 6.0\n",
            "la suma de A y B para la posicion 3 es 8.0\n"
          ],
          "name": "stdout"
        }
      ]
    },
    {
      "cell_type": "markdown",
      "metadata": {
        "id": "SQnHMWe9y7F3",
        "colab_type": "text"
      },
      "source": [
        "### **Ejercicios propuestos**"
      ]
    },
    {
      "cell_type": "markdown",
      "metadata": {
        "id": "ghbDv65xzATy",
        "colab_type": "text"
      },
      "source": [
        "* Dado dos vectores A y B, diseñe un algoritmo que calcule la multiplicacion elemento a elemento, y guarde el resultado en un vector C.\n",
        "* Dado un vector A con n elementos, diseñe un algoritmo que calcule cuantos elementos se repiten en el vector.\n",
        "* Dado dos vectores A y B de igual tamaño, diseñe un algoritmo que calcule el porcentaje de semejanza de los dos vectores.\n",
        "* Dado dos vectores A y B, diseñe un algoritmo que verifique si un vector esta contenido dentro de otro."
      ]
    }
  ]
}